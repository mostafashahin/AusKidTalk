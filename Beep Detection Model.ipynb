{
 "cells": [
  {
   "cell_type": "code",
   "execution_count": 1,
   "metadata": {},
   "outputs": [],
   "source": [
    "import os, glob\n",
    "import pandas as pd\n",
    "import numpy as np\n",
    "from collections import defaultdict\n",
    "import wave, struct\n",
    "import matplotlib.pyplot as plt\n",
    "import pyAudioAnalysis.pyAudioAnalysis.ShortTermFeatures as sF\n",
    "from sklearn.preprocessing import MinMaxScaler, StandardScaler\n",
    "from sklearn.model_selection import train_test_split, LeaveOneGroupOut\n",
    "from sklearn import svm\n",
    "from sklearn.metrics import classification_report, confusion_matrix\n",
    "from sklearn.model_selection import GridSearchCV\n",
    "from sklearn.pipeline import Pipeline\n",
    "from joblib import dump, load\n",
    "from scipy.signal import find_peaks"
   ]
  },
  {
   "cell_type": "code",
   "execution_count": 3,
   "metadata": {},
   "outputs": [],
   "source": [
    "#Flags\n",
    "use_delta = False\n",
    "fWindowSize = 0.02\n",
    "fStepSize = 0.01\n",
    "Context = (-2,-1,0,1,2)\n",
    "working_dir = 'egs/BeepDetModel_19-8/'\n",
    "egs_dir = os.path.join(working_dir,'egs')\n",
    "nFeatures = 68 if use_delta else 34"
   ]
  },
  {
   "cell_type": "markdown",
   "metadata": {},
   "source": [
    "## Feature Extraction"
   ]
  },
  {
   "cell_type": "code",
   "execution_count": 77,
   "metadata": {},
   "outputs": [],
   "source": [
    "#Load CSV file in dictionary of key=filename, value=[(start_beep_time,end_beep_time),]\n",
    "dBeepTimes = defaultdict(list)\n",
    "sBeepTimesCSVFile = '../../Recordings/Beep_Times.csv'\n",
    "Beep_Times = pd.read_csv(sBeepTimesCSVFile,header=None)\n",
    "for index, row in Beep_Times.iterrows():\n",
    "    sWavFile = row[0]\n",
    "    i = 1\n",
    "    while i <= row.size-1:\n",
    "        #print(i)\n",
    "        if not np.isnan(row[i]):\n",
    "            dBeepTimes[sWavFile].append((row[i],row[i+1]))\n",
    "            i += 2\n",
    "        else:\n",
    "            i += 1"
   ]
  },
  {
   "cell_type": "code",
   "execution_count": 7,
   "metadata": {
    "scrolled": false
   },
   "outputs": [
    {
     "name": "stdout",
     "output_type": "stream",
     "text": [
      "Processing /media/Windows/root/AusKidTalk/Recordings/9_jan_2020/Primary_07-01.wav from fram 577710 to 621810 samples (99, 171)\n",
      "375 NonBeep random samples selected\n",
      "File /media/Windows/root/AusKidTalk/Recordings/9_jan_2020/Primary_07-01.wav, Total Number of Beep Samples 99, Total Number of NonBeep Samples 18375\n",
      "Processing /media/Windows/root/AusKidTalk/Recordings/9_jan_2020/Testing_with_Mostafa_kids/Primary_04-01.wav from fram 1539530 to 1583630 samples (99, 171)\n",
      "Processing /media/Windows/root/AusKidTalk/Recordings/9_jan_2020/Testing_with_Mostafa_kids/Primary_04-01.wav from fram 8574583 to 8618683 samples (99, 171)\n",
      "Processing /media/Windows/root/AusKidTalk/Recordings/9_jan_2020/Testing_with_Mostafa_kids/Primary_04-01.wav from fram 14655223 to 14699323 samples (99, 171)\n",
      "Processing /media/Windows/root/AusKidTalk/Recordings/9_jan_2020/Testing_with_Mostafa_kids/Primary_04-01.wav from fram 46328725 to 46372825 samples (99, 171)\n",
      "Processing /media/Windows/root/AusKidTalk/Recordings/9_jan_2020/Testing_with_Mostafa_kids/Primary_04-01.wav from fram 46989917 to 47034017 samples (99, 171)\n",
      "Processing /media/Windows/root/AusKidTalk/Recordings/9_jan_2020/Testing_with_Mostafa_kids/Primary_04-01.wav from fram 55920211 to 55964311 samples (99, 171)\n",
      "Processing /media/Windows/root/AusKidTalk/Recordings/9_jan_2020/Testing_with_Mostafa_kids/Primary_04-01.wav from fram 59876069 to 59920169 samples (99, 171)\n",
      "Processing /media/Windows/root/AusKidTalk/Recordings/9_jan_2020/Testing_with_Mostafa_kids/Primary_04-01.wav from fram 61419525 to 61468035 samples (109, 171)\n",
      "Processing /media/Windows/root/AusKidTalk/Recordings/9_jan_2020/Testing_with_Mostafa_kids/Primary_04-01.wav from fram 62738159 to 62782259 samples (99, 171)\n",
      "369 NonBeep random samples selected\n",
      "File /media/Windows/root/AusKidTalk/Recordings/9_jan_2020/Testing_with_Mostafa_kids/Primary_04-01.wav, Total Number of Beep Samples 901, Total Number of NonBeep Samples 18081\n",
      "Processing /media/Windows/root/AusKidTalk/Recordings/10_March_2020/Audio 1_01-01.wav from fram 317961 to 362061 samples (99, 171)\n",
      "Processing /media/Windows/root/AusKidTalk/Recordings/10_March_2020/Audio 1_01-01.wav from fram 12317130 to 12361230 samples (99, 171)\n",
      "Processing /media/Windows/root/AusKidTalk/Recordings/10_March_2020/Audio 1_01-01.wav from fram 16785342 to 16829442 samples (99, 171)\n",
      "375 NonBeep random samples selected\n",
      "File /media/Windows/root/AusKidTalk/Recordings/10_March_2020/Audio 1_01-01.wav, Total Number of Beep Samples 297, Total Number of NonBeep Samples 18375\n",
      "Processing /media/Windows/root/AusKidTalk/Recordings/24_jan_2020/child_2_2/Primary_03-01.wav from fram 20402379 to 20446479 samples (99, 171)\n",
      "Processing /media/Windows/root/AusKidTalk/Recordings/24_jan_2020/child_2_2/Primary_03-01.wav from fram 26398701 to 26442801 samples (99, 171)\n",
      "374 NonBeep random samples selected\n",
      "File /media/Windows/root/AusKidTalk/Recordings/24_jan_2020/child_2_2/Primary_03-01.wav, Total Number of Beep Samples 198, Total Number of NonBeep Samples 18326\n",
      "Processing /media/Windows/root/AusKidTalk/Recordings/24_jan_2020/Child1/Primary_01-01.wav from fram 744849 to 788949 samples (99, 171)\n",
      "Processing /media/Windows/root/AusKidTalk/Recordings/24_jan_2020/Child1/Primary_01-01.wav from fram 6730101 to 6774201 samples (99, 171)\n",
      "374 NonBeep random samples selected\n",
      "File /media/Windows/root/AusKidTalk/Recordings/24_jan_2020/Child1/Primary_01-01.wav, Total Number of Beep Samples 198, Total Number of NonBeep Samples 18326\n",
      "Processing /media/Windows/root/AusKidTalk/Recordings/24_jan_2020/Child2/Primary_02-01.wav from fram 181692 to 225792 samples (99, 171)\n",
      "Processing /media/Windows/root/AusKidTalk/Recordings/24_jan_2020/Child2/Primary_02-01.wav from fram 22322405 to 22366505 samples (99, 171)\n",
      "Processing /media/Windows/root/AusKidTalk/Recordings/24_jan_2020/Child2/Primary_02-01.wav from fram 35277795 to 35321895 samples (99, 171)\n",
      "Processing /media/Windows/root/AusKidTalk/Recordings/24_jan_2020/Child2/Primary_02-01.wav from fram 38533698 to 38577798 samples (99, 171)\n",
      "Processing /media/Windows/root/AusKidTalk/Recordings/24_jan_2020/Child2/Primary_02-01.wav from fram 63193095 to 63237195 samples (99, 171)\n",
      "Processing /media/Windows/root/AusKidTalk/Recordings/24_jan_2020/Child2/Primary_02-01.wav from fram 64800981 to 64845081 samples (99, 171)\n",
      "372 NonBeep random samples selected\n",
      "File /media/Windows/root/AusKidTalk/Recordings/24_jan_2020/Child2/Primary_02-01.wav, Total Number of Beep Samples 594, Total Number of NonBeep Samples 18228\n",
      "Processing /media/Windows/root/AusKidTalk/Recordings/28_jul_2020/81 3_2_0/81 Primary_13-01.wav from fram 1352106 to 1396206 samples (99, 171)\n",
      "Processing /media/Windows/root/AusKidTalk/Recordings/28_jul_2020/81 3_2_0/81 Primary_13-01.wav from fram 24380596 to 24424696 samples (99, 171)\n",
      "Processing /media/Windows/root/AusKidTalk/Recordings/28_jul_2020/81 3_2_0/81 Primary_13-01.wav from fram 58862475 to 58906575 samples (99, 171)\n",
      "Processing /media/Windows/root/AusKidTalk/Recordings/28_jul_2020/81 3_2_0/81 Primary_13-01.wav from fram 98161749 to 98205849 samples (99, 171)\n",
      "Processing /media/Windows/root/AusKidTalk/Recordings/28_jul_2020/81 3_2_0/81 Primary_13-01.wav from fram 99178033 to 99222133 samples (99, 171)\n",
      "Processing /media/Windows/root/AusKidTalk/Recordings/28_jul_2020/81 3_2_0/81 Primary_13-01.wav from fram 121041666 to 121085766 samples (99, 171)\n",
      "Processing /media/Windows/root/AusKidTalk/Recordings/28_jul_2020/81 3_2_0/81 Primary_13-01.wav from fram 150082707 to 150126807 samples (99, 171)\n",
      "371 NonBeep random samples selected\n",
      "File /media/Windows/root/AusKidTalk/Recordings/28_jul_2020/81 3_2_0/81 Primary_13-01.wav, Total Number of Beep Samples 693, Total Number of NonBeep Samples 18179\n",
      "Processing /media/Windows/root/AusKidTalk/Recordings/13_aug_2020/90 3_2_0/90 Primary_15-01.wav from fram 4562894 to 4606994 samples (99, 171)\n",
      "Processing /media/Windows/root/AusKidTalk/Recordings/13_aug_2020/90 3_2_0/90 Primary_15-01.wav from fram 22140184 to 22184505 samples (99, 171)\n",
      "Processing /media/Windows/root/AusKidTalk/Recordings/13_aug_2020/90 3_2_0/90 Primary_15-01.wav from fram 53932977 to 53977077 samples (99, 171)\n",
      "Processing /media/Windows/root/AusKidTalk/Recordings/13_aug_2020/90 3_2_0/90 Primary_15-01.wav from fram 97797483 to 97841583 samples (99, 171)\n",
      "Processing /media/Windows/root/AusKidTalk/Recordings/13_aug_2020/90 3_2_0/90 Primary_15-01.wav from fram 118314831 to 118358931 samples (99, 171)\n",
      "375 NonBeep random samples selected\n",
      "File /media/Windows/root/AusKidTalk/Recordings/13_aug_2020/90 3_2_0/90 Primary_15-01.wav, Total Number of Beep Samples 495, Total Number of NonBeep Samples 18375\n"
     ]
    }
   ],
   "source": [
    "#Load each wav file, split to frames and extract features\n",
    "testFileNames = ['/media/Windows/root/AusKidTalk/Recordings/28_jul_2020/81 3_2_0/81 Primary_13-01.wav']\n",
    "#working_dir = 'egs/BeepDetModel'\n",
    "#egs_dir = os.path.join(working_dir,'egs')\n",
    "\n",
    "os.makedirs(egs_dir)\n",
    "\n",
    "use_delta = False\n",
    "fWindowSize = 0.02\n",
    "fStepSize = 0.01\n",
    "Context = (-2,-1,0,1,2)\n",
    "\n",
    "nFeatures = 68 if use_delta else 34\n",
    "\n",
    "nNonBeepSamples = 3000\n",
    "\n",
    "#data_beep = np.zeros((1000000,len(Context)*nFeatures+1),dtype=float) #Num Features + 1 for file index \n",
    "#data_NonBeep = np.zeros((1000000,len(Context)*nFeatures+1),dtype=float)\n",
    "\n",
    "\n",
    "alldata = []\n",
    "nNonBeepPerFile = int(nNonBeepSamples/len(dBeepTimes))\n",
    "FileIndx = 0\n",
    "\n",
    "#Get number of padded rows for context\n",
    "nPostPad = max(Context)\n",
    "nPrePad = abs(min(Context))\n",
    "\n",
    "for sWavFile in dBeepTimes:\n",
    "    data_beep = np.zeros((1000000,len(Context)*nFeatures+1),dtype=float) #Num Features + 1 for file index and (1 or 0) for beep and nonbeep samples \n",
    "    data_NonBeep = np.zeros((1000000,len(Context)*nFeatures+1),dtype=float)\n",
    "    iBeepPointer = 0\n",
    "    iNonBeepPointer = 0\n",
    "\n",
    "    #if WavFile in testFileNames:\n",
    "    #   continue\n",
    "    iCurrSample = 0\n",
    "    with wave.open(sWavFile) as fWav:\n",
    "        #Make sure that the sampling size is 16 bit\n",
    "        assert fWav.getsampwidth() == 2, 'Only 16 bit resolution supported'\n",
    "        \n",
    "        iFrameRate = fWav.getframerate()\n",
    "        nTotalFrames = fWav.getnframes()\n",
    "        lNonBeepFramesIndxs = []\n",
    "        \n",
    "        #Read beep samples\n",
    "        for fStartTime, fEndTime in dBeepTimes[sWavFile]:\n",
    "            iStartFram = int(fStartTime * iFrameRate)\n",
    "            iEndFram = int(fEndTime * iFrameRate)\n",
    "            \n",
    "            if iCurrSample <= iStartFram-2*iFrameRate:\n",
    "                lNonBeepFramesIndxs.append((iCurrSample,iStartFram-iFrameRate))#Get all non Beep samples we leave 1 second before the start of beep\n",
    "                iCurrSample = iEndFram + iFrameRate\n",
    "            \n",
    "            nFrames = iEndFram - iStartFram\n",
    "            fWav.setpos(iStartFram)\n",
    "            \n",
    "            data = fWav.readframes(nFrames)\n",
    "            data = [ i[0] for i in struct.iter_unpack('h',data)]\n",
    "            data = np.asarray(data)\n",
    "            \n",
    "            aFeatures, lFeatures_names = sF.feature_extraction(data,iFrameRate,int(fWindowSize*iFrameRate),int(fStepSize*iFrameRate),deltas=use_delta)\n",
    "            \n",
    "            aFeatures = aFeatures.T\n",
    "            #Handle context\n",
    "            aPostPad = np.zeros((nPostPad,aFeatures.shape[1]))\n",
    "            aPrePad = np.zeros((nPrePad,aFeatures.shape[1]))\n",
    "            \n",
    "            aFeatures_pad = np.r_[aPrePad,aFeatures,aPostPad]\n",
    "            \n",
    "            aShiftVer = [np.roll(aFeatures_pad, i, axis=0) for i in Context[::-1]]\n",
    "            \n",
    "            aFeatures_beep = np.concatenate(aShiftVer,axis=1)[0+nPrePad:-nPostPad]\n",
    "            aFeatures_beep = np.c_[aFeatures_beep,np.zeros(aFeatures_beep.shape[0])+FileIndx]\n",
    "                        \n",
    "            data_beep[iBeepPointer:iBeepPointer+aFeatures_beep.shape[0]] = aFeatures_beep\n",
    "            \n",
    "            iBeepPointer += aFeatures_beep.shape[0]\n",
    "            print(\"Processing {0} from fram {1} to {2} samples {3}\".format(sWavFile,iStartFram,iEndFram,aFeatures_beep.shape))\n",
    "        \n",
    "        #Get Random non-beep samples\n",
    "        nNonBeepSegments = len(lNonBeepFramesIndxs)\n",
    "        nNonBeepPerSegment = int(nNonBeepPerFile/nNonBeepSegments)\n",
    "        lSamples = []\n",
    "        for iStart, iEnd in lNonBeepFramesIndxs:\n",
    "            lSamples.extend(np.random.choice(range(iStart,iEnd),nNonBeepPerSegment,replace=False))\n",
    "        print(\"{0} NonBeep random samples selected\".format(len(lSamples)))\n",
    "        i = 0\n",
    "        for iSample in lSamples:\n",
    "            i += 1\n",
    "            #print(\"{0}/{1}\".format(i,len(lSamples)))\n",
    "            fWav.setpos(iSample)\n",
    "            \n",
    "            data = fWav.readframes(int(0.5*iFrameRate))\n",
    "            data = [ i[0] for i in struct.iter_unpack('h',data)]\n",
    "            data = np.asarray(data)\n",
    "            \n",
    "            aFeatures, lFeatures_names = sF.feature_extraction(data,iFrameRate,int(fWindowSize*iFrameRate),int(fStepSize*iFrameRate),deltas=use_delta)\n",
    "            \n",
    "            aFeatures = aFeatures.T\n",
    "            #Handle context\n",
    "            aPostPad = np.zeros((nPostPad,aFeatures.shape[1]))\n",
    "            aPrePad = np.zeros((nPrePad,aFeatures.shape[1]))\n",
    "            \n",
    "            aFeatures_pad = np.r_[aPrePad,aFeatures,aPostPad]\n",
    "            \n",
    "            aShiftVer = [np.roll(aFeatures_pad, i, axis=0) for i in Context[::-1]]\n",
    "            \n",
    "            aFeatures_NonBeep = np.concatenate(aShiftVer,axis=1)[0+nPrePad:-nPostPad]\n",
    "            aFeatures_NonBeep = np.c_[aFeatures_NonBeep,np.zeros(aFeatures_NonBeep.shape[0])+FileIndx]\n",
    "            \n",
    "            data_NonBeep[iNonBeepPointer:iNonBeepPointer+aFeatures_NonBeep.shape[0]] = aFeatures_NonBeep\n",
    "            \n",
    "            iNonBeepPointer += aFeatures_NonBeep.shape[0]\n",
    "    data_beep = data_beep[:iBeepPointer]\n",
    "    data_NonBeep = data_NonBeep[:iNonBeepPointer]\n",
    "    data_beep = np.c_[data_beep,np.ones(data_beep.shape[0],dtype=int)]\n",
    "    data_NonBeep = np.c_[data_NonBeep,np.zeros(data_NonBeep.shape[0],dtype=int)]\n",
    "    data = np.r_[data_beep, data_NonBeep]\n",
    "\n",
    "    print(\"File {2}, Total Number of Beep Samples {0}, Total Number of NonBeep Samples {1}\".format(data_beep.shape[0],data_NonBeep.shape[0],sWavFile))\n",
    "    np.save(os.path.join(egs_dir,'egs_{1}_{0}'.format(FileIndx,len(Context))),data)\n",
    "          \n",
    "    FileIndx += 1\n",
    "    \n",
    "#data_beep = data_beep[:iBeepPointer]\n",
    "#data_NonBeep = data_NonBeep[:iNonBeepPointer]\n",
    "#Add label column\n"
   ]
  },
  {
   "cell_type": "markdown",
   "metadata": {},
   "source": [
    "## Analyze Features"
   ]
  },
  {
   "cell_type": "code",
   "execution_count": 66,
   "metadata": {},
   "outputs": [],
   "source": [
    "#Get egs data\n",
    "legs = glob.glob(os.path.join(egs_dir,'*.npy'))\n",
    "assert len(legs) > 0, 'No egs'\n",
    "\n",
    "#Load data from egs directory\n",
    "data = np.concatenate([np.load(file) for file in legs],axis=0)\n",
    "\n",
    "#Put features without context in DataFram\n",
    "left_context = abs(min(Context))\n",
    "right_context = max(Context)\n",
    "data_NoContxt = np.c_[data[:,left_context*nFeatures:(left_context+1)*nFeatures], data[:,-2:]]\n",
    "pdData = pd.DataFrame(data=data_NoContxt,columns=lFeatures_names+['FileIndx','label'])"
   ]
  },
  {
   "cell_type": "code",
   "execution_count": 68,
   "metadata": {},
   "outputs": [
    {
     "data": {
      "text/plain": [
       "<matplotlib.axes._subplots.AxesSubplot at 0x7f82a5c73950>"
      ]
     },
     "execution_count": 68,
     "metadata": {},
     "output_type": "execute_result"
    },
    {
     "data": {
      "image/png": "[encoded data removed]",
      "text/plain": [
       "<Figure size 432x288 with 2 Axes>"
      ]
     },
     "metadata": {
      "needs_background": "light"
     },
     "output_type": "display_data"
    }
   ],
   "source": [
    "#Plot Data\n",
    "pdData = pdData.astype({'label':int,'FileIndx':int})\n",
    "pdData.plot.scatter(lFeatures_names[0],lFeatures_names[7],c='label',colormap='viridis')"
   ]
  },
  {
   "cell_type": "markdown",
   "metadata": {},
   "source": [
    "## Building Classification Model"
   ]
  },
  {
   "cell_type": "code",
   "execution_count": 46,
   "metadata": {},
   "outputs": [
    {
     "name": "stdout",
     "output_type": "stream",
     "text": [
      "8\n",
      "(149740, 170) (149740,)\n"
     ]
    }
   ],
   "source": [
    "#Data Selection\n",
    "#Load data from numpy pickle\n",
    "#Get egs data\n",
    "legs = glob.glob(os.path.join(egs_dir,'*.npy'))\n",
    "assert len(legs) > 0, 'No egs'\n",
    "\n",
    "#Load data from egs directory\n",
    "data = np.concatenate([np.load(file) for file in legs],axis=0)\n",
    "X = data[:,:-2]\n",
    "y = data[:,-1].astype(int)\n",
    "groups = data[:,-2].astype(int)\n",
    "\n",
    "#Split data where one recording out\n",
    "spliter = LeaveOneGroupOut()\n",
    "print(spliter.get_n_splits(X,y,groups))\n",
    "print(X.shape,y.shape)\n",
    "\n",
    "\n",
    "#Start with random split\n",
    "X_train, X_test, y_train, y_test = train_test_split(X,y,test_size=0.3,random_state=0)"
   ]
  },
  {
   "cell_type": "code",
   "execution_count": 4,
   "metadata": {},
   "outputs": [],
   "source": [
    "#Data Normalizatio\n",
    "scaler = StandardScaler()\n",
    "scaler.fit(X_train)\n",
    "X_train_std = scaler.transform(X_train)\n",
    "X_test_std = scaler.transform(X_test)"
   ]
  },
  {
   "cell_type": "code",
   "execution_count": 5,
   "metadata": {},
   "outputs": [
    {
     "name": "stdout",
     "output_type": "stream",
     "text": [
      "              precision    recall  f1-score   support\n",
      "\n",
      "           0       1.00      1.00      1.00     43906\n",
      "           1       0.98      0.95      0.96      1016\n",
      "\n",
      "    accuracy                           1.00     44922\n",
      "   macro avg       0.99      0.98      0.98     44922\n",
      "weighted avg       1.00      1.00      1.00     44922\n",
      "\n",
      "[[43883    23]\n",
      " [   50   966]]\n"
     ]
    }
   ],
   "source": [
    "#Train SVM model simple Linear model\n",
    "clf = svm.SVC(kernel='rbf',C=100, gamma=1e-3, class_weight='balanced')\n",
    "clf.fit(X_train_std,y_train)\n",
    "y_pred = clf.predict(X_test_std)\n",
    "print(classification_report(y_test,y_pred))\n",
    "print(confusion_matrix(y_test,y_pred))"
   ]
  },
  {
   "cell_type": "code",
   "execution_count": 4,
   "metadata": {},
   "outputs": [
    {
     "name": "stdout",
     "output_type": "stream",
     "text": [
      "********Split 0 with 131266 training examples and 18474 testing examples\n",
      "**************Results of split  0\n",
      "              precision    recall  f1-score   support\n",
      "\n",
      "           0       1.00      1.00      1.00     18375\n",
      "           1       0.87      0.96      0.91        99\n",
      "\n",
      "    accuracy                           1.00     18474\n",
      "   macro avg       0.94      0.98      0.96     18474\n",
      "weighted avg       1.00      1.00      1.00     18474\n",
      "\n",
      "[[18361    14]\n",
      " [    4    95]]\n",
      "********Split 1 with 130758 training examples and 18982 testing examples\n",
      "**************Results of split  1\n",
      "              precision    recall  f1-score   support\n",
      "\n",
      "           0       0.99      1.00      0.99     18081\n",
      "           1       0.93      0.79      0.86       901\n",
      "\n",
      "    accuracy                           0.99     18982\n",
      "   macro avg       0.96      0.90      0.92     18982\n",
      "weighted avg       0.99      0.99      0.99     18982\n",
      "\n",
      "[[18026    55]\n",
      " [  185   716]]\n",
      "********Split 2 with 131068 training examples and 18672 testing examples\n",
      "**************Results of split  2\n",
      "              precision    recall  f1-score   support\n",
      "\n",
      "           0       1.00      1.00      1.00     18375\n",
      "           1       0.90      0.88      0.89       297\n",
      "\n",
      "    accuracy                           1.00     18672\n",
      "   macro avg       0.95      0.94      0.94     18672\n",
      "weighted avg       1.00      1.00      1.00     18672\n",
      "\n",
      "[[18346    29]\n",
      " [   37   260]]\n",
      "********Split 3 with 131216 training examples and 18524 testing examples\n",
      "**************Results of split  3\n",
      "              precision    recall  f1-score   support\n",
      "\n",
      "           0       1.00      1.00      1.00     18326\n",
      "           1       0.90      0.90      0.90       198\n",
      "\n",
      "    accuracy                           1.00     18524\n",
      "   macro avg       0.95      0.95      0.95     18524\n",
      "weighted avg       1.00      1.00      1.00     18524\n",
      "\n",
      "[[18305    21]\n",
      " [   19   179]]\n",
      "********Split 4 with 131216 training examples and 18524 testing examples\n",
      "**************Results of split  4\n",
      "              precision    recall  f1-score   support\n",
      "\n",
      "           0       1.00      1.00      1.00     18326\n",
      "           1       0.92      0.91      0.91       198\n",
      "\n",
      "    accuracy                           1.00     18524\n",
      "   macro avg       0.96      0.95      0.96     18524\n",
      "weighted avg       1.00      1.00      1.00     18524\n",
      "\n",
      "[[18310    16]\n",
      " [   18   180]]\n",
      "********Split 5 with 130918 training examples and 18822 testing examples\n",
      "**************Results of split  5\n",
      "              precision    recall  f1-score   support\n",
      "\n",
      "           0       1.00      1.00      1.00     18228\n",
      "           1       0.97      0.93      0.95       594\n",
      "\n",
      "    accuracy                           1.00     18822\n",
      "   macro avg       0.98      0.96      0.97     18822\n",
      "weighted avg       1.00      1.00      1.00     18822\n",
      "\n",
      "[[18209    19]\n",
      " [   43   551]]\n",
      "********Split 6 with 130868 training examples and 18872 testing examples\n",
      "**************Results of split  6\n",
      "              precision    recall  f1-score   support\n",
      "\n",
      "           0       1.00      1.00      1.00     18179\n",
      "           1       0.92      0.89      0.90       693\n",
      "\n",
      "    accuracy                           0.99     18872\n",
      "   macro avg       0.96      0.94      0.95     18872\n",
      "weighted avg       0.99      0.99      0.99     18872\n",
      "\n",
      "[[18125    54]\n",
      " [   79   614]]\n",
      "********Split 7 with 130870 training examples and 18870 testing examples\n",
      "**************Results of split  7\n",
      "              precision    recall  f1-score   support\n",
      "\n",
      "           0       1.00      1.00      1.00     18375\n",
      "           1       0.99      0.98      0.98       495\n",
      "\n",
      "    accuracy                           1.00     18870\n",
      "   macro avg       0.99      0.99      0.99     18870\n",
      "weighted avg       1.00      1.00      1.00     18870\n",
      "\n",
      "[[18370     5]\n",
      " [   12   483]]\n"
     ]
    }
   ],
   "source": [
    "#Split where one recording for test and others for training\n",
    "iSplit=0\n",
    "for train_index, test_index in spliter.split(X,y,groups):\n",
    "    X_train, X_test, y_train, y_test = X[train_index], X[test_index], y[train_index], y[test_index]\n",
    "    print('********Split {0} with {1} training examples and {2} testing examples'.format(iSplit,y_train.shape[0],y_test.shape[0]))\n",
    "    #Data Normalizatio\n",
    "    scaler = StandardScaler()\n",
    "    scaler.fit(X_train)\n",
    "    X_train_std = scaler.transform(X_train)\n",
    "    X_test_std = scaler.transform(X_test)\n",
    "    #Train SVM model \n",
    "    clf = svm.SVC(kernel='rbf',C=100, gamma=1e-3, class_weight='balanced')\n",
    "    clf.fit(X_train_std,y_train)\n",
    "    y_pred = clf.predict(X_test_std)\n",
    "    print('**************Results of split ',iSplit)\n",
    "    print(classification_report(y_test,y_pred))\n",
    "    print(confusion_matrix(y_test,y_pred))\n",
    "    iSplit += 1"
   ]
  },
  {
   "cell_type": "code",
   "execution_count": 6,
   "metadata": {},
   "outputs": [
    {
     "name": "stdout",
     "output_type": "stream",
     "text": [
      "# Tuning hyper-parameters for recall\n",
      "\n",
      "Fitting 8 folds for each of 8 candidates, totalling 64 fits\n"
     ]
    },
    {
     "name": "stderr",
     "output_type": "stream",
     "text": [
      "[Parallel(n_jobs=3)]: Using backend LokyBackend with 3 concurrent workers.\n",
      "[Parallel(n_jobs=3)]: Done  12 tasks      | elapsed: 63.6min\n",
      "/home/mostafa/anaconda3/lib/python3.7/site-packages/joblib/externals/loky/process_executor.py:706: UserWarning: A worker stopped while some jobs were given to the executor. This can be caused by a too short worker timeout or by a memory leak.\n",
      "  \"timeout or by a memory leak.\", UserWarning\n",
      "[Parallel(n_jobs=3)]: Done  64 out of  64 | elapsed: 260.0min finished\n"
     ]
    },
    {
     "name": "stdout",
     "output_type": "stream",
     "text": [
      "Best parameters set found on development set:\n",
      "\n",
      "{'svc__C': 1, 'svc__gamma': 0.001, 'svc__kernel': 'rbf'}\n",
      "\n",
      "Grid scores on development set:\n",
      "\n",
      "0.971 (+/-0.059) for {'svc__C': 1, 'svc__gamma': 0.001, 'svc__kernel': 'rbf'}\n",
      "0.964 (+/-0.064) for {'svc__C': 1, 'svc__gamma': 0.0001, 'svc__kernel': 'rbf'}\n",
      "0.964 (+/-0.059) for {'svc__C': 10, 'svc__gamma': 0.001, 'svc__kernel': 'rbf'}\n",
      "0.971 (+/-0.057) for {'svc__C': 10, 'svc__gamma': 0.0001, 'svc__kernel': 'rbf'}\n",
      "0.951 (+/-0.053) for {'svc__C': 100, 'svc__gamma': 0.001, 'svc__kernel': 'rbf'}\n",
      "0.969 (+/-0.053) for {'svc__C': 100, 'svc__gamma': 0.0001, 'svc__kernel': 'rbf'}\n",
      "0.951 (+/-0.052) for {'svc__C': 1000, 'svc__gamma': 0.001, 'svc__kernel': 'rbf'}\n",
      "0.962 (+/-0.052) for {'svc__C': 1000, 'svc__gamma': 0.0001, 'svc__kernel': 'rbf'}\n"
     ]
    }
   ],
   "source": [
    "#Parameter Tuning CV with Pipeline\n",
    "pipeLine = Pipeline([('scaler',StandardScaler()),('svc',svm.SVC(class_weight='balanced'))])\n",
    "tuned_parameters = [{'svc__kernel': ['rbf'], 'svc__gamma': [1e-3, 1e-4],\n",
    "                     'svc__C': [1, 10, 100, 1000]}]\n",
    "score = 'recall'\n",
    "print(\"# Tuning hyper-parameters for {0}\\n\".format(score))\n",
    "\n",
    "cv = spliter.split(X,y,groups)\n",
    "\n",
    "clf = GridSearchCV(pipeLine, param_grid=tuned_parameters, \n",
    "                   scoring=\"{0}_macro\".format(score), n_jobs=3, verbose=5, cv=cv)\n",
    "\n",
    "clf.fit(X, y)\n",
    "\n",
    "print(\"Best parameters set found on development set:\")\n",
    "print()\n",
    "print(clf.best_params_)\n",
    "print()\n",
    "print(\"Grid scores on development set:\")\n",
    "print()\n",
    "means = clf.cv_results_['mean_test_score']\n",
    "stds = clf.cv_results_['std_test_score']\n",
    "for mean, std, params in zip(means, stds, clf.cv_results_['params']):\n",
    "    print(\"%0.3f (+/-%0.03f) for %r\"\n",
    "          % (mean, std * 2, params))\n",
    "#print()\n",
    "#print(\"Detailed classification report:\")\n",
    "#print()\n",
    "#print(\"The model is trained on the full development set.\")\n",
    "#print(\"The scores are computed on the full evaluation set.\")\n",
    "#print()\n",
    "#y_true, y_pred = y_test, clf.predict(X)\n",
    "#print(classification_report(y_true, y_pred))\n",
    "#print()"
   ]
  },
  {
   "cell_type": "code",
   "execution_count": null,
   "metadata": {},
   "outputs": [],
   "source": [
    "#Parameter Tuning (random CV splitting, no pipeline)\n",
    "tuned_parameters = [{'kernel': ['rbf'], 'gamma': [1e-3, 1e-4],\n",
    "                     'C': [1, 10, 100, 1000]},\n",
    "                    {'kernel': ['linear'], 'C': [1, 10]}]\n",
    "score = 'recall'\n",
    "print(\"# Tuning hyper-parameters for {0}\\n\".format(score))\n",
    "\n",
    "clf = GridSearchCV(svm.SVC(class_weight='balanced'), param_grid=tuned_parameters, \n",
    "                   scoring=\"{0}_macro\".format(score), n_jobs=3, verbose=5)\n",
    "\n",
    "clf.fit(X_train_std, y_train)\n",
    "\n",
    "print(\"Best parameters set found on development set:\")\n",
    "print()\n",
    "print(clf.best_params_)\n",
    "print()\n",
    "print(\"Grid scores on development set:\")\n",
    "print()\n",
    "means = clf.cv_results_['mean_test_score']\n",
    "stds = clf.cv_results_['std_test_score']\n",
    "for mean, std, params in zip(means, stds, clf.cv_results_['params']):\n",
    "    print(\"%0.3f (+/-%0.03f) for %r\"\n",
    "          % (mean, std * 2, params))\n",
    "print()\n",
    "print(\"Detailed classification report:\")\n",
    "print()\n",
    "print(\"The model is trained on the full development set.\")\n",
    "print(\"The scores are computed on the full evaluation set.\")\n",
    "print()\n",
    "y_true, y_pred = y_test, clf.predict(X_test_std)\n",
    "print(classification_report(y_true, y_pred))\n",
    "print()"
   ]
  },
  {
   "cell_type": "markdown",
   "metadata": {},
   "source": [
    "## Build Model With Best Param"
   ]
  },
  {
   "cell_type": "code",
   "execution_count": null,
   "metadata": {},
   "outputs": [],
   "source": [
    "#Use Pipeline\n",
    "#Best param kernel 'rbf', gamma = 0.001, C = 1000\n",
    "#Get Training data\n",
    "TestFileIndex = 1\n",
    "lFileNames = list(dBeepTimes.keys())\n",
    "lSplits = list(spliter.split(X,y,groups))\n",
    "X_train, X_test, y_train, y_test = X[lSplits[TestFileIndex][0]], X[lSplits[TestFileIndex][1]], y[lSplits[TestFileIndex][0]], y[lSplits[TestFileIndex][1]]\n",
    "print('Train Model with {0} training examples and {1} test examples'.format(X_train.shape[0], X_test.shape[0]))\n",
    "\n",
    "#scaler = StandardScaler()\n",
    "#scaler.fit(X)\n",
    "#X_train_std = scaler.transform(X_train)\n",
    "#X_test_std = scaler.transform(X_test)\n",
    "\n",
    "#Train the model\n",
    "clf = Pipeline([('scaler',StandardScaler()),('svc',svm.SVC(kernel='rbf', C=10, gamma=0.0001, class_weight='balanced'))])\n",
    "clf.fit(X_train, y_train)\n",
    "\n",
    "dump(clf, 'Model_{0}.jbl'.format(TestFileIndex))\n",
    "\n",
    "#Test the model\n",
    "y_true, y_pred = y_test, clf.predict(X_test)\n",
    "print(classification_report(y_true, y_pred))\n",
    "print(confusion_matrix(y_true,y_pred))"
   ]
  },
  {
   "cell_type": "markdown",
   "metadata": {},
   "source": [
    "## Test Beep Time Detection"
   ]
  },
  {
   "cell_type": "code",
   "execution_count": 48,
   "metadata": {},
   "outputs": [],
   "source": [
    "#Load CSV file in dictionary of key=filename, value=[(start_beep_time,end_beep_time),]\n",
    "dBeepTimes = defaultdict(list)\n",
    "sBeepTimesCSVFile = '../../Recordings/Beep_Times.csv'\n",
    "Beep_Times = pd.read_csv(sBeepTimesCSVFile,header=None)\n",
    "for index, row in Beep_Times.iterrows():\n",
    "    sWavFile = row[0]\n",
    "    i = 1\n",
    "    while i <= row.size-1:\n",
    "        #print(i)\n",
    "        if not np.isnan(row[i]):\n",
    "            dBeepTimes[sWavFile].append((row[i],row[i+1]))\n",
    "            i += 2\n",
    "        else:\n",
    "            i += 1"
   ]
  },
  {
   "cell_type": "code",
   "execution_count": 49,
   "metadata": {},
   "outputs": [
    {
     "name": "stdout",
     "output_type": "stream",
     "text": [
      "file /media/Windows/root/AusKidTalk/Recordings/10_March_2020/Audio 1_01-01.wav contains 64543 frames\n",
      "1000 0.01 44100\n",
      "441441 (441882,) (1001, 170) (1001,) (112,) 1001\n",
      "1000 0.01 44100\n",
      "882882 (441882,) (1001, 170) (1001,) (23,) 2002\n",
      "1000 0.01 44100\n",
      "1324323 (441882,) (1001, 170) (1001,) (20,) 3003\n",
      "1000 0.01 44100\n",
      "1765764 (441882,) (1001, 170) (1001,) (15,) 4004\n",
      "1000 0.01 44100\n",
      "2207205 (441882,) (1001, 170) (1001,) (17,) 5005\n",
      "1000 0.01 44100\n",
      "2648646 (441882,) (1001, 170) (1001,) (20,) 6006\n",
      "1000 0.01 44100\n",
      "3090087 (441882,) (1001, 170) (1001,) (16,) 7007\n",
      "1000 0.01 44100\n",
      "3531528 (441882,) (1001, 170) (1001,) (19,) 8008\n",
      "1000 0.01 44100\n",
      "3972969 (441882,) (1001, 170) (1001,) (5,) 9009\n",
      "1000 0.01 44100\n",
      "4414410 (441882,) (1001, 170) (1001,) (22,) 10010\n",
      "1000 0.01 44100\n",
      "4855851 (441882,) (1001, 170) (1001,) (8,) 11011\n",
      "1000 0.01 44100\n",
      "5297292 (441882,) (1001, 170) (1001,) (19,) 12012\n",
      "1000 0.01 44100\n",
      "5738733 (441882,) (1001, 170) (1001,) (16,) 13013\n",
      "1000 0.01 44100\n",
      "6180174 (441882,) (1001, 170) (1001,) (19,) 14014\n",
      "1000 0.01 44100\n",
      "6621615 (441882,) (1001, 170) (1001,) (17,) 15015\n",
      "1000 0.01 44100\n",
      "7063056 (441882,) (1001, 170) (1001,) (34,) 16016\n",
      "1000 0.01 44100\n",
      "7504497 (441882,) (1001, 170) (1001,) (7,) 17017\n",
      "1000 0.01 44100\n",
      "7945938 (441882,) (1001, 170) (1001,) (11,) 18018\n",
      "1000 0.01 44100\n",
      "8387379 (441882,) (1001, 170) (1001,) (28,) 19019\n",
      "1000 0.01 44100\n",
      "8828820 (441882,) (1001, 170) (1001,) (58,) 20020\n",
      "1000 0.01 44100\n",
      "9270261 (441882,) (1001, 170) (1001,) (19,) 21021\n",
      "1000 0.01 44100\n",
      "9711702 (441882,) (1001, 170) (1001,) (23,) 22022\n",
      "1000 0.01 44100\n",
      "10153143 (441882,) (1001, 170) (1001,) (31,) 23023\n",
      "1000 0.01 44100\n",
      "10594584 (441882,) (1001, 170) (1001,) (50,) 24024\n",
      "1000 0.01 44100\n",
      "11036025 (441882,) (1001, 170) (1001,) (0,) 25025\n",
      "1000 0.01 44100\n",
      "11477466 (441882,) (1001, 170) (1001,) (0,) 26026\n",
      "1000 0.01 44100\n",
      "11918907 (441882,) (1001, 170) (1001,) (2,) 27027\n",
      "1000 0.01 44100\n",
      "12360348 (441882,) (1001, 170) (1001,) (101,) 28028\n",
      "1000 0.01 44100\n",
      "12801789 (441882,) (1001, 170) (1001,) (21,) 29029\n",
      "1000 0.01 44100\n",
      "13243230 (441882,) (1001, 170) (1001,) (27,) 30030\n",
      "1000 0.01 44100\n",
      "13684671 (441882,) (1001, 170) (1001,) (4,) 31031\n",
      "1000 0.01 44100\n",
      "14126112 (441882,) (1001, 170) (1001,) (4,) 32032\n",
      "1000 0.01 44100\n",
      "14567553 (441882,) (1001, 170) (1001,) (7,) 33033\n",
      "1000 0.01 44100\n",
      "15008994 (441882,) (1001, 170) (1001,) (0,) 34034\n",
      "1000 0.01 44100\n",
      "15450435 (441882,) (1001, 170) (1001,) (3,) 35035\n",
      "1000 0.01 44100\n",
      "15891876 (441882,) (1001, 170) (1001,) (1,) 36036\n",
      "1000 0.01 44100\n",
      "16333317 (441882,) (1001, 170) (1001,) (0,) 37037\n",
      "1000 0.01 44100\n",
      "16774758 (441882,) (1001, 170) (1001,) (58,) 38038\n",
      "1000 0.01 44100\n",
      "17216199 (441882,) (1001, 170) (1001,) (109,) 39039\n",
      "1000 0.01 44100\n",
      "17657640 (441882,) (1001, 170) (1001,) (1,) 40040\n",
      "1000 0.01 44100\n",
      "18099081 (441882,) (1001, 170) (1001,) (65,) 41041\n",
      "1000 0.01 44100\n",
      "18540522 (441882,) (1001, 170) (1001,) (23,) 42042\n",
      "1000 0.01 44100\n",
      "18981963 (441882,) (1001, 170) (1001,) (63,) 43043\n",
      "1000 0.01 44100\n",
      "19423404 (441882,) (1001, 170) (1001,) (90,) 44044\n",
      "1000 0.01 44100\n",
      "19864845 (441882,) (1001, 170) (1001,) (65,) 45045\n",
      "1000 0.01 44100\n",
      "20306286 (441882,) (1001, 170) (1001,) (90,) 46046\n",
      "1000 0.01 44100\n",
      "20747727 (441882,) (1001, 170) (1001,) (76,) 47047\n",
      "1000 0.01 44100\n",
      "21189168 (441882,) (1001, 170) (1001,) (41,) 48048\n",
      "1000 0.01 44100\n",
      "21630609 (441882,) (1001, 170) (1001,) (53,) 49049\n",
      "1000 0.01 44100\n",
      "22072050 (441882,) (1001, 170) (1001,) (81,) 50050\n",
      "1000 0.01 44100\n",
      "22513491 (441882,) (1001, 170) (1001,) (70,) 51051\n",
      "1000 0.01 44100\n",
      "22954932 (441882,) (1001, 170) (1001,) (66,) 52052\n",
      "1000 0.01 44100\n",
      "23396373 (441882,) (1001, 170) (1001,) (73,) 53053\n",
      "1000 0.01 44100\n",
      "23837814 (441882,) (1001, 170) (1001,) (59,) 54054\n",
      "1000 0.01 44100\n",
      "24279255 (441882,) (1001, 170) (1001,) (92,) 55055\n",
      "1000 0.01 44100\n",
      "24720696 (441882,) (1001, 170) (1001,) (66,) 56056\n",
      "1000 0.01 44100\n",
      "25162137 (441882,) (1001, 170) (1001,) (83,) 57057\n",
      "1000 0.01 44100\n",
      "25603578 (441882,) (1001, 170) (1001,) (69,) 58058\n",
      "1000 0.01 44100\n",
      "26045019 (441882,) (1001, 170) (1001,) (117,) 59059\n",
      "1000 0.01 44100\n",
      "26486460 (441882,) (1001, 170) (1001,) (53,) 60060\n",
      "1000 0.01 44100\n",
      "26927901 (441882,) (1001, 170) (1001,) (86,) 61061\n",
      "1000 0.01 44100\n",
      "27369342 (441882,) (1001, 170) (1001,) (20,) 62062\n",
      "1000 0.01 44100\n",
      "27810783 (441882,) (1001, 170) (1001,) (0,) 63063\n",
      "1000 0.01 44100\n",
      "28252224 (441882,) (1001, 170) (1001,) (4,) 64064\n",
      "1000 0.01 44100\n",
      "28463134 (211351,) (478, 170) (478,) (3,) 64542\n"
     ]
    }
   ],
   "source": [
    "nChunkSize = 1000 #Number of frames to read each time\n",
    "\n",
    "testFileName = lFileNames[TestFileIndex] #'/media/Windows/root/AusKidTalk/Recordings/13_aug_2020/90 3_2_0/90 Primary_15-01.wav'#'/media/Windows/root/AusKidTalk/Recordings/28_jul_2020/81 3_2_0/81 Primary_13-01.wav'\n",
    "\n",
    "#Get number of padded rows for context\n",
    "nPostPad = max(Context)\n",
    "nPrePad = abs(min(Context))\n",
    "\n",
    "with wave.open(testFileName) as fWav:\n",
    "    iFrameRate = fWav.getframerate()\n",
    "    nSamples = fWav.getnframes()\n",
    "    assert fWav.getsampwidth() == 2, 'Only 16 bit resolution supported'\n",
    "\n",
    "    nFrames = int(nSamples / (fStepSize * iFrameRate))\n",
    "    print(\"file {0} contains {1} frames\".format(testFileName,nFrames))\n",
    "    aBeepMask = np.zeros(nFrames,dtype=int)\n",
    "    \n",
    "    nStepSamples = int(fStepSize*iFrameRate)\n",
    "    nWindowSamples = int(fWindowSize*iFrameRate)\n",
    "    nOverLabSamples = nWindowSamples - nStepSamples\n",
    "    \n",
    "    i = 0\n",
    "    while fWav.tell() < nSamples-nWindowSamples:\n",
    "        print(nChunkSize,fStepSize,iFrameRate)\n",
    "        data = fWav.readframes(int(nChunkSize*nStepSamples)+nWindowSamples)\n",
    "        data = [ x[0] for x in struct.iter_unpack('h',data)]\n",
    "        data = np.asarray(data)\n",
    "        aFeatures, lFeatures_names = sF.feature_extraction(data,iFrameRate,nWindowSamples,nStepSamples,deltas=use_delta)\n",
    "        \n",
    "        aFeatures = aFeatures.T\n",
    "        #Handle context\n",
    "        aPostPad = np.zeros((nPostPad,aFeatures.shape[1]))\n",
    "        aPrePad = np.zeros((nPrePad,aFeatures.shape[1]))\n",
    "            \n",
    "        aFeatures_pad = np.r_[aPrePad,aFeatures,aPostPad]\n",
    "            \n",
    "        aShiftVer = [np.roll(aFeatures_pad, i, axis=0) for i in Context[::-1]]\n",
    "            \n",
    "        aFeatures = np.concatenate(aShiftVer,axis=1)[0+nPrePad:-nPostPad]\n",
    "        \n",
    "        \n",
    "        X = aFeatures\n",
    "        #X_std = scaler.transform(X)\n",
    "        y_pred = clf.predict(X)\n",
    "        aBeepMask[i:i+y_pred.shape[0]] = y_pred\n",
    "        i = i+y_pred.shape[0]\n",
    "        fWav.setpos(fWav.tell() - nOverLabSamples)\n",
    "        print(fWav.tell(),data.shape,aFeatures.shape,y_pred.shape,np.where(y_pred==1)[0].shape,i)\n",
    "    "
   ]
  },
  {
   "cell_type": "code",
   "execution_count": 51,
   "metadata": {},
   "outputs": [],
   "source": [
    "suma=np.sum(aBeepMask[:100])\n",
    "vSum = np.zeros(aBeepMask.shape[0]-100)\n",
    "for i in range(aBeepMask.shape[0]-100):\n",
    "    vSum[i] = suma\n",
    "    suma = suma - aBeepMask[i] + aBeepMask[i+100]"
   ]
  },
  {
   "cell_type": "code",
   "execution_count": 58,
   "metadata": {},
   "outputs": [
    {
     "name": "stdout",
     "output_type": "stream",
     "text": [
      "File /media/Windows/root/AusKidTalk/Recordings/10_March_2020/Audio 1_01-01.wav: 3 beeps detected at [  724 27930 38063]\n"
     ]
    }
   ],
   "source": [
    "lPeaks = find_peaks(vSum,height=98)[0]\n",
    "print('File {0}: {1} beeps detected at {2}'.format(testFileName,len(lPeaks),lPeaks))"
   ]
  },
  {
   "cell_type": "markdown",
   "metadata": {},
   "source": [
    "## Leave One File Out Testing"
   ]
  },
  {
   "cell_type": "code",
   "execution_count": 4,
   "metadata": {},
   "outputs": [
    {
     "name": "stdout",
     "output_type": "stream",
     "text": [
      "8\n",
      "(492781, 170) (492781,)\n",
      "File /media/Windows/root/AusKidTalk/Recordings/9_jan_2020/Primary_07-01.wav ********************\n",
      "Testing the moel on test samples\n",
      "              precision    recall  f1-score   support\n",
      "\n",
      "           0       1.00      1.00      1.00     61250\n",
      "           1       0.83      0.97      0.90        99\n",
      "\n",
      "    accuracy                           1.00     61349\n",
      "   macro avg       0.92      0.98      0.95     61349\n",
      "weighted avg       1.00      1.00      1.00     61349\n",
      "\n",
      "[[61231    19]\n",
      " [    3    96]]\n",
      "file /media/Windows/root/AusKidTalk/Recordings/9_jan_2020/Primary_07-01.wav contains 3678 frames\n",
      "Rsult of the moel on all samples of test file\n",
      "              precision    recall  f1-score   support\n",
      "\n",
      "           0       1.00      0.96      0.98      3678\n",
      "           1       0.00      0.00      0.00         0\n",
      "\n",
      "    accuracy                           0.96      3678\n",
      "   macro avg       0.50      0.48      0.49      3678\n",
      "weighted avg       1.00      0.96      0.98      3678\n",
      "\n",
      "[[3548  130]\n",
      " [   0    0]]\n",
      "File /media/Windows/root/AusKidTalk/Recordings/9_jan_2020/Primary_07-01.wav: 1 beeps detected at [1316]\n",
      "File /media/Windows/root/AusKidTalk/Recordings/9_jan_2020/Testing_with_Mostafa_kids/Primary_04-01.wav ********************\n"
     ]
    },
    {
     "name": "stderr",
     "output_type": "stream",
     "text": [
      "/home/mostafa/anaconda3/lib/python3.7/site-packages/sklearn/metrics/_classification.py:1272: UndefinedMetricWarning: Recall and F-score are ill-defined and being set to 0.0 in labels with no true samples. Use `zero_division` parameter to control this behavior.\n",
      "  _warn_prf(average, modifier, msg_start, len(result))\n"
     ]
    },
    {
     "name": "stdout",
     "output_type": "stream",
     "text": [
      "Testing the moel on test samples\n",
      "              precision    recall  f1-score   support\n",
      "\n",
      "           0       1.00      1.00      1.00     60858\n",
      "           1       0.92      0.93      0.92       891\n",
      "\n",
      "    accuracy                           1.00     61749\n",
      "   macro avg       0.96      0.97      0.96     61749\n",
      "weighted avg       1.00      1.00      1.00     61749\n",
      "\n",
      "[[60782    76]\n",
      " [   59   832]]\n",
      "file /media/Windows/root/AusKidTalk/Recordings/9_jan_2020/Testing_with_Mostafa_kids/Primary_04-01.wav contains 154087 frames\n",
      "Rsult of the moel on all samples of test file\n",
      "              precision    recall  f1-score   support\n",
      "\n",
      "           0       1.00      0.99      1.00    153783\n",
      "           1       0.00      0.00      0.00       304\n",
      "\n",
      "    accuracy                           0.99    154087\n",
      "   macro avg       0.50      0.50      0.50    154087\n",
      "weighted avg       1.00      0.99      0.99    154087\n",
      "\n",
      "[[152665   1118]\n",
      " [   304      0]]\n",
      "File /media/Windows/root/AusKidTalk/Recordings/9_jan_2020/Testing_with_Mostafa_kids/Primary_04-01.wav: 8 beeps detected at [  3488  19441  33237 105059 106552 135785 139129 142268]\n",
      "File /media/Windows/root/AusKidTalk/Recordings/10_March_2020/Audio 1_01-01.wav ********************\n",
      "Testing the moel on test samples\n",
      "              precision    recall  f1-score   support\n",
      "\n",
      "           0       1.00      1.00      1.00     61152\n",
      "           1       0.88      1.00      0.93       297\n",
      "\n",
      "    accuracy                           1.00     61449\n",
      "   macro avg       0.94      1.00      0.97     61449\n",
      "weighted avg       1.00      1.00      1.00     61449\n",
      "\n",
      "[[61111    41]\n",
      " [    1   296]]\n",
      "file /media/Windows/root/AusKidTalk/Recordings/10_March_2020/Audio 1_01-01.wav contains 64543 frames\n",
      "Rsult of the moel on all samples of test file\n",
      "              precision    recall  f1-score   support\n",
      "\n",
      "           0       1.00      0.99      0.99     64340\n",
      "           1       0.00      0.00      0.00       203\n",
      "\n",
      "    accuracy                           0.99     64543\n",
      "   macro avg       0.50      0.50      0.50     64543\n",
      "weighted avg       0.99      0.99      0.99     64543\n",
      "\n",
      "[[63858   482]\n",
      " [  203     0]]\n",
      "File /media/Windows/root/AusKidTalk/Recordings/10_March_2020/Audio 1_01-01.wav: 3 beeps detected at [  723 27928 38062]\n",
      "File /media/Windows/root/AusKidTalk/Recordings/24_jan_2020/child_2_2/Primary_03-01.wav ********************\n",
      "Testing the moel on test samples\n",
      "              precision    recall  f1-score   support\n",
      "\n",
      "           0       1.00      1.00      1.00     61250\n",
      "           1       0.56      0.97      0.71       198\n",
      "\n",
      "    accuracy                           1.00     61448\n",
      "   macro avg       0.78      0.98      0.85     61448\n",
      "weighted avg       1.00      1.00      1.00     61448\n",
      "\n",
      "[[61099   151]\n",
      " [    6   192]]\n",
      "file /media/Windows/root/AusKidTalk/Recordings/24_jan_2020/child_2_2/Primary_03-01.wav contains 80419 frames\n",
      "Rsult of the moel on all samples of test file\n",
      "              precision    recall  f1-score   support\n",
      "\n",
      "           0       1.00      1.00      1.00     80216\n",
      "           1       0.00      0.00      0.00       203\n",
      "\n",
      "    accuracy                           0.99     80419\n",
      "   macro avg       0.50      0.50      0.50     80419\n",
      "weighted avg       0.99      0.99      0.99     80419\n",
      "\n",
      "[[79856   360]\n",
      " [  203     0]]\n",
      "File /media/Windows/root/AusKidTalk/Recordings/24_jan_2020/child_2_2/Primary_03-01.wav: 1 beeps detected at [59865]\n",
      "File /media/Windows/root/AusKidTalk/Recordings/24_jan_2020/Child1/Primary_01-01.wav ********************\n",
      "Testing the moel on test samples\n",
      "              precision    recall  f1-score   support\n",
      "\n",
      "           0       1.00      1.00      1.00     61152\n",
      "           1       0.72      0.99      0.83       396\n",
      "\n",
      "    accuracy                           1.00     61548\n",
      "   macro avg       0.86      0.99      0.92     61548\n",
      "weighted avg       1.00      1.00      1.00     61548\n",
      "\n",
      "[[60997   155]\n",
      " [    4   392]]\n",
      "file /media/Windows/root/AusKidTalk/Recordings/24_jan_2020/Child1/Primary_01-01.wav contains 100423 frames\n",
      "Rsult of the moel on all samples of test file\n",
      "              precision    recall  f1-score   support\n",
      "\n",
      "           0       1.00      0.99      0.99    100220\n",
      "           1       0.00      0.00      0.00       203\n",
      "\n",
      "    accuracy                           0.99    100423\n",
      "   macro avg       0.50      0.50      0.50    100423\n",
      "weighted avg       1.00      0.99      0.99    100423\n",
      "\n",
      "[[99414   806]\n",
      " [  203     0]]\n",
      "File /media/Windows/root/AusKidTalk/Recordings/24_jan_2020/Child1/Primary_01-01.wav: 4 beeps detected at [ 1682 15265 40013 70659]\n",
      "File /media/Windows/root/AusKidTalk/Recordings/24_jan_2020/Child2/Primary_02-01.wav ********************\n",
      "Testing the moel on test samples\n",
      "              precision    recall  f1-score   support\n",
      "\n",
      "           0       1.00      1.00      1.00     61152\n",
      "           1       0.90      0.98      0.94       594\n",
      "\n",
      "    accuracy                           1.00     61746\n",
      "   macro avg       0.95      0.99      0.97     61746\n",
      "weighted avg       1.00      1.00      1.00     61746\n",
      "\n",
      "[[61089    63]\n",
      " [   10   584]]\n",
      "file /media/Windows/root/AusKidTalk/Recordings/24_jan_2020/Child2/Primary_02-01.wav contains 156538 frames\n",
      "Rsult of the moel on all samples of test file\n",
      "              precision    recall  f1-score   support\n",
      "\n",
      "           0       1.00      0.99      1.00    156234\n",
      "           1       0.00      0.00      0.00       304\n",
      "\n",
      "    accuracy                           0.99    156538\n",
      "   macro avg       0.50      0.50      0.50    156538\n",
      "weighted avg       1.00      0.99      0.99    156538\n",
      "\n",
      "[[155402    832]\n",
      " [   304      0]]\n",
      "File /media/Windows/root/AusKidTalk/Recordings/24_jan_2020/Child2/Primary_02-01.wav: 5 beeps detected at [   413  50621  87381 143297 146936]\n",
      "File /media/Windows/root/AusKidTalk/Recordings/28_jul_2020/81 3_2_0/81 Primary_13-01.wav ********************\n",
      "Testing the moel on test samples\n",
      "              precision    recall  f1-score   support\n",
      "\n",
      "           0       1.00      1.00      1.00     61054\n",
      "           1       0.94      0.90      0.92       693\n",
      "\n",
      "    accuracy                           1.00     61747\n",
      "   macro avg       0.97      0.95      0.96     61747\n",
      "weighted avg       1.00      1.00      1.00     61747\n",
      "\n",
      "[[61011    43]\n",
      " [   70   623]]\n",
      "file /media/Windows/root/AusKidTalk/Recordings/28_jul_2020/81 3_2_0/81 Primary_13-01.wav contains 370760 frames\n",
      "Rsult of the moel on all samples of test file\n",
      "              precision    recall  f1-score   support\n",
      "\n",
      "           0       1.00      1.00      1.00    370254\n",
      "           1       0.00      0.00      0.00       506\n",
      "\n",
      "    accuracy                           1.00    370760\n",
      "   macro avg       0.50      0.50      0.50    370760\n",
      "weighted avg       1.00      1.00      1.00    370760\n",
      "\n",
      "[[369538    716]\n",
      " [   506      0]]\n",
      "File /media/Windows/root/AusKidTalk/Recordings/28_jul_2020/81 3_2_0/81 Primary_13-01.wav: 5 beeps detected at [  3067  55285 222587 274470 340320]\n",
      "File /media/Windows/root/AusKidTalk/Recordings/13_aug_2020/90 3_2_0/90 Primary_15-01.wav ********************\n",
      "Testing the moel on test samples\n",
      "              precision    recall  f1-score   support\n",
      "\n",
      "           0       1.00      1.00      1.00     61250\n",
      "           1       0.94      0.98      0.96       495\n",
      "\n",
      "    accuracy                           1.00     61745\n",
      "   macro avg       0.97      0.99      0.98     61745\n",
      "weighted avg       1.00      1.00      1.00     61745\n",
      "\n",
      "[[61219    31]\n",
      " [    9   486]]\n",
      "file /media/Windows/root/AusKidTalk/Recordings/13_aug_2020/90 3_2_0/90 Primary_15-01.wav contains 302459 frames\n",
      "Rsult of the moel on all samples of test file\n",
      "              precision    recall  f1-score   support\n",
      "\n",
      "           0       1.00      1.00      1.00    301953\n",
      "           1       0.46      0.98      0.63       506\n",
      "\n",
      "    accuracy                           1.00    302459\n",
      "   macro avg       0.73      0.99      0.81    302459\n",
      "weighted avg       1.00      1.00      1.00    302459\n",
      "\n",
      "[[301374    579]\n",
      " [    11    495]]\n",
      "File /media/Windows/root/AusKidTalk/Recordings/13_aug_2020/90 3_2_0/90 Primary_15-01.wav: 5 beeps detected at [ 10346  50205 122302 221755 268294]\n"
     ]
    }
   ],
   "source": [
    "out = []\n",
    "\n",
    "#Load egs Data\n",
    "legs = glob.glob(os.path.join(egs_dir,'*.npy'))\n",
    "assert len(legs) > 0, 'No egs'\n",
    "\n",
    "#Load data from egs directory\n",
    "data = np.concatenate([np.load(file) for file in legs],axis=0)\n",
    "X = data[:,:-2]\n",
    "y = data[:,-1].astype(int)\n",
    "groups = data[:,-2].astype(int)\n",
    "\n",
    "#Split data where one recording out\n",
    "spliter = LeaveOneGroupOut()\n",
    "print(spliter.get_n_splits(X,y,groups))\n",
    "print(X.shape,y.shape)\n",
    "\n",
    "#Load CSV file in dictionary of key=filename, value=[(start_beep_time,end_beep_time),]\n",
    "dBeepTimes = defaultdict(list)\n",
    "sBeepTimesCSVFile = '../../Recordings/Beep_Times.csv'\n",
    "Beep_Times = pd.read_csv(sBeepTimesCSVFile,header=None)\n",
    "for index, row in Beep_Times.iterrows():\n",
    "    sWavFile = row[0]\n",
    "    i = 1\n",
    "    while i <= row.size-1:\n",
    "        #print(i)\n",
    "        if not np.isnan(row[i]):\n",
    "            dBeepTimes[sWavFile].append((row[i],row[i+1]))\n",
    "            i += 2\n",
    "        else:\n",
    "            i += 1\n",
    "lFileNames = list(dBeepTimes.keys())\n",
    "\n",
    "\n",
    "TestFileIndex = 0\n",
    "for train_indx, test_indx in spliter.split(X,y,groups):\n",
    "    testFileName = lFileNames[TestFileIndex]\n",
    "    print('File {0} ********************'.format(testFileName))\n",
    "    \n",
    "    X_train, X_test, y_train, y_test = X[train_indx], X[test_indx], y[train_indx], y[test_indx]\n",
    "    #Train the model\n",
    "    clf = Pipeline([('scaler',StandardScaler()),('svc',svm.SVC(kernel='rbf', C=10, gamma=0.0001, class_weight='balanced'))])\n",
    "    clf.fit(X_train, y_train)\n",
    "\n",
    "    dump(clf, 'Model_{0}.jbl'.format(TestFileIndex))\n",
    "\n",
    "    #Test the model\n",
    "    print('Testing the moel on test samples')\n",
    "    y_true, y_pred = y_test, clf.predict(X_test)\n",
    "    print(classification_report(y_true, y_pred))\n",
    "    print(confusion_matrix(y_true,y_pred))\n",
    "    \n",
    "    #Test Model in Beep detection\n",
    "    nChunkSize = 1000 #Number of frames to read each time\n",
    "\n",
    "    #testFileName = lFileNames[TestFileIndex] #'/media/Windows/root/AusKidTalk/Recordings/13_aug_2020/90 3_2_0/90 Primary_15-01.wav'#'/media/Windows/root/AusKidTalk/Recordings/28_jul_2020/81 3_2_0/81 Primary_13-01.wav'\n",
    "\n",
    "    #Get number of padded rows for context\n",
    "    nPostPad = max(Context)\n",
    "    nPrePad = abs(min(Context))\n",
    "    \n",
    "    with wave.open(testFileName) as fWav:\n",
    "        iFrameRate = fWav.getframerate()\n",
    "        nSamples = fWav.getnframes()\n",
    "        assert fWav.getsampwidth() == 2, 'Only 16 bit resolution supported'\n",
    "\n",
    "        nFrames = int(nSamples / (fStepSize * iFrameRate))\n",
    "        print(\"file {0} contains {1} frames\".format(testFileName,nFrames))\n",
    "        \n",
    "        aRefBeepMask = np.zeros(nFrames,dtype=int)\n",
    "        for fStartTime, fEndTime in dBeepTimes[sWavFile]:\n",
    "            iStartFram = int(fStartTime / fStepSize)\n",
    "            iEndFram = int(fEndTime / fStepSize)\n",
    "            aRefBeepMask[iStartFram:iEndFram+1]=1\n",
    "        \n",
    "        aBeepMask = np.zeros(nFrames,dtype=int)\n",
    "\n",
    "        nStepSamples = int(fStepSize*iFrameRate)\n",
    "        nWindowSamples = int(fWindowSize*iFrameRate)\n",
    "        nOverLabSamples = nWindowSamples - nStepSamples\n",
    "\n",
    "        i = 0\n",
    "        while fWav.tell() < nSamples-nWindowSamples:\n",
    "            #print(nChunkSize,fStepSize,iFrameRate)\n",
    "            data = fWav.readframes(int(nChunkSize*nStepSamples)+nWindowSamples)\n",
    "            data = [ x[0] for x in struct.iter_unpack('h',data)]\n",
    "            data = np.asarray(data)\n",
    "            aFeatures, lFeatures_names = sF.feature_extraction(data,iFrameRate,nWindowSamples,nStepSamples,deltas=use_delta)\n",
    "\n",
    "            aFeatures = aFeatures.T\n",
    "            #Handle context\n",
    "            aPostPad = np.zeros((nPostPad,aFeatures.shape[1]))\n",
    "            aPrePad = np.zeros((nPrePad,aFeatures.shape[1]))\n",
    "\n",
    "            aFeatures_pad = np.r_[aPrePad,aFeatures,aPostPad]\n",
    "\n",
    "            aShiftVer = [np.roll(aFeatures_pad, i, axis=0) for i in Context[::-1]]\n",
    "\n",
    "            aFeatures = np.concatenate(aShiftVer,axis=1)[0+nPrePad:-nPostPad]\n",
    "\n",
    "\n",
    "            X_data = aFeatures\n",
    "            #X_std = scaler.transform(X)\n",
    "            y_pred = clf.predict(X_data)\n",
    "            aBeepMask[i:i+y_pred.shape[0]] = y_pred\n",
    "            i = i+y_pred.shape[0]\n",
    "            fWav.setpos(fWav.tell() - nOverLabSamples)\n",
    "        print('Rsult of the moel on all samples of test file')\n",
    "        y_true, y_pred = aRefBeepMask, aBeepMask\n",
    "        print(classification_report(y_true, y_pred))\n",
    "        print(confusion_matrix(y_true,y_pred))\n",
    "        \n",
    "        suma=np.sum(aBeepMask[:100])\n",
    "        vSum = np.zeros(aBeepMask.shape[0]-100)\n",
    "        for i in range(aBeepMask.shape[0]-100):\n",
    "            vSum[i] = suma\n",
    "            suma = suma - aBeepMask[i] + aBeepMask[i+100]\n",
    "        lPeaks = find_peaks(vSum,height=98)[0]\n",
    "        print('File {0}: {1} beeps detected at {2}'.format(testFileName,len(lPeaks),lPeaks))\n",
    "        out.append((aBeepMask, aRefBeepMask, testFileName))\n",
    "        TestFileIndex += 1\n",
    "            #print(fWav.tell(),data.shape,aFeatures.shape,y_pred.shape,np.where(y_pred==1)[0].shape,i)"
   ]
  },
  {
   "cell_type": "code",
   "execution_count": 22,
   "metadata": {},
   "outputs": [
    {
     "data": {
      "text/plain": [
       "88"
      ]
     },
     "execution_count": 22,
     "metadata": {},
     "output_type": "execute_result"
    }
   ],
   "source": [
    "np.sum(out[5][0][80005:80106])"
   ]
  },
  {
   "cell_type": "code",
   "execution_count": 63,
   "metadata": {
    "scrolled": true
   },
   "outputs": [
    {
     "data": {
      "text/plain": [
       "[<matplotlib.lines.Line2D at 0x7faacf7835d0>]"
      ]
     },
     "execution_count": 63,
     "metadata": {},
     "output_type": "execute_result"
    },
    {
     "data": {
      "image/png": "[encoded data removed]",
      "text/plain": [
       "<Figure size 432x288 with 1 Axes>"
      ]
     },
     "metadata": {
      "needs_background": "light"
     },
     "output_type": "display_data"
    }
   ],
   "source": [
    "plt.plot(aBeepMask-np.roll(aBeepMask,-1))"
   ]
  },
  {
   "cell_type": "code",
   "execution_count": 37,
   "metadata": {},
   "outputs": [
    {
     "data": {
      "text/plain": [
       "(array([ 10343,  10344,  10345,  10346,  10347,  10348,  50200,  50201,\n",
       "         50202,  50203,  50204,  50205,  50206,  50207,  50208,  50209,\n",
       "         50210,  50211, 122297, 122298, 122299, 122300, 122301, 122302,\n",
       "        122303, 122304, 122305, 122306, 122307, 122308, 221751, 221752,\n",
       "        221753, 221754, 221755, 221756, 221757, 221758, 221759, 268288,\n",
       "        268289, 268290, 268291, 268292, 268293, 268294, 268295, 268296,\n",
       "        268297, 268298, 268299, 268300]),)"
      ]
     },
     "execution_count": 37,
     "metadata": {},
     "output_type": "execute_result"
    }
   ],
   "source": [
    "np.where(vSum>98)"
   ]
  },
  {
   "cell_type": "code",
   "execution_count": 82,
   "metadata": {},
   "outputs": [
    {
     "data": {
      "text/plain": [
       "[(30.66, 31.66),\n",
       " (552.8480000000001, 553.8480000000001),\n",
       " (1334.75, 1335.75),\n",
       " (2225.89, 2226.89),\n",
       " (2248.935, 2249.935),\n",
       " (2744.7090000000003, 2745.7090000000003),\n",
       " (3403.236, 3404.236)]"
      ]
     },
     "execution_count": 82,
     "metadata": {},
     "output_type": "execute_result"
    }
   ],
   "source": [
    "dBeepTimes[testFileName]"
   ]
  },
  {
   "cell_type": "code",
   "execution_count": 16,
   "metadata": {},
   "outputs": [
    {
     "data": {
      "text/plain": [
       "[<matplotlib.lines.Line2D at 0x7f456a08fdd0>]"
      ]
     },
     "execution_count": 16,
     "metadata": {},
     "output_type": "execute_result"
    },
    {
     "data": {
      "image/png": "[encoded data removed]",
      "text/plain": [
       "<Figure size 432x288 with 1 Axes>"
      ]
     },
     "metadata": {
      "needs_background": "light"
     },
     "output_type": "display_data"
    }
   ],
   "source": [
    "plt.plot(vSum)"
   ]
  },
  {
   "cell_type": "code",
   "execution_count": 90,
   "metadata": {},
   "outputs": [
    {
     "data": {
      "text/plain": [
       "(370660,)"
      ]
     },
     "execution_count": 90,
     "metadata": {},
     "output_type": "execute_result"
    }
   ],
   "source": [
    "aBeepMask.shape\n",
    "vSum.shape"
   ]
  },
  {
   "cell_type": "code",
   "execution_count": 4,
   "metadata": {},
   "outputs": [],
   "source": [
    "f = wave.open('egs/Beeps/Sample1.wav')"
   ]
  },
  {
   "cell_type": "code",
   "execution_count": 6,
   "metadata": {},
   "outputs": [
    {
     "data": {
      "text/plain": [
       "1343414"
      ]
     },
     "execution_count": 6,
     "metadata": {},
     "output_type": "execute_result"
    }
   ],
   "source": [
    "f.getnframes()"
   ]
  },
  {
   "cell_type": "code",
   "execution_count": 7,
   "metadata": {},
   "outputs": [],
   "source": [
    "d = f.readframes(10)"
   ]
  },
  {
   "cell_type": "code",
   "execution_count": 8,
   "metadata": {},
   "outputs": [
    {
     "data": {
      "text/plain": [
       "10"
      ]
     },
     "execution_count": 8,
     "metadata": {},
     "output_type": "execute_result"
    }
   ],
   "source": [
    "f.tell()"
   ]
  },
  {
   "cell_type": "code",
   "execution_count": 9,
   "metadata": {},
   "outputs": [
    {
     "data": {
      "text/plain": [
       "b'N\\x00I\\x00H\\x00<\\x00>\\x002\\x004\\x004\\x00/\\x001\\x00'"
      ]
     },
     "execution_count": 9,
     "metadata": {},
     "output_type": "execute_result"
    }
   ],
   "source": [
    "d"
   ]
  },
  {
   "cell_type": "code",
   "execution_count": 23,
   "metadata": {},
   "outputs": [],
   "source": [
    "data = [i[0] for i in struct.iter_unpack('h',d)]"
   ]
  },
  {
   "cell_type": "code",
   "execution_count": 24,
   "metadata": {},
   "outputs": [
    {
     "data": {
      "text/plain": [
       "[78, 73, 72, 60, 62, 50, 52, 52, 47, 49]"
      ]
     },
     "execution_count": 24,
     "metadata": {},
     "output_type": "execute_result"
    }
   ],
   "source": [
    "data"
   ]
  },
  {
   "cell_type": "code",
   "execution_count": 12,
   "metadata": {},
   "outputs": [],
   "source": [
    "f.setpos(5)"
   ]
  },
  {
   "cell_type": "code",
   "execution_count": 13,
   "metadata": {},
   "outputs": [
    {
     "data": {
      "text/plain": [
       "5"
      ]
     },
     "execution_count": 13,
     "metadata": {},
     "output_type": "execute_result"
    }
   ],
   "source": [
    "f.tell()"
   ]
  },
  {
   "cell_type": "code",
   "execution_count": 58,
   "metadata": {},
   "outputs": [],
   "source": [
    "import numpy"
   ]
  },
  {
   "cell_type": "code",
   "execution_count": 17,
   "metadata": {},
   "outputs": [
    {
     "data": {
      "text/plain": [
       "(2437, 34)"
      ]
     },
     "execution_count": 17,
     "metadata": {},
     "output_type": "execute_result"
    }
   ],
   "source": [
    "data_beep.shape"
   ]
  },
  {
   "cell_type": "code",
   "execution_count": 19,
   "metadata": {},
   "outputs": [],
   "source": [
    "data_beep = data_beep[:,:34]"
   ]
  },
  {
   "cell_type": "code",
   "execution_count": 38,
   "metadata": {},
   "outputs": [],
   "source": [
    "pdData.to_pickle('Beep_NonBeep.gzip',compression='gzip')"
   ]
  },
  {
   "cell_type": "code",
   "execution_count": 29,
   "metadata": {},
   "outputs": [],
   "source": [
    "pdData = pdData.rename(columns={'lable':'label'})"
   ]
  },
  {
   "cell_type": "code",
   "execution_count": 37,
   "metadata": {},
   "outputs": [
    {
     "data": {
      "text/html": [
       "<div>\n",
       "<style scoped>\n",
       "    .dataframe tbody tr th:only-of-type {\n",
       "        vertical-align: middle;\n",
       "    }\n",
       "\n",
       "    .dataframe tbody tr th {\n",
       "        vertical-align: top;\n",
       "    }\n",
       "\n",
       "    .dataframe thead th {\n",
       "        text-align: right;\n",
       "    }\n",
       "</style>\n",
       "<table border=\"1\" class=\"dataframe\">\n",
       "  <thead>\n",
       "    <tr style=\"text-align: right;\">\n",
       "      <th></th>\n",
       "      <th>zcr</th>\n",
       "      <th>energy</th>\n",
       "      <th>energy_entropy</th>\n",
       "      <th>spectral_centroid</th>\n",
       "      <th>spectral_spread</th>\n",
       "      <th>spectral_entropy</th>\n",
       "      <th>spectral_flux</th>\n",
       "      <th>spectral_rolloff</th>\n",
       "      <th>mfcc_1</th>\n",
       "      <th>mfcc_2</th>\n",
       "      <th>...</th>\n",
       "      <th>chroma_5</th>\n",
       "      <th>chroma_6</th>\n",
       "      <th>chroma_7</th>\n",
       "      <th>chroma_8</th>\n",
       "      <th>chroma_9</th>\n",
       "      <th>chroma_10</th>\n",
       "      <th>chroma_11</th>\n",
       "      <th>chroma_12</th>\n",
       "      <th>chroma_std</th>\n",
       "      <th>label</th>\n",
       "    </tr>\n",
       "  </thead>\n",
       "  <tbody>\n",
       "    <tr>\n",
       "      <th>0</th>\n",
       "      <td>0.026107</td>\n",
       "      <td>0.023881</td>\n",
       "      <td>2.952514</td>\n",
       "      <td>0.149147</td>\n",
       "      <td>0.239787</td>\n",
       "      <td>0.127924</td>\n",
       "      <td>0.000000</td>\n",
       "      <td>0.022676</td>\n",
       "      <td>-24.828048</td>\n",
       "      <td>2.665265</td>\n",
       "      <td>...</td>\n",
       "      <td>0.022029</td>\n",
       "      <td>0.021238</td>\n",
       "      <td>0.000235</td>\n",
       "      <td>0.000314</td>\n",
       "      <td>0.008918</td>\n",
       "      <td>0.001560</td>\n",
       "      <td>0.198840</td>\n",
       "      <td>0.000447</td>\n",
       "      <td>0.053615</td>\n",
       "      <td>1</td>\n",
       "    </tr>\n",
       "    <tr>\n",
       "      <th>1</th>\n",
       "      <td>0.039728</td>\n",
       "      <td>0.010181</td>\n",
       "      <td>2.792336</td>\n",
       "      <td>0.125940</td>\n",
       "      <td>0.235431</td>\n",
       "      <td>0.074945</td>\n",
       "      <td>0.009646</td>\n",
       "      <td>0.022676</td>\n",
       "      <td>-26.299752</td>\n",
       "      <td>3.146192</td>\n",
       "      <td>...</td>\n",
       "      <td>0.018564</td>\n",
       "      <td>0.011332</td>\n",
       "      <td>0.000123</td>\n",
       "      <td>0.000949</td>\n",
       "      <td>0.004107</td>\n",
       "      <td>0.000762</td>\n",
       "      <td>0.146623</td>\n",
       "      <td>0.000438</td>\n",
       "      <td>0.039614</td>\n",
       "      <td>1</td>\n",
       "    </tr>\n",
       "    <tr>\n",
       "      <th>2</th>\n",
       "      <td>0.057889</td>\n",
       "      <td>0.018654</td>\n",
       "      <td>1.944444</td>\n",
       "      <td>0.340922</td>\n",
       "      <td>0.255146</td>\n",
       "      <td>1.439361</td>\n",
       "      <td>0.020274</td>\n",
       "      <td>0.562358</td>\n",
       "      <td>-25.740006</td>\n",
       "      <td>2.078188</td>\n",
       "      <td>...</td>\n",
       "      <td>0.004672</td>\n",
       "      <td>0.028268</td>\n",
       "      <td>0.000302</td>\n",
       "      <td>0.002667</td>\n",
       "      <td>0.008031</td>\n",
       "      <td>0.001571</td>\n",
       "      <td>0.071698</td>\n",
       "      <td>0.000468</td>\n",
       "      <td>0.020861</td>\n",
       "      <td>1</td>\n",
       "    </tr>\n",
       "    <tr>\n",
       "      <th>3</th>\n",
       "      <td>0.150965</td>\n",
       "      <td>0.034977</td>\n",
       "      <td>2.674830</td>\n",
       "      <td>0.346859</td>\n",
       "      <td>0.256991</td>\n",
       "      <td>1.176551</td>\n",
       "      <td>0.004105</td>\n",
       "      <td>0.546485</td>\n",
       "      <td>-25.984883</td>\n",
       "      <td>2.449404</td>\n",
       "      <td>...</td>\n",
       "      <td>0.000302</td>\n",
       "      <td>0.022524</td>\n",
       "      <td>0.000113</td>\n",
       "      <td>0.000931</td>\n",
       "      <td>0.001405</td>\n",
       "      <td>0.001999</td>\n",
       "      <td>0.153657</td>\n",
       "      <td>0.000235</td>\n",
       "      <td>0.042105</td>\n",
       "      <td>1</td>\n",
       "    </tr>\n",
       "    <tr>\n",
       "      <th>4</th>\n",
       "      <td>0.357548</td>\n",
       "      <td>0.034518</td>\n",
       "      <td>3.145192</td>\n",
       "      <td>0.313703</td>\n",
       "      <td>0.266910</td>\n",
       "      <td>1.087860</td>\n",
       "      <td>0.008439</td>\n",
       "      <td>0.544218</td>\n",
       "      <td>-26.793118</td>\n",
       "      <td>2.463520</td>\n",
       "      <td>...</td>\n",
       "      <td>0.001661</td>\n",
       "      <td>0.010340</td>\n",
       "      <td>0.000085</td>\n",
       "      <td>0.000150</td>\n",
       "      <td>0.002542</td>\n",
       "      <td>0.001178</td>\n",
       "      <td>0.132129</td>\n",
       "      <td>0.000050</td>\n",
       "      <td>0.035941</td>\n",
       "      <td>1</td>\n",
       "    </tr>\n",
       "    <tr>\n",
       "      <th>...</th>\n",
       "      <td>...</td>\n",
       "      <td>...</td>\n",
       "      <td>...</td>\n",
       "      <td>...</td>\n",
       "      <td>...</td>\n",
       "      <td>...</td>\n",
       "      <td>...</td>\n",
       "      <td>...</td>\n",
       "      <td>...</td>\n",
       "      <td>...</td>\n",
       "      <td>...</td>\n",
       "      <td>...</td>\n",
       "      <td>...</td>\n",
       "      <td>...</td>\n",
       "      <td>...</td>\n",
       "      <td>...</td>\n",
       "      <td>...</td>\n",
       "      <td>...</td>\n",
       "      <td>...</td>\n",
       "      <td>...</td>\n",
       "      <td>...</td>\n",
       "    </tr>\n",
       "    <tr>\n",
       "      <th>44030</th>\n",
       "      <td>0.011351</td>\n",
       "      <td>0.149749</td>\n",
       "      <td>2.540470</td>\n",
       "      <td>0.134250</td>\n",
       "      <td>0.241330</td>\n",
       "      <td>0.050390</td>\n",
       "      <td>0.028181</td>\n",
       "      <td>0.009070</td>\n",
       "      <td>-23.830157</td>\n",
       "      <td>2.753325</td>\n",
       "      <td>...</td>\n",
       "      <td>0.000216</td>\n",
       "      <td>0.005289</td>\n",
       "      <td>0.000099</td>\n",
       "      <td>0.000412</td>\n",
       "      <td>0.001147</td>\n",
       "      <td>0.000189</td>\n",
       "      <td>0.241018</td>\n",
       "      <td>0.000177</td>\n",
       "      <td>0.066119</td>\n",
       "      <td>0</td>\n",
       "    </tr>\n",
       "    <tr>\n",
       "      <th>44031</th>\n",
       "      <td>0.015891</td>\n",
       "      <td>0.069312</td>\n",
       "      <td>2.959871</td>\n",
       "      <td>0.137631</td>\n",
       "      <td>0.261177</td>\n",
       "      <td>0.035866</td>\n",
       "      <td>0.006084</td>\n",
       "      <td>0.009070</td>\n",
       "      <td>-25.840094</td>\n",
       "      <td>3.149468</td>\n",
       "      <td>...</td>\n",
       "      <td>0.000834</td>\n",
       "      <td>0.013769</td>\n",
       "      <td>0.000023</td>\n",
       "      <td>0.000090</td>\n",
       "      <td>0.002541</td>\n",
       "      <td>0.000063</td>\n",
       "      <td>0.219121</td>\n",
       "      <td>0.000074</td>\n",
       "      <td>0.060025</td>\n",
       "      <td>0</td>\n",
       "    </tr>\n",
       "    <tr>\n",
       "      <th>44032</th>\n",
       "      <td>0.017026</td>\n",
       "      <td>0.179122</td>\n",
       "      <td>2.612994</td>\n",
       "      <td>0.114428</td>\n",
       "      <td>0.233535</td>\n",
       "      <td>0.022877</td>\n",
       "      <td>0.010135</td>\n",
       "      <td>0.009070</td>\n",
       "      <td>-24.292798</td>\n",
       "      <td>3.310984</td>\n",
       "      <td>...</td>\n",
       "      <td>0.000163</td>\n",
       "      <td>0.012701</td>\n",
       "      <td>0.000034</td>\n",
       "      <td>0.000190</td>\n",
       "      <td>0.001060</td>\n",
       "      <td>0.000047</td>\n",
       "      <td>0.252514</td>\n",
       "      <td>0.000056</td>\n",
       "      <td>0.069179</td>\n",
       "      <td>0</td>\n",
       "    </tr>\n",
       "    <tr>\n",
       "      <th>44033</th>\n",
       "      <td>0.017026</td>\n",
       "      <td>0.180206</td>\n",
       "      <td>2.685020</td>\n",
       "      <td>0.111079</td>\n",
       "      <td>0.237368</td>\n",
       "      <td>0.018542</td>\n",
       "      <td>0.012567</td>\n",
       "      <td>0.009070</td>\n",
       "      <td>-25.440577</td>\n",
       "      <td>3.170213</td>\n",
       "      <td>...</td>\n",
       "      <td>0.000059</td>\n",
       "      <td>0.039243</td>\n",
       "      <td>0.000014</td>\n",
       "      <td>0.000083</td>\n",
       "      <td>0.000050</td>\n",
       "      <td>0.000163</td>\n",
       "      <td>0.209545</td>\n",
       "      <td>0.000077</td>\n",
       "      <td>0.057598</td>\n",
       "      <td>0</td>\n",
       "    </tr>\n",
       "    <tr>\n",
       "      <th>44034</th>\n",
       "      <td>0.017026</td>\n",
       "      <td>0.092263</td>\n",
       "      <td>2.792706</td>\n",
       "      <td>0.146080</td>\n",
       "      <td>0.257385</td>\n",
       "      <td>0.051309</td>\n",
       "      <td>0.028726</td>\n",
       "      <td>0.009070</td>\n",
       "      <td>-24.967961</td>\n",
       "      <td>2.648585</td>\n",
       "      <td>...</td>\n",
       "      <td>0.000078</td>\n",
       "      <td>0.010467</td>\n",
       "      <td>0.000047</td>\n",
       "      <td>0.000282</td>\n",
       "      <td>0.002405</td>\n",
       "      <td>0.000359</td>\n",
       "      <td>0.234638</td>\n",
       "      <td>0.000326</td>\n",
       "      <td>0.064306</td>\n",
       "      <td>0</td>\n",
       "    </tr>\n",
       "  </tbody>\n",
       "</table>\n",
       "<p>44035 rows × 35 columns</p>\n",
       "</div>"
      ],
      "text/plain": [
       "            zcr    energy  energy_entropy  spectral_centroid  spectral_spread  \\\n",
       "0      0.026107  0.023881        2.952514           0.149147         0.239787   \n",
       "1      0.039728  0.010181        2.792336           0.125940         0.235431   \n",
       "2      0.057889  0.018654        1.944444           0.340922         0.255146   \n",
       "3      0.150965  0.034977        2.674830           0.346859         0.256991   \n",
       "4      0.357548  0.034518        3.145192           0.313703         0.266910   \n",
       "...         ...       ...             ...                ...              ...   \n",
       "44030  0.011351  0.149749        2.540470           0.134250         0.241330   \n",
       "44031  0.015891  0.069312        2.959871           0.137631         0.261177   \n",
       "44032  0.017026  0.179122        2.612994           0.114428         0.233535   \n",
       "44033  0.017026  0.180206        2.685020           0.111079         0.237368   \n",
       "44034  0.017026  0.092263        2.792706           0.146080         0.257385   \n",
       "\n",
       "       spectral_entropy  spectral_flux  spectral_rolloff     mfcc_1    mfcc_2  \\\n",
       "0              0.127924       0.000000          0.022676 -24.828048  2.665265   \n",
       "1              0.074945       0.009646          0.022676 -26.299752  3.146192   \n",
       "2              1.439361       0.020274          0.562358 -25.740006  2.078188   \n",
       "3              1.176551       0.004105          0.546485 -25.984883  2.449404   \n",
       "4              1.087860       0.008439          0.544218 -26.793118  2.463520   \n",
       "...                 ...            ...               ...        ...       ...   \n",
       "44030          0.050390       0.028181          0.009070 -23.830157  2.753325   \n",
       "44031          0.035866       0.006084          0.009070 -25.840094  3.149468   \n",
       "44032          0.022877       0.010135          0.009070 -24.292798  3.310984   \n",
       "44033          0.018542       0.012567          0.009070 -25.440577  3.170213   \n",
       "44034          0.051309       0.028726          0.009070 -24.967961  2.648585   \n",
       "\n",
       "       ...  chroma_5  chroma_6  chroma_7  chroma_8  chroma_9  chroma_10  \\\n",
       "0      ...  0.022029  0.021238  0.000235  0.000314  0.008918   0.001560   \n",
       "1      ...  0.018564  0.011332  0.000123  0.000949  0.004107   0.000762   \n",
       "2      ...  0.004672  0.028268  0.000302  0.002667  0.008031   0.001571   \n",
       "3      ...  0.000302  0.022524  0.000113  0.000931  0.001405   0.001999   \n",
       "4      ...  0.001661  0.010340  0.000085  0.000150  0.002542   0.001178   \n",
       "...    ...       ...       ...       ...       ...       ...        ...   \n",
       "44030  ...  0.000216  0.005289  0.000099  0.000412  0.001147   0.000189   \n",
       "44031  ...  0.000834  0.013769  0.000023  0.000090  0.002541   0.000063   \n",
       "44032  ...  0.000163  0.012701  0.000034  0.000190  0.001060   0.000047   \n",
       "44033  ...  0.000059  0.039243  0.000014  0.000083  0.000050   0.000163   \n",
       "44034  ...  0.000078  0.010467  0.000047  0.000282  0.002405   0.000359   \n",
       "\n",
       "       chroma_11  chroma_12  chroma_std  label  \n",
       "0       0.198840   0.000447    0.053615      1  \n",
       "1       0.146623   0.000438    0.039614      1  \n",
       "2       0.071698   0.000468    0.020861      1  \n",
       "3       0.153657   0.000235    0.042105      1  \n",
       "4       0.132129   0.000050    0.035941      1  \n",
       "...          ...        ...         ...    ...  \n",
       "44030   0.241018   0.000177    0.066119      0  \n",
       "44031   0.219121   0.000074    0.060025      0  \n",
       "44032   0.252514   0.000056    0.069179      0  \n",
       "44033   0.209545   0.000077    0.057598      0  \n",
       "44034   0.234638   0.000326    0.064306      0  \n",
       "\n",
       "[44035 rows x 35 columns]"
      ]
     },
     "execution_count": 37,
     "metadata": {},
     "output_type": "execute_result"
    }
   ],
   "source": [
    "pdData"
   ]
  },
  {
   "cell_type": "code",
   "execution_count": 47,
   "metadata": {},
   "outputs": [
    {
     "data": {
      "text/plain": [
       "'0.22.1'"
      ]
     },
     "execution_count": 47,
     "metadata": {},
     "output_type": "execute_result"
    }
   ],
   "source": [
    "sklearn.__version__"
   ]
  },
  {
   "cell_type": "code",
   "execution_count": 24,
   "metadata": {},
   "outputs": [
    {
     "data": {
      "text/plain": [
       "3"
      ]
     },
     "execution_count": 24,
     "metadata": {},
     "output_type": "execute_result"
    }
   ],
   "source": [
    "fWav.getsampwidth()"
   ]
  },
  {
   "cell_type": "code",
   "execution_count": 25,
   "metadata": {},
   "outputs": [],
   "source": [
    "import scipy"
   ]
  },
  {
   "cell_type": "code",
   "execution_count": 26,
   "metadata": {},
   "outputs": [
    {
     "ename": "AttributeError",
     "evalue": "module 'scipy' has no attribute 'io'",
     "output_type": "error",
     "traceback": [
      "\u001b[0;31m---------------------------------------------------------------------------\u001b[0m",
      "\u001b[0;31mAttributeError\u001b[0m                            Traceback (most recent call last)",
      "\u001b[0;32m<ipython-input-26-eef73cdb4870>\u001b[0m in \u001b[0;36m<module>\u001b[0;34m\u001b[0m\n\u001b[0;32m----> 1\u001b[0;31m \u001b[0mfr\u001b[0m\u001b[0;34m,\u001b[0m \u001b[0mdata\u001b[0m \u001b[0;34m=\u001b[0m \u001b[0mscipy\u001b[0m\u001b[0;34m.\u001b[0m\u001b[0mio\u001b[0m\u001b[0;34m.\u001b[0m\u001b[0mwavfile\u001b[0m\u001b[0;34m.\u001b[0m\u001b[0mread\u001b[0m\u001b[0;34m(\u001b[0m\u001b[0;34m'egs/Beeps/Sample1.wav'\u001b[0m\u001b[0;34m)\u001b[0m\u001b[0;34m\u001b[0m\u001b[0;34m\u001b[0m\u001b[0m\n\u001b[0m",
      "\u001b[0;31mAttributeError\u001b[0m: module 'scipy' has no attribute 'io'"
     ]
    }
   ],
   "source": [
    "fr, data = scipy.io.wavfile.read('egs/Beeps/Sample1.wav')"
   ]
  },
  {
   "cell_type": "code",
   "execution_count": 27,
   "metadata": {},
   "outputs": [
    {
     "data": {
      "text/plain": [
       "'1.4.1'"
      ]
     },
     "execution_count": 27,
     "metadata": {},
     "output_type": "execute_result"
    }
   ],
   "source": [
    "scipy.__version__"
   ]
  },
  {
   "cell_type": "code",
   "execution_count": 31,
   "metadata": {},
   "outputs": [
    {
     "data": {
      "text/plain": [
       "defaultdict(list,\n",
       "            {'/media/Windows/root/AusKidTalk/Recordings/9_jan_2020/Primary_07-01.wav': [(13.1,\n",
       "               14.1)],\n",
       "             '/media/Windows/root/AusKidTalk/Recordings/9_jan_2020/Testing_with_Mostafa_kids/Primary_04-01.wav': [(34.91,\n",
       "               35.91),\n",
       "              (194.435, 195.435),\n",
       "              (332.31800000000004, 333.31800000000004),\n",
       "              (1050.538, 1051.538),\n",
       "              (1065.531, 1066.531),\n",
       "              (1268.032, 1269.032),\n",
       "              (1357.734, 1358.734),\n",
       "              (1392.733, 1393.8329999999999),\n",
       "              (1422.634, 1423.634)],\n",
       "             '/media/Windows/root/AusKidTalk/Recordings/10_March_2020/Audio 1_01-01.wav': [(7.21,\n",
       "               8.21),\n",
       "              (279.3, 280.3),\n",
       "              (380.62, 381.62)],\n",
       "             '/media/Windows/root/AusKidTalk/Recordings/24_jan_2020/child_2_2/Primary_03-01.wav': [(462.639,\n",
       "               463.639),\n",
       "              (598.61, 599.61)],\n",
       "             '/media/Windows/root/AusKidTalk/Recordings/24_jan_2020/Child1/Primary_01-01.wav': [(16.89,\n",
       "               17.89),\n",
       "              (152.61, 153.61)],\n",
       "             '/media/Windows/root/AusKidTalk/Recordings/24_jan_2020/Child2/Primary_02-01.wav': [(4.12,\n",
       "               5.12),\n",
       "              (506.17699999999996, 507.17699999999996),\n",
       "              (799.95, 800.95),\n",
       "              (873.78, 874.78),\n",
       "              (1432.95, 1433.95),\n",
       "              (1469.41, 1470.41)],\n",
       "             '/media/Windows/root/AusKidTalk/Recordings/28_jul_2020/81 3_2_0/81 Primary_13-01.wav': [(30.66,\n",
       "               31.66),\n",
       "              (552.8480000000001, 553.8480000000001),\n",
       "              (1334.75, 1335.75),\n",
       "              (2225.89, 2226.89),\n",
       "              (2248.935, 2249.935),\n",
       "              (2744.7090000000003, 2745.7090000000003),\n",
       "              (3403.236, 3404.236)]})"
      ]
     },
     "execution_count": 31,
     "metadata": {},
     "output_type": "execute_result"
    }
   ],
   "source": [
    "dBeepTimes"
   ]
  },
  {
   "cell_type": "code",
   "execution_count": 10,
   "metadata": {},
   "outputs": [
    {
     "data": {
      "text/plain": [
       "40.179999999999836"
      ]
     },
     "execution_count": 10,
     "metadata": {},
     "output_type": "execute_result"
    }
   ],
   "source": [
    "2680.18 % 60"
   ]
  },
  {
   "cell_type": "code",
   "execution_count": 11,
   "metadata": {},
   "outputs": [
    {
     "data": {
      "text/plain": [
       "44.669666666666664"
      ]
     },
     "execution_count": 11,
     "metadata": {},
     "output_type": "execute_result"
    }
   ],
   "source": [
    "2680.18/60"
   ]
  },
  {
   "cell_type": "code",
   "execution_count": 47,
   "metadata": {},
   "outputs": [],
   "source": [
    "a = np.arange(1,41)"
   ]
  },
  {
   "cell_type": "code",
   "execution_count": 48,
   "metadata": {},
   "outputs": [],
   "source": [
    "a = a.reshape(10,4)"
   ]
  },
  {
   "cell_type": "code",
   "execution_count": 49,
   "metadata": {},
   "outputs": [
    {
     "data": {
      "text/plain": [
       "array([[ 1,  2,  3,  4],\n",
       "       [ 5,  6,  7,  8],\n",
       "       [ 9, 10, 11, 12],\n",
       "       [13, 14, 15, 16],\n",
       "       [17, 18, 19, 20],\n",
       "       [21, 22, 23, 24],\n",
       "       [25, 26, 27, 28],\n",
       "       [29, 30, 31, 32],\n",
       "       [33, 34, 35, 36],\n",
       "       [37, 38, 39, 40]])"
      ]
     },
     "execution_count": 49,
     "metadata": {},
     "output_type": "execute_result"
    }
   ],
   "source": [
    "a"
   ]
  },
  {
   "cell_type": "code",
   "execution_count": 26,
   "metadata": {},
   "outputs": [
    {
     "data": {
      "text/plain": [
       "array([1, 2, 3, 4])"
      ]
     },
     "execution_count": 26,
     "metadata": {},
     "output_type": "execute_result"
    }
   ],
   "source": [
    "a[0]"
   ]
  },
  {
   "cell_type": "code",
   "execution_count": 29,
   "metadata": {},
   "outputs": [
    {
     "data": {
      "text/plain": [
       "array([ 1,  2,  3,  4,  5,  6,  7,  8,  9, 10, 11, 12])"
      ]
     },
     "execution_count": 29,
     "metadata": {},
     "output_type": "execute_result"
    }
   ],
   "source": [
    "np.r_[a[0],a[1],a[2]]"
   ]
  },
  {
   "cell_type": "code",
   "execution_count": 31,
   "metadata": {},
   "outputs": [],
   "source": [
    "i=2"
   ]
  },
  {
   "cell_type": "code",
   "execution_count": 32,
   "metadata": {},
   "outputs": [],
   "source": [
    "c = (-1,0,1)"
   ]
  },
  {
   "cell_type": "code",
   "execution_count": 37,
   "metadata": {},
   "outputs": [
    {
     "data": {
      "text/plain": [
       "array([[ 5,  6,  7,  8],\n",
       "       [ 9, 10, 11, 12],\n",
       "       [13, 14, 15, 16],\n",
       "       [17, 18, 19, 20],\n",
       "       [21, 22, 23, 24],\n",
       "       [25, 26, 27, 28],\n",
       "       [29, 30, 31, 32],\n",
       "       [33, 34, 35, 36],\n",
       "       [37, 38, 39, 40],\n",
       "       [ 1,  2,  3,  4]])"
      ]
     },
     "execution_count": 37,
     "metadata": {},
     "output_type": "execute_result"
    }
   ],
   "source": [
    "np.roll(a,-1,axis=0)"
   ]
  },
  {
   "cell_type": "code",
   "execution_count": 45,
   "metadata": {},
   "outputs": [
    {
     "data": {
      "text/plain": [
       "array([[37., 38., 39., 40.,  0.,  0.,  0.,  0.,  1.,  2.,  3.,  4.],\n",
       "       [ 0.,  0.,  0.,  0.,  1.,  2.,  3.,  4.,  5.,  6.,  7.,  8.],\n",
       "       [ 1.,  2.,  3.,  4.,  5.,  6.,  7.,  8.,  9., 10., 11., 12.],\n",
       "       [ 5.,  6.,  7.,  8.,  9., 10., 11., 12., 13., 14., 15., 16.],\n",
       "       [ 9., 10., 11., 12., 13., 14., 15., 16., 17., 18., 19., 20.],\n",
       "       [13., 14., 15., 16., 17., 18., 19., 20., 21., 22., 23., 24.],\n",
       "       [17., 18., 19., 20., 21., 22., 23., 24., 25., 26., 27., 28.],\n",
       "       [21., 22., 23., 24., 25., 26., 27., 28., 29., 30., 31., 32.],\n",
       "       [25., 26., 27., 28., 29., 30., 31., 32., 33., 34., 35., 36.],\n",
       "       [29., 30., 31., 32., 33., 34., 35., 36., 37., 38., 39., 40.],\n",
       "       [33., 34., 35., 36., 37., 38., 39., 40.,  0.,  0.,  0.,  0.]])"
      ]
     },
     "execution_count": 45,
     "metadata": {},
     "output_type": "execute_result"
    }
   ],
   "source": [
    "np.c_[np.roll(a,1,axis=0),np.roll(a,0,axis=0),np.roll(a,-1,axis=0)]"
   ]
  },
  {
   "cell_type": "code",
   "execution_count": 43,
   "metadata": {},
   "outputs": [],
   "source": [
    "a = np.r_[np.zeros((1,a.shape[1])),a]"
   ]
  },
  {
   "cell_type": "code",
   "execution_count": 56,
   "metadata": {},
   "outputs": [
    {
     "data": {
      "text/plain": [
       "array([[ 1,  2,  3,  4],\n",
       "       [ 5,  6,  7,  8],\n",
       "       [ 9, 10, 11, 12],\n",
       "       [13, 14, 15, 16],\n",
       "       [17, 18, 19, 20],\n",
       "       [21, 22, 23, 24],\n",
       "       [25, 26, 27, 28],\n",
       "       [29, 30, 31, 32],\n",
       "       [33, 34, 35, 36],\n",
       "       [37, 38, 39, 40]])"
      ]
     },
     "execution_count": 56,
     "metadata": {},
     "output_type": "execute_result"
    }
   ],
   "source": [
    "a"
   ]
  },
  {
   "cell_type": "code",
   "execution_count": 117,
   "metadata": {},
   "outputs": [],
   "source": [
    "c = (-2,-1,0,1,2)"
   ]
  },
  {
   "cell_type": "code",
   "execution_count": 118,
   "metadata": {},
   "outputs": [
    {
     "data": {
      "text/plain": [
       "2"
      ]
     },
     "execution_count": 118,
     "metadata": {},
     "output_type": "execute_result"
    }
   ],
   "source": [
    "max(c)"
   ]
  },
  {
   "cell_type": "code",
   "execution_count": 119,
   "metadata": {},
   "outputs": [
    {
     "data": {
      "text/plain": [
       "-2"
      ]
     },
     "execution_count": 119,
     "metadata": {},
     "output_type": "execute_result"
    }
   ],
   "source": [
    "min(c)"
   ]
  },
  {
   "cell_type": "code",
   "execution_count": 120,
   "metadata": {},
   "outputs": [],
   "source": [
    "nPostPad = max(c)\n",
    "nPrePad = abs(min(c))"
   ]
  },
  {
   "cell_type": "code",
   "execution_count": 121,
   "metadata": {},
   "outputs": [],
   "source": [
    "aPostPad = np.zeros((nPostPad,a.shape[1]))\n",
    "aPrePad = np.zeros((nPrePad,a.shape[1]))"
   ]
  },
  {
   "cell_type": "code",
   "execution_count": 122,
   "metadata": {},
   "outputs": [
    {
     "data": {
      "text/plain": [
       "(2, 4)"
      ]
     },
     "execution_count": 122,
     "metadata": {},
     "output_type": "execute_result"
    }
   ],
   "source": [
    "aPostPad.shape"
   ]
  },
  {
   "cell_type": "code",
   "execution_count": 123,
   "metadata": {},
   "outputs": [],
   "source": [
    "a_pad = np.r_[aPrePad,a,aPostPad]"
   ]
  },
  {
   "cell_type": "code",
   "execution_count": 124,
   "metadata": {},
   "outputs": [
    {
     "data": {
      "text/plain": [
       "(14, 4)"
      ]
     },
     "execution_count": 124,
     "metadata": {},
     "output_type": "execute_result"
    }
   ],
   "source": [
    "a_pad.shape"
   ]
  },
  {
   "cell_type": "code",
   "execution_count": 125,
   "metadata": {},
   "outputs": [],
   "source": [
    "xx = [np.roll(a_pad,i,axis=0) for i in c[::-1]]"
   ]
  },
  {
   "cell_type": "code",
   "execution_count": 126,
   "metadata": {},
   "outputs": [
    {
     "data": {
      "text/plain": [
       "(10, 20)"
      ]
     },
     "execution_count": 126,
     "metadata": {},
     "output_type": "execute_result"
    }
   ],
   "source": [
    "np.concatenate(xx,axis=1)[0+nPrePad:-nPostPad].shape"
   ]
  },
  {
   "cell_type": "code",
   "execution_count": 7,
   "metadata": {},
   "outputs": [
    {
     "data": {
      "text/plain": [
       "['/media/Windows/root/AusKidTalk/Recordings/9_jan_2020/Primary_07-01.wav',\n",
       " '/media/Windows/root/AusKidTalk/Recordings/9_jan_2020/Testing_with_Mostafa_kids/Primary_04-01.wav',\n",
       " '/media/Windows/root/AusKidTalk/Recordings/10_March_2020/Audio 1_01-01.wav',\n",
       " '/media/Windows/root/AusKidTalk/Recordings/24_jan_2020/child_2_2/Primary_03-01.wav',\n",
       " '/media/Windows/root/AusKidTalk/Recordings/24_jan_2020/Child1/Primary_01-01.wav',\n",
       " '/media/Windows/root/AusKidTalk/Recordings/24_jan_2020/Child2/Primary_02-01.wav',\n",
       " '/media/Windows/root/AusKidTalk/Recordings/28_jul_2020/81 3_2_0/81 Primary_13-01.wav',\n",
       " '/media/Windows/root/AusKidTalk/Recordings/13_aug_2020/90 3_2_0/90 Primary_15-01.wav',\n",
       " 0]"
      ]
     },
     "execution_count": 7,
     "metadata": {},
     "output_type": "execute_result"
    }
   ],
   "source": [
    "list(dBeepTimes.keys())"
   ]
  },
  {
   "cell_type": "code",
   "execution_count": 1,
   "metadata": {},
   "outputs": [],
   "source": [
    "f = '/media/Windows/root/AusKidTalk/Recordings/28_jul_2020/81 3_2_0/81 Primary_13-01.wav'"
   ]
  },
  {
   "cell_type": "code",
   "execution_count": 14,
   "metadata": {},
   "outputs": [],
   "source": [
    "z = np.load('egs/BeepDetModel/egs/egs_5_1.npy')"
   ]
  },
  {
   "cell_type": "code",
   "execution_count": 15,
   "metadata": {},
   "outputs": [
    {
     "data": {
      "text/plain": [
       "(18982, 172)"
      ]
     },
     "execution_count": 15,
     "metadata": {},
     "output_type": "execute_result"
    }
   ],
   "source": [
    "z.shape"
   ]
  },
  {
   "cell_type": "code",
   "execution_count": 19,
   "metadata": {},
   "outputs": [
    {
     "data": {
      "text/plain": [
       "(18081,)"
      ]
     },
     "execution_count": 19,
     "metadata": {},
     "output_type": "execute_result"
    }
   ],
   "source": [
    "np.where(z[:,-1]==0)[0].shape"
   ]
  },
  {
   "cell_type": "code",
   "execution_count": 24,
   "metadata": {},
   "outputs": [],
   "source": [
    "xx = [np.load('egs/BeepDetModel/egs/egs_{0}.npy'.format(i)) for i in range(8)]"
   ]
  },
  {
   "cell_type": "code",
   "execution_count": 25,
   "metadata": {},
   "outputs": [
    {
     "data": {
      "text/plain": [
       "[array([[0.        , 0.        , 0.        , ..., 0.03961403, 0.        ,\n",
       "         1.        ],\n",
       "        [0.0261067 , 0.023881  , 2.95251418, ..., 0.02086051, 0.        ,\n",
       "         1.        ],\n",
       "        [0.03972758, 0.01018135, 2.79233571, ..., 0.04210504, 0.        ,\n",
       "         1.        ],\n",
       "        ...,\n",
       "        [0.03632236, 0.08585858, 3.16158758, ..., 0.02501251, 0.        ,\n",
       "         0.        ],\n",
       "        [0.05561862, 0.06888916, 3.11556522, ..., 0.03855069, 0.        ,\n",
       "         0.        ],\n",
       "        [0.05107832, 0.0576163 , 3.19697933, ..., 0.        , 0.        ,\n",
       "         0.        ]]),\n",
       " array([[0.00000000e+00, 0.00000000e+00, 0.00000000e+00, ...,\n",
       "         2.34946135e-03, 1.00000000e+00, 1.00000000e+00],\n",
       "        [5.44835414e-01, 2.68381203e-01, 3.28015702e+00, ...,\n",
       "         1.64341840e-03, 1.00000000e+00, 1.00000000e+00],\n",
       "        [5.44835414e-01, 3.43247403e-01, 3.31031953e+00, ...,\n",
       "         1.86870431e-03, 1.00000000e+00, 1.00000000e+00],\n",
       "        ...,\n",
       "        [3.17820658e-02, 8.00373653e-03, 3.09813849e+00, ...,\n",
       "         2.79237636e-02, 1.00000000e+00, 0.00000000e+00],\n",
       "        [2.04313280e-02, 7.52725281e-03, 3.19354779e+00, ...,\n",
       "         3.53865981e-02, 1.00000000e+00, 0.00000000e+00],\n",
       "        [1.47559591e-02, 6.91988147e-03, 3.16593478e+00, ...,\n",
       "         0.00000000e+00, 1.00000000e+00, 0.00000000e+00]]),\n",
       " array([[0.        , 0.        , 0.        , ..., 0.013734  , 2.        ,\n",
       "         1.        ],\n",
       "        [0.0908059 , 0.01409395, 3.08637354, ..., 0.01447785, 2.        ,\n",
       "         1.        ],\n",
       "        [0.36095346, 0.02925877, 2.90331157, ..., 0.00655443, 2.        ,\n",
       "         1.        ],\n",
       "        ...,\n",
       "        [0.12712826, 0.07365272, 2.73793779, ..., 0.08367951, 2.        ,\n",
       "         0.        ],\n",
       "        [0.03972758, 0.12568283, 2.83416723, ..., 0.08272903, 2.        ,\n",
       "         0.        ],\n",
       "        [0.03972758, 0.22665999, 2.89810958, ..., 0.        , 2.        ,\n",
       "         0.        ]]),\n",
       " array([[0.        , 0.        , 0.        , ..., 0.04541772, 3.        ,\n",
       "         1.        ],\n",
       "        [0.19409762, 0.07253115, 2.79947051, ..., 0.00883721, 3.        ,\n",
       "         1.        ],\n",
       "        [0.36549376, 0.12605361, 3.24957769, ..., 0.02949014, 3.        ,\n",
       "         1.        ],\n",
       "        ...,\n",
       "        [0.00794552, 0.23159214, 2.67827577, ..., 0.04224236, 3.        ,\n",
       "         0.        ],\n",
       "        [0.01021566, 0.20023505, 2.57305304, ..., 0.0701782 , 3.        ,\n",
       "         0.        ],\n",
       "        [0.01702611, 0.11838726, 2.89663892, ..., 0.        , 3.        ,\n",
       "         0.        ]]),\n",
       " array([[0.00000000e+00, 0.00000000e+00, 0.00000000e+00, ...,\n",
       "         3.97896296e-03, 4.00000000e+00, 1.00000000e+00],\n",
       "        [5.44835414e-01, 4.90565187e-02, 3.31604204e+00, ...,\n",
       "         3.26698929e-03, 4.00000000e+00, 1.00000000e+00],\n",
       "        [5.44835414e-01, 4.97659426e-02, 3.31666771e+00, ...,\n",
       "         6.08171107e-03, 4.00000000e+00, 1.00000000e+00],\n",
       "        ...,\n",
       "        [2.38365494e-02, 5.13324090e-02, 2.57553312e+00, ...,\n",
       "         8.02194305e-02, 4.00000000e+00, 0.00000000e+00],\n",
       "        [1.24858116e-02, 6.19432506e-02, 2.92654422e+00, ...,\n",
       "         5.19480421e-02, 4.00000000e+00, 0.00000000e+00],\n",
       "        [9.08059024e-03, 4.20889185e-02, 2.79588207e+00, ...,\n",
       "         0.00000000e+00, 4.00000000e+00, 0.00000000e+00]]),\n",
       " array([[0.        , 0.        , 0.        , ..., 0.00718799, 5.        ,\n",
       "         1.        ],\n",
       "        [0.37343927, 0.12216777, 3.00133593, ..., 0.00931574, 5.        ,\n",
       "         1.        ],\n",
       "        [0.54370034, 0.20493932, 3.30319598, ..., 0.00574408, 5.        ,\n",
       "         1.        ],\n",
       "        ...,\n",
       "        [0.0215664 , 0.06538827, 2.99013683, ..., 0.06090998, 5.        ,\n",
       "         0.        ],\n",
       "        [0.03859251, 0.05376578, 2.88350773, ..., 0.05714452, 5.        ,\n",
       "         0.        ],\n",
       "        [0.04880817, 0.05524665, 2.77334577, ..., 0.        , 5.        ,\n",
       "         0.        ]]),\n",
       " array([[0.00000000e+00, 0.00000000e+00, 0.00000000e+00, ...,\n",
       "         7.14126135e-02, 6.00000000e+00, 1.00000000e+00],\n",
       "        [8.05902384e-02, 2.87669073e-02, 3.02356219e+00, ...,\n",
       "         5.01133618e-02, 6.00000000e+00, 1.00000000e+00],\n",
       "        [1.04426788e-01, 4.60842998e-02, 2.87077503e+00, ...,\n",
       "         6.64704400e-02, 6.00000000e+00, 1.00000000e+00],\n",
       "        ...,\n",
       "        [1.13507378e-03, 1.21106492e-01, 2.97294663e+00, ...,\n",
       "         8.99811996e-02, 6.00000000e+00, 0.00000000e+00],\n",
       "        [1.13507378e-03, 1.13148380e-01, 2.96855116e+00, ...,\n",
       "         5.41940943e-02, 6.00000000e+00, 0.00000000e+00],\n",
       "        [0.00000000e+00, 1.66451783e-01, 3.24090050e+00, ...,\n",
       "         0.00000000e+00, 6.00000000e+00, 0.00000000e+00]]),\n",
       " array([[0.        , 0.        , 0.        , ..., 0.02270977, 7.        ,\n",
       "         1.        ],\n",
       "        [0.29057889, 0.01144636, 3.16113102, ..., 0.01037999, 7.        ,\n",
       "         1.        ],\n",
       "        [0.4415437 , 0.01622854, 3.26602327, ..., 0.00865463, 7.        ,\n",
       "         1.        ],\n",
       "        ...,\n",
       "        [0.04086266, 0.11318322, 3.29851005, ..., 0.03868577, 7.        ,\n",
       "         0.        ],\n",
       "        [0.03632236, 0.11257355, 3.29721093, ..., 0.04184825, 7.        ,\n",
       "         0.        ],\n",
       "        [0.03064699, 0.10415495, 3.27393668, ..., 0.        , 7.        ,\n",
       "         0.        ]])]"
      ]
     },
     "execution_count": 25,
     "metadata": {},
     "output_type": "execute_result"
    }
   ],
   "source": [
    "xx"
   ]
  },
  {
   "cell_type": "code",
   "execution_count": 26,
   "metadata": {},
   "outputs": [],
   "source": [
    "c = np.concatenate(xx,axis=0)"
   ]
  },
  {
   "cell_type": "code",
   "execution_count": 27,
   "metadata": {},
   "outputs": [
    {
     "data": {
      "text/plain": [
       "(51348, 104)"
      ]
     },
     "execution_count": 27,
     "metadata": {},
     "output_type": "execute_result"
    }
   ],
   "source": [
    "c.shape"
   ]
  },
  {
   "cell_type": "code",
   "execution_count": 31,
   "metadata": {},
   "outputs": [
    {
     "data": {
      "text/plain": [
       "array([ 0.00000000e+00,  0.00000000e+00,  0.00000000e+00,  0.00000000e+00,\n",
       "        0.00000000e+00,  0.00000000e+00,  0.00000000e+00,  0.00000000e+00,\n",
       "        0.00000000e+00,  0.00000000e+00,  0.00000000e+00,  0.00000000e+00,\n",
       "        0.00000000e+00,  0.00000000e+00,  0.00000000e+00,  0.00000000e+00,\n",
       "        0.00000000e+00,  0.00000000e+00,  0.00000000e+00,  0.00000000e+00,\n",
       "        0.00000000e+00,  0.00000000e+00,  0.00000000e+00,  0.00000000e+00,\n",
       "        0.00000000e+00,  0.00000000e+00,  0.00000000e+00,  0.00000000e+00,\n",
       "        0.00000000e+00,  0.00000000e+00,  0.00000000e+00,  0.00000000e+00,\n",
       "        0.00000000e+00,  0.00000000e+00,  2.61066969e-02,  2.38809978e-02,\n",
       "        2.95251418e+00,  1.49146586e-01,  2.39787433e-01,  1.27923699e-01,\n",
       "        0.00000000e+00,  2.26757370e-02, -2.48280482e+01,  2.66526479e+00,\n",
       "        1.05931726e-01,  1.07515522e-01,  1.66281890e-01,  2.73602186e-01,\n",
       "        2.19841888e-01,  1.37654325e-01, -9.98709153e-02, -4.28346715e-02,\n",
       "       -1.32253766e-01, -1.16317422e-02,  9.16631669e-02,  7.50034576e-03,\n",
       "        5.05958735e-04,  1.21885153e-02,  4.53544475e-04,  2.20294192e-02,\n",
       "        2.12379041e-02,  2.34852871e-04,  3.14306973e-04,  8.91842507e-03,\n",
       "        1.55954675e-03,  1.98839549e-01,  4.46688047e-04,  5.36146068e-02,\n",
       "        3.97275823e-02,  1.01813549e-02,  2.79233571e+00,  1.25940058e-01,\n",
       "        2.35431233e-01,  7.49454976e-02,  9.64585096e-03,  2.26757370e-02,\n",
       "       -2.62997525e+01,  3.14619207e+00,  1.47713800e-01, -1.19379148e-01,\n",
       "       -4.57526988e-01,  2.14392855e-01,  1.72030479e-02,  3.21401097e-01,\n",
       "        5.50894906e-01,  1.35671819e-02,  2.50379045e-01, -1.40667531e-01,\n",
       "       -7.72915703e-02,  3.35564344e-02,  5.08924602e-04,  2.11600399e-02,\n",
       "        1.91133331e-04,  1.85636826e-02,  1.13317667e-02,  1.22816343e-04,\n",
       "        9.48859246e-04,  4.10722116e-03,  7.62410316e-04,  1.46623409e-01,\n",
       "        4.38005466e-04,  3.96140269e-02,  0.00000000e+00,  1.00000000e+00])"
      ]
     },
     "execution_count": 31,
     "metadata": {},
     "output_type": "execute_result"
    }
   ],
   "source": [
    "c[0]"
   ]
  },
  {
   "cell_type": "code",
   "execution_count": 32,
   "metadata": {},
   "outputs": [
    {
     "data": {
      "text/plain": [
       "(51348, 104)"
      ]
     },
     "execution_count": 32,
     "metadata": {},
     "output_type": "execute_result"
    }
   ],
   "source": [
    "c.shape"
   ]
  },
  {
   "cell_type": "code",
   "execution_count": 33,
   "metadata": {},
   "outputs": [
    {
     "data": {
      "text/plain": [
       "(51348, 34)"
      ]
     },
     "execution_count": 33,
     "metadata": {},
     "output_type": "execute_result"
    }
   ],
   "source": [
    "c[:,2*nFeatures:3*nFeatures].shape"
   ]
  },
  {
   "cell_type": "code",
   "execution_count": 38,
   "metadata": {},
   "outputs": [],
   "source": [
    "mask = np.zeros(c.shape,dtype=bool)"
   ]
  },
  {
   "cell_type": "code",
   "execution_count": 62,
   "metadata": {},
   "outputs": [
    {
     "data": {
      "text/plain": [
       "(149740, 36)"
      ]
     },
     "execution_count": 62,
     "metadata": {},
     "output_type": "execute_result"
    }
   ],
   "source": [
    "data_NoContxt.shape"
   ]
  },
  {
   "cell_type": "code",
   "execution_count": 63,
   "metadata": {},
   "outputs": [
    {
     "data": {
      "text/plain": [
       "['zcr',\n",
       " 'energy',\n",
       " 'energy_entropy',\n",
       " 'spectral_centroid',\n",
       " 'spectral_spread',\n",
       " 'spectral_entropy',\n",
       " 'spectral_flux',\n",
       " 'spectral_rolloff',\n",
       " 'mfcc_1',\n",
       " 'mfcc_2',\n",
       " 'mfcc_3',\n",
       " 'mfcc_4',\n",
       " 'mfcc_5',\n",
       " 'mfcc_6',\n",
       " 'mfcc_7',\n",
       " 'mfcc_8',\n",
       " 'mfcc_9',\n",
       " 'mfcc_10',\n",
       " 'mfcc_11',\n",
       " 'mfcc_12',\n",
       " 'mfcc_13',\n",
       " 'chroma_1',\n",
       " 'chroma_2',\n",
       " 'chroma_3',\n",
       " 'chroma_4',\n",
       " 'chroma_5',\n",
       " 'chroma_6',\n",
       " 'chroma_7',\n",
       " 'chroma_8',\n",
       " 'chroma_9',\n",
       " 'chroma_10',\n",
       " 'chroma_11',\n",
       " 'chroma_12',\n",
       " 'chroma_std']"
      ]
     },
     "execution_count": 63,
     "metadata": {},
     "output_type": "execute_result"
    }
   ],
   "source": [
    "lFeatures_names"
   ]
  },
  {
   "cell_type": "code",
   "execution_count": 65,
   "metadata": {},
   "outputs": [
    {
     "data": {
      "text/plain": [
       "36"
      ]
     },
     "execution_count": 65,
     "metadata": {},
     "output_type": "execute_result"
    }
   ],
   "source": [
    "len(lFeatures_names+['f','g'])"
   ]
  },
  {
   "cell_type": "code",
   "execution_count": 18,
   "metadata": {},
   "outputs": [],
   "source": [
    "pp = [1,2,3,2,1]"
   ]
  },
  {
   "cell_type": "code",
   "execution_count": 19,
   "metadata": {},
   "outputs": [],
   "source": [
    "import scipy"
   ]
  },
  {
   "cell_type": "code",
   "execution_count": 41,
   "metadata": {},
   "outputs": [
    {
     "data": {
      "text/plain": [
       "array([ 10345,  50205, 122302, 221755, 268294])"
      ]
     },
     "execution_count": 41,
     "metadata": {},
     "output_type": "execute_result"
    }
   ],
   "source": [
    "scipy.signal.find_peaks(vSum,height=98)[0]"
   ]
  },
  {
   "cell_type": "code",
   "execution_count": 44,
   "metadata": {},
   "outputs": [
    {
     "data": {
      "text/plain": [
       "'/media/Windows/root/AusKidTalk/Recordings/13_aug_2020/90 3_2_0/90 Primary_15-01.wav'"
      ]
     },
     "execution_count": 44,
     "metadata": {},
     "output_type": "execute_result"
    }
   ],
   "source": [
    "lFileNames[7]"
   ]
  },
  {
   "cell_type": "code",
   "execution_count": null,
   "metadata": {},
   "outputs": [
    {
     "name": "stdout",
     "output_type": "stream",
     "text": [
      "8\n",
      "(149740, 170) (149740,)\n",
      "File /media/Windows/root/AusKidTalk/Recordings/9_jan_2020/Primary_07-01.wav ********************\n",
      "(131266, 170) (18474, 170) (131266,) (18474,)\n"
     ]
    }
   ],
   "source": [
    "#Load egs Data\n",
    "legs = glob.glob(os.path.join(egs_dir,'*.npy'))\n",
    "assert len(legs) > 0, 'No egs'\n",
    "\n",
    "#Load data from egs directory\n",
    "data = np.concatenate([np.load(file) for file in legs],axis=0)\n",
    "X = data[:,:-2]\n",
    "y = data[:,-1].astype(int)\n",
    "groups = data[:,-2].astype(int)\n",
    "\n",
    "#Split data where one recording out\n",
    "spliter = LeaveOneGroupOut()\n",
    "print(spliter.get_n_splits(X,y,groups))\n",
    "print(X.shape,y.shape)\n",
    "\n",
    "#Load CSV file in dictionary of key=filename, value=[(start_beep_time,end_beep_time),]\n",
    "dBeepTimes = defaultdict(list)\n",
    "sBeepTimesCSVFile = '../../Recordings/Beep_Times.csv'\n",
    "Beep_Times = pd.read_csv(sBeepTimesCSVFile,header=None)\n",
    "for index, row in Beep_Times.iterrows():\n",
    "    sWavFile = row[0]\n",
    "    i = 1\n",
    "    while i <= row.size-1:\n",
    "        #print(i)\n",
    "        if not np.isnan(row[i]):\n",
    "            dBeepTimes[sWavFile].append((row[i],row[i+1]))\n",
    "            i += 2\n",
    "        else:\n",
    "            i += 1\n",
    "lFileNames = list(dBeepTimes.keys())\n",
    "\n",
    "\n",
    "TestFileIndex = 0\n",
    "for train_indx, test_indx in spliter.split(X,y,groups):\n",
    "    testFileName = lFileNames[TestFileIndex]\n",
    "    print('File {0} ********************'.format(testFileName))\n",
    "    \n",
    "    X_train, X_test, y_train, y_test = X[train_indx], X[test_indx], y[train_indx], y[test_indx]\n",
    "    TestFileIndex += 1\n",
    "    \n",
    "    print(X_train.shape, X_test.shape, y_train.shape, y_test.shape)\n",
    "    clf = Pipeline([('scaler',StandardScaler()),('svc',svm.SVC(kernel='rbf', C=10, gamma=0.0001, class_weight='balanced'))])\n",
    "    clf.fit(X_train, y_train)\n"
   ]
  },
  {
   "cell_type": "code",
   "execution_count": 3,
   "metadata": {},
   "outputs": [],
   "source": [
    "c = np.zeros(30)"
   ]
  },
  {
   "cell_type": "code",
   "execution_count": 4,
   "metadata": {},
   "outputs": [],
   "source": [
    "c[0:20] = 1"
   ]
  },
  {
   "cell_type": "code",
   "execution_count": 5,
   "metadata": {},
   "outputs": [
    {
     "data": {
      "text/plain": [
       "array([1., 1., 1., 1., 1., 1., 1., 1., 1., 1., 1., 1., 1., 1., 1., 1., 1.,\n",
       "       1., 1., 1., 0., 0., 0., 0., 0., 0., 0., 0., 0., 0.])"
      ]
     },
     "execution_count": 5,
     "metadata": {},
     "output_type": "execute_result"
    }
   ],
   "source": [
    "c"
   ]
  },
  {
   "cell_type": "code",
   "execution_count": 1,
   "metadata": {},
   "outputs": [],
   "source": [
    "import configparser"
   ]
  },
  {
   "cell_type": "code",
   "execution_count": 2,
   "metadata": {},
   "outputs": [],
   "source": [
    "config = configparser.ConfigParser()"
   ]
  },
  {
   "cell_type": "code",
   "execution_count": 3,
   "metadata": {},
   "outputs": [],
   "source": [
    "conf = config.read('beep.ini')"
   ]
  },
  {
   "cell_type": "code",
   "execution_count": 4,
   "metadata": {},
   "outputs": [
    {
     "data": {
      "text/plain": [
       "['beep.ini']"
      ]
     },
     "execution_count": 4,
     "metadata": {},
     "output_type": "execute_result"
    }
   ],
   "source": [
    "conf"
   ]
  },
  {
   "cell_type": "code",
   "execution_count": 5,
   "metadata": {},
   "outputs": [
    {
     "name": "stdout",
     "output_type": "stream",
     "text": [
      "Hi\n"
     ]
    }
   ],
   "source": [
    "try:\n",
    "    flags = config['FLAGS']\n",
    "except KeyError:\n",
    "    print('Config file should contain [FLAGS] section')\n",
    "print('Hi')"
   ]
  },
  {
   "cell_type": "code",
   "execution_count": 7,
   "metadata": {},
   "outputs": [],
   "source": [
    "Flags = flags\n",
    "if 'Context' in Flags:\n",
    "    Context = tuple([int(i) for i in Flags['Context'].split(',')])\n",
    "if 'FrameRate' in Flags:\n",
    "    fFrameRate = Flags.getfloat('FrameRate')\n",
    "if 'WindowSize' in Flags:\n",
    "    fWindowSize = Flags.getfloat('WindowSize')\n",
    "if 'UseDelta' in Flags:\n",
    "    bUseDelta = Flags.getboolean('UseDelta')\n",
    "if 'FeatureType' in Flags:\n",
    "    sFeatureType = Flags['FeatureType']"
   ]
  },
  {
   "cell_type": "code",
   "execution_count": 12,
   "metadata": {},
   "outputs": [
    {
     "data": {
      "text/plain": [
       "'STF'"
      ]
     },
     "execution_count": 12,
     "metadata": {},
     "output_type": "execute_result"
    }
   ],
   "source": [
    "sFeatureType"
   ]
  },
  {
   "cell_type": "code",
   "execution_count": 65,
   "metadata": {},
   "outputs": [
    {
     "data": {
      "text/plain": [
       "array([ 103.45,  502.05, 1223.02, 2217.55, 2682.94])"
      ]
     },
     "execution_count": 65,
     "metadata": {},
     "output_type": "execute_result"
    }
   ],
   "source": [
    "lPeaks*0.01"
   ]
  },
  {
   "cell_type": "code",
   "execution_count": 66,
   "metadata": {},
   "outputs": [
    {
     "data": {
      "text/plain": [
       "True"
      ]
     },
     "execution_count": 66,
     "metadata": {},
     "output_type": "execute_result"
    }
   ],
   "source": [
    "'Context' in flags"
   ]
  },
  {
   "cell_type": "code",
   "execution_count": 67,
   "metadata": {},
   "outputs": [],
   "source": [
    "Context = tuple([int(i) for i in flags['Context'].split(',')])"
   ]
  },
  {
   "cell_type": "code",
   "execution_count": 68,
   "metadata": {},
   "outputs": [
    {
     "data": {
      "text/plain": [
       "(-2, -1, 0, 1, 2)"
      ]
     },
     "execution_count": 68,
     "metadata": {},
     "output_type": "execute_result"
    }
   ],
   "source": [
    "Context"
   ]
  },
  {
   "cell_type": "code",
   "execution_count": 69,
   "metadata": {},
   "outputs": [
    {
     "data": {
      "text/plain": [
       "False"
      ]
     },
     "execution_count": 69,
     "metadata": {},
     "output_type": "execute_result"
    }
   ],
   "source": [
    "flags.getboolean('UseDelta')"
   ]
  },
  {
   "cell_type": "code",
   "execution_count": 70,
   "metadata": {},
   "outputs": [],
   "source": [
    "import cProfile"
   ]
  },
  {
   "cell_type": "code",
   "execution_count": 72,
   "metadata": {},
   "outputs": [
    {
     "name": "stdout",
     "output_type": "stream",
     "text": [
      "         154 function calls in 0.000 seconds\n",
      "\n",
      "   Ordered by: standard name\n",
      "\n",
      "   ncalls  tottime  percall  cumtime  percall filename:lineno(function)\n",
      "        1    0.000    0.000    0.000    0.000 <string>:1(<module>)\n",
      "        1    0.000    0.000    0.000    0.000 _bootlocale.py:33(getpreferredencoding)\n",
      "        1    0.000    0.000    0.000    0.000 abc.py:137(__instancecheck__)\n",
      "        1    0.000    0.000    0.000    0.000 codecs.py:260(__init__)\n",
      "        1    0.000    0.000    0.000    0.000 codecs.py:309(__init__)\n",
      "        2    0.000    0.000    0.000    0.000 codecs.py:319(decode)\n",
      "        7    0.000    0.000    0.000    0.000 configparser.py:1017(<dictcomp>)\n",
      "        1    0.000    0.000    0.000    0.000 configparser.py:1112(_join_multiline_values)\n",
      "        6    0.000    0.000    0.000    0.000 configparser.py:368(before_read)\n",
      "        1    0.000    0.000    0.000    0.000 configparser.py:678(read)\n",
      "        6    0.000    0.000    0.000    0.000 configparser.py:872(optionxform)\n",
      "        1    0.000    0.000    0.000    0.000 configparser.py:990(_read)\n",
      "        1    0.000    0.000    0.000    0.000 {built-in method _abc._abc_instancecheck}\n",
      "        2    0.000    0.000    0.000    0.000 {built-in method _codecs.utf_8_decode}\n",
      "        1    0.000    0.000    0.000    0.000 {built-in method _locale.nl_langinfo}\n",
      "        1    0.000    0.000    0.000    0.000 {built-in method builtins.exec}\n",
      "        8    0.000    0.000    0.000    0.000 {built-in method builtins.isinstance}\n",
      "        1    0.000    0.000    0.000    0.000 {built-in method io.open}\n",
      "        7    0.000    0.000    0.000    0.000 {method 'add' of 'set' objects}\n",
      "        1    0.000    0.000    0.000    0.000 {method 'append' of 'list' objects}\n",
      "        1    0.000    0.000    0.000    0.000 {method 'disable' of '_lsprof.Profiler' objects}\n",
      "        7    0.000    0.000    0.000    0.000 {method 'group' of 're.Match' objects}\n",
      "        3    0.000    0.000    0.000    0.000 {method 'items' of 'collections.OrderedDict' objects}\n",
      "        6    0.000    0.000    0.000    0.000 {method 'join' of 'str' objects}\n",
      "        6    0.000    0.000    0.000    0.000 {method 'lower' of 'str' objects}\n",
      "       13    0.000    0.000    0.000    0.000 {method 'match' of 're.Pattern' objects}\n",
      "       12    0.000    0.000    0.000    0.000 {method 'rstrip' of 'str' objects}\n",
      "        7    0.000    0.000    0.000    0.000 {method 'search' of 're.Pattern' objects}\n",
      "        7    0.000    0.000    0.000    0.000 {method 'start' of 're.Match' objects}\n",
      "       14    0.000    0.000    0.000    0.000 {method 'startswith' of 'str' objects}\n",
      "       27    0.000    0.000    0.000    0.000 {method 'strip' of 'str' objects}\n",
      "\n",
      "\n"
     ]
    }
   ],
   "source": [
    "cProfile.run(\"config.read('beep.ini')\")"
   ]
  },
  {
   "cell_type": "code",
   "execution_count": 79,
   "metadata": {},
   "outputs": [
    {
     "data": {
      "text/plain": [
       "['zcr',\n",
       " 'energy',\n",
       " 'energy_entropy',\n",
       " 'spectral_centroid',\n",
       " 'spectral_spread',\n",
       " 'spectral_entropy',\n",
       " 'spectral_flux',\n",
       " 'spectral_rolloff',\n",
       " 'mfcc_1',\n",
       " 'mfcc_2',\n",
       " 'mfcc_3',\n",
       " 'mfcc_4',\n",
       " 'mfcc_5',\n",
       " 'mfcc_6',\n",
       " 'mfcc_7',\n",
       " 'mfcc_8',\n",
       " 'mfcc_9',\n",
       " 'mfcc_10',\n",
       " 'mfcc_11',\n",
       " 'mfcc_12']"
      ]
     },
     "execution_count": 79,
     "metadata": {},
     "output_type": "execute_result"
    }
   ],
   "source": [
    "lFeatures_names[:20]"
   ]
  },
  {
   "cell_type": "code",
   "execution_count": null,
   "metadata": {},
   "outputs": [],
   "source": []
  }
 ],
 "metadata": {
  "kernelspec": {
   "display_name": "Python 3",
   "language": "python",
   "name": "python3"
  },
  "language_info": {
   "codemirror_mode": {
    "name": "ipython",
    "version": 3
   },
   "file_extension": ".py",
   "mimetype": "text/x-python",
   "name": "python",
   "nbconvert_exporter": "python",
   "pygments_lexer": "ipython3",
   "version": "3.7.6"
  }
 },
 "nbformat": 4,
 "nbformat_minor": 4
}
