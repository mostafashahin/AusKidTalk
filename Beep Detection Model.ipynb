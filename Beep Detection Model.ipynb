{
 "cells": [
  {
   "cell_type": "code",
   "execution_count": 1,
   "metadata": {},
   "outputs": [],
   "source": [
    "import os, glob\n",
    "import pandas as pd\n",
    "import numpy as np\n",
    "from collections import defaultdict\n",
    "import wave, struct\n",
    "import matplotlib.pyplot as plt\n",
    "import pyAudioAnalysis.pyAudioAnalysis.ShortTermFeatures as sF\n",
    "from sklearn.preprocessing import MinMaxScaler, StandardScaler\n",
    "from sklearn.model_selection import train_test_split, LeaveOneGroupOut\n",
    "from sklearn import svm\n",
    "from sklearn.metrics import classification_report, confusion_matrix\n",
    "from sklearn.model_selection import GridSearchCV\n",
    "from sklearn.pipeline import Pipeline"
   ]
  },
  {
   "cell_type": "code",
   "execution_count": 2,
   "metadata": {},
   "outputs": [],
   "source": [
    "#Flags\n",
    "use_delta = False\n",
    "fWindowSize = 0.02\n",
    "fStepSize = 0.01\n",
    "Context = (-2,-1,0,1,2)\n",
    "working_dir = 'egs/BeepDetModel'\n",
    "egs_dir = os.path.join(working_dir,'egs')\n",
    "nFeatures = 68 if use_delta else 34"
   ]
  },
  {
   "cell_type": "markdown",
   "metadata": {},
   "source": [
    "## Feature Extraction"
   ]
  },
  {
   "cell_type": "code",
   "execution_count": 2,
   "metadata": {},
   "outputs": [],
   "source": [
    "#Load CSV file in dictionary of key=filename, value=[(start_beep_time,end_beep_time),]\n",
    "dBeepTimes = defaultdict(list)\n",
    "sBeepTimesCSVFile = '../../Recordings/Beep_Times.csv'\n",
    "Beep_Times = pd.read_csv(sBeepTimesCSVFile,header=None)\n",
    "for index, row in Beep_Times.iterrows():\n",
    "    sWavFile = row[0]\n",
    "    i = 1\n",
    "    while i <= row.size-1:\n",
    "        #print(i)\n",
    "        if not np.isnan(row[i]):\n",
    "            dBeepTimes[sWavFile].append((row[i],row[i+1]))\n",
    "            i += 2\n",
    "        else:\n",
    "            i += 1"
   ]
  },
  {
   "cell_type": "code",
   "execution_count": 7,
   "metadata": {
    "scrolled": false
   },
   "outputs": [
    {
     "name": "stdout",
     "output_type": "stream",
     "text": [
      "Processing /media/Windows/root/AusKidTalk/Recordings/9_jan_2020/Primary_07-01.wav from fram 577710 to 621810 samples (99, 171)\n",
      "375 NonBeep random samples selected\n",
      "File /media/Windows/root/AusKidTalk/Recordings/9_jan_2020/Primary_07-01.wav, Total Number of Beep Samples 99, Total Number of NonBeep Samples 18375\n",
      "Processing /media/Windows/root/AusKidTalk/Recordings/9_jan_2020/Testing_with_Mostafa_kids/Primary_04-01.wav from fram 1539530 to 1583630 samples (99, 171)\n",
      "Processing /media/Windows/root/AusKidTalk/Recordings/9_jan_2020/Testing_with_Mostafa_kids/Primary_04-01.wav from fram 8574583 to 8618683 samples (99, 171)\n",
      "Processing /media/Windows/root/AusKidTalk/Recordings/9_jan_2020/Testing_with_Mostafa_kids/Primary_04-01.wav from fram 14655223 to 14699323 samples (99, 171)\n",
      "Processing /media/Windows/root/AusKidTalk/Recordings/9_jan_2020/Testing_with_Mostafa_kids/Primary_04-01.wav from fram 46328725 to 46372825 samples (99, 171)\n",
      "Processing /media/Windows/root/AusKidTalk/Recordings/9_jan_2020/Testing_with_Mostafa_kids/Primary_04-01.wav from fram 46989917 to 47034017 samples (99, 171)\n",
      "Processing /media/Windows/root/AusKidTalk/Recordings/9_jan_2020/Testing_with_Mostafa_kids/Primary_04-01.wav from fram 55920211 to 55964311 samples (99, 171)\n",
      "Processing /media/Windows/root/AusKidTalk/Recordings/9_jan_2020/Testing_with_Mostafa_kids/Primary_04-01.wav from fram 59876069 to 59920169 samples (99, 171)\n",
      "Processing /media/Windows/root/AusKidTalk/Recordings/9_jan_2020/Testing_with_Mostafa_kids/Primary_04-01.wav from fram 61419525 to 61468035 samples (109, 171)\n",
      "Processing /media/Windows/root/AusKidTalk/Recordings/9_jan_2020/Testing_with_Mostafa_kids/Primary_04-01.wav from fram 62738159 to 62782259 samples (99, 171)\n",
      "369 NonBeep random samples selected\n",
      "File /media/Windows/root/AusKidTalk/Recordings/9_jan_2020/Testing_with_Mostafa_kids/Primary_04-01.wav, Total Number of Beep Samples 901, Total Number of NonBeep Samples 18081\n",
      "Processing /media/Windows/root/AusKidTalk/Recordings/10_March_2020/Audio 1_01-01.wav from fram 317961 to 362061 samples (99, 171)\n",
      "Processing /media/Windows/root/AusKidTalk/Recordings/10_March_2020/Audio 1_01-01.wav from fram 12317130 to 12361230 samples (99, 171)\n",
      "Processing /media/Windows/root/AusKidTalk/Recordings/10_March_2020/Audio 1_01-01.wav from fram 16785342 to 16829442 samples (99, 171)\n",
      "375 NonBeep random samples selected\n",
      "File /media/Windows/root/AusKidTalk/Recordings/10_March_2020/Audio 1_01-01.wav, Total Number of Beep Samples 297, Total Number of NonBeep Samples 18375\n",
      "Processing /media/Windows/root/AusKidTalk/Recordings/24_jan_2020/child_2_2/Primary_03-01.wav from fram 20402379 to 20446479 samples (99, 171)\n",
      "Processing /media/Windows/root/AusKidTalk/Recordings/24_jan_2020/child_2_2/Primary_03-01.wav from fram 26398701 to 26442801 samples (99, 171)\n",
      "374 NonBeep random samples selected\n",
      "File /media/Windows/root/AusKidTalk/Recordings/24_jan_2020/child_2_2/Primary_03-01.wav, Total Number of Beep Samples 198, Total Number of NonBeep Samples 18326\n",
      "Processing /media/Windows/root/AusKidTalk/Recordings/24_jan_2020/Child1/Primary_01-01.wav from fram 744849 to 788949 samples (99, 171)\n",
      "Processing /media/Windows/root/AusKidTalk/Recordings/24_jan_2020/Child1/Primary_01-01.wav from fram 6730101 to 6774201 samples (99, 171)\n",
      "374 NonBeep random samples selected\n",
      "File /media/Windows/root/AusKidTalk/Recordings/24_jan_2020/Child1/Primary_01-01.wav, Total Number of Beep Samples 198, Total Number of NonBeep Samples 18326\n",
      "Processing /media/Windows/root/AusKidTalk/Recordings/24_jan_2020/Child2/Primary_02-01.wav from fram 181692 to 225792 samples (99, 171)\n",
      "Processing /media/Windows/root/AusKidTalk/Recordings/24_jan_2020/Child2/Primary_02-01.wav from fram 22322405 to 22366505 samples (99, 171)\n",
      "Processing /media/Windows/root/AusKidTalk/Recordings/24_jan_2020/Child2/Primary_02-01.wav from fram 35277795 to 35321895 samples (99, 171)\n",
      "Processing /media/Windows/root/AusKidTalk/Recordings/24_jan_2020/Child2/Primary_02-01.wav from fram 38533698 to 38577798 samples (99, 171)\n",
      "Processing /media/Windows/root/AusKidTalk/Recordings/24_jan_2020/Child2/Primary_02-01.wav from fram 63193095 to 63237195 samples (99, 171)\n",
      "Processing /media/Windows/root/AusKidTalk/Recordings/24_jan_2020/Child2/Primary_02-01.wav from fram 64800981 to 64845081 samples (99, 171)\n",
      "372 NonBeep random samples selected\n",
      "File /media/Windows/root/AusKidTalk/Recordings/24_jan_2020/Child2/Primary_02-01.wav, Total Number of Beep Samples 594, Total Number of NonBeep Samples 18228\n",
      "Processing /media/Windows/root/AusKidTalk/Recordings/28_jul_2020/81 3_2_0/81 Primary_13-01.wav from fram 1352106 to 1396206 samples (99, 171)\n",
      "Processing /media/Windows/root/AusKidTalk/Recordings/28_jul_2020/81 3_2_0/81 Primary_13-01.wav from fram 24380596 to 24424696 samples (99, 171)\n",
      "Processing /media/Windows/root/AusKidTalk/Recordings/28_jul_2020/81 3_2_0/81 Primary_13-01.wav from fram 58862475 to 58906575 samples (99, 171)\n",
      "Processing /media/Windows/root/AusKidTalk/Recordings/28_jul_2020/81 3_2_0/81 Primary_13-01.wav from fram 98161749 to 98205849 samples (99, 171)\n",
      "Processing /media/Windows/root/AusKidTalk/Recordings/28_jul_2020/81 3_2_0/81 Primary_13-01.wav from fram 99178033 to 99222133 samples (99, 171)\n",
      "Processing /media/Windows/root/AusKidTalk/Recordings/28_jul_2020/81 3_2_0/81 Primary_13-01.wav from fram 121041666 to 121085766 samples (99, 171)\n",
      "Processing /media/Windows/root/AusKidTalk/Recordings/28_jul_2020/81 3_2_0/81 Primary_13-01.wav from fram 150082707 to 150126807 samples (99, 171)\n",
      "371 NonBeep random samples selected\n",
      "File /media/Windows/root/AusKidTalk/Recordings/28_jul_2020/81 3_2_0/81 Primary_13-01.wav, Total Number of Beep Samples 693, Total Number of NonBeep Samples 18179\n",
      "Processing /media/Windows/root/AusKidTalk/Recordings/13_aug_2020/90 3_2_0/90 Primary_15-01.wav from fram 4562894 to 4606994 samples (99, 171)\n",
      "Processing /media/Windows/root/AusKidTalk/Recordings/13_aug_2020/90 3_2_0/90 Primary_15-01.wav from fram 22140184 to 22184505 samples (99, 171)\n",
      "Processing /media/Windows/root/AusKidTalk/Recordings/13_aug_2020/90 3_2_0/90 Primary_15-01.wav from fram 53932977 to 53977077 samples (99, 171)\n",
      "Processing /media/Windows/root/AusKidTalk/Recordings/13_aug_2020/90 3_2_0/90 Primary_15-01.wav from fram 97797483 to 97841583 samples (99, 171)\n",
      "Processing /media/Windows/root/AusKidTalk/Recordings/13_aug_2020/90 3_2_0/90 Primary_15-01.wav from fram 118314831 to 118358931 samples (99, 171)\n",
      "375 NonBeep random samples selected\n",
      "File /media/Windows/root/AusKidTalk/Recordings/13_aug_2020/90 3_2_0/90 Primary_15-01.wav, Total Number of Beep Samples 495, Total Number of NonBeep Samples 18375\n"
     ]
    }
   ],
   "source": [
    "#Load each wav file, split to frames and extract features\n",
    "testFileNames = ['/media/Windows/root/AusKidTalk/Recordings/28_jul_2020/81 3_2_0/81 Primary_13-01.wav']\n",
    "working_dir = 'egs/BeepDetModel'\n",
    "egs_dir = os.path.join(working_dir,'egs')\n",
    "\n",
    "os.makedirs(egs_dir)\n",
    "\n",
    "use_delta = False\n",
    "fWindowSize = 0.02\n",
    "fStepSize = 0.01\n",
    "Context = (-2,-1,0,1,2)\n",
    "\n",
    "nFeatures = 68 if use_delta else 34\n",
    "\n",
    "nNonBeepSamples = 3000\n",
    "\n",
    "#data_beep = np.zeros((1000000,len(Context)*nFeatures+1),dtype=float) #Num Features + 1 for file index \n",
    "#data_NonBeep = np.zeros((1000000,len(Context)*nFeatures+1),dtype=float)\n",
    "\n",
    "\n",
    "alldata = []\n",
    "nNonBeepPerFile = int(nNonBeepSamples/len(dBeepTimes))\n",
    "FileIndx = 0\n",
    "\n",
    "#Get number of padded rows for context\n",
    "nPostPad = max(Context)\n",
    "nPrePad = abs(min(Context))\n",
    "\n",
    "for sWavFile in dBeepTimes:\n",
    "    data_beep = np.zeros((1000000,len(Context)*nFeatures+1),dtype=float) #Num Features + 1 for file index and (1 or 0) for beep and nonbeep samples \n",
    "    data_NonBeep = np.zeros((1000000,len(Context)*nFeatures+1),dtype=float)\n",
    "    iBeepPointer = 0\n",
    "    iNonBeepPointer = 0\n",
    "\n",
    "    #if WavFile in testFileNames:\n",
    "    #   continue\n",
    "    iCurrSample = 0\n",
    "    with wave.open(sWavFile) as fWav:\n",
    "        #Make sure that the sampling size is 16 bit\n",
    "        assert fWav.getsampwidth() == 2, 'Only 16 bit resolution supported'\n",
    "        \n",
    "        iFrameRate = fWav.getframerate()\n",
    "        nTotalFrames = fWav.getnframes()\n",
    "        lNonBeepFramesIndxs = []\n",
    "        \n",
    "        #Read beep samples\n",
    "        for fStartTime, fEndTime in dBeepTimes[sWavFile]:\n",
    "            iStartFram = int(fStartTime * iFrameRate)\n",
    "            iEndFram = int(fEndTime * iFrameRate)\n",
    "            \n",
    "            if iCurrSample <= iStartFram-2*iFrameRate:\n",
    "                lNonBeepFramesIndxs.append((iCurrSample,iStartFram-iFrameRate))#Get all non Beep samples we leave 1 second before the start of beep\n",
    "                iCurrSample = iEndFram + iFrameRate\n",
    "            \n",
    "            nFrames = iEndFram - iStartFram\n",
    "            fWav.setpos(iStartFram)\n",
    "            \n",
    "            data = fWav.readframes(nFrames)\n",
    "            data = [ i[0] for i in struct.iter_unpack('h',data)]\n",
    "            data = np.asarray(data)\n",
    "            \n",
    "            aFeatures, lFeatures_names = sF.feature_extraction(data,iFrameRate,int(fWindowSize*iFrameRate),int(fStepSize*iFrameRate),deltas=use_delta)\n",
    "            \n",
    "            aFeatures = aFeatures.T\n",
    "            #Handle context\n",
    "            aPostPad = np.zeros((nPostPad,aFeatures.shape[1]))\n",
    "            aPrePad = np.zeros((nPrePad,aFeatures.shape[1]))\n",
    "            \n",
    "            aFeatures_pad = np.r_[aPrePad,aFeatures,aPostPad]\n",
    "            \n",
    "            aShiftVer = [np.roll(aFeatures_pad, i, axis=0) for i in Context[::-1]]\n",
    "            \n",
    "            aFeatures_beep = np.concatenate(aShiftVer,axis=1)[0+nPrePad:-nPostPad]\n",
    "            aFeatures_beep = np.c_[aFeatures_beep,np.zeros(aFeatures_beep.shape[0])+FileIndx]\n",
    "                        \n",
    "            data_beep[iBeepPointer:iBeepPointer+aFeatures_beep.shape[0]] = aFeatures_beep\n",
    "            \n",
    "            iBeepPointer += aFeatures_beep.shape[0]\n",
    "            print(\"Processing {0} from fram {1} to {2} samples {3}\".format(sWavFile,iStartFram,iEndFram,aFeatures_beep.shape))\n",
    "        \n",
    "        #Get Random non-beep samples\n",
    "        nNonBeepSegments = len(lNonBeepFramesIndxs)\n",
    "        nNonBeepPerSegment = int(nNonBeepPerFile/nNonBeepSegments)\n",
    "        lSamples = []\n",
    "        for iStart, iEnd in lNonBeepFramesIndxs:\n",
    "            lSamples.extend(np.random.choice(range(iStart,iEnd),nNonBeepPerSegment,replace=False))\n",
    "        print(\"{0} NonBeep random samples selected\".format(len(lSamples)))\n",
    "        i = 0\n",
    "        for iSample in lSamples:\n",
    "            i += 1\n",
    "            #print(\"{0}/{1}\".format(i,len(lSamples)))\n",
    "            fWav.setpos(iSample)\n",
    "            \n",
    "            data = fWav.readframes(int(0.5*iFrameRate))\n",
    "            data = [ i[0] for i in struct.iter_unpack('h',data)]\n",
    "            data = np.asarray(data)\n",
    "            \n",
    "            aFeatures, lFeatures_names = sF.feature_extraction(data,iFrameRate,int(fWindowSize*iFrameRate),int(fStepSize*iFrameRate),deltas=use_delta)\n",
    "            \n",
    "            aFeatures = aFeatures.T\n",
    "            #Handle context\n",
    "            aPostPad = np.zeros((nPostPad,aFeatures.shape[1]))\n",
    "            aPrePad = np.zeros((nPrePad,aFeatures.shape[1]))\n",
    "            \n",
    "            aFeatures_pad = np.r_[aPrePad,aFeatures,aPostPad]\n",
    "            \n",
    "            aShiftVer = [np.roll(aFeatures_pad, i, axis=0) for i in Context[::-1]]\n",
    "            \n",
    "            aFeatures_NonBeep = np.concatenate(aShiftVer,axis=1)[0+nPrePad:-nPostPad]\n",
    "            aFeatures_NonBeep = np.c_[aFeatures_NonBeep,np.zeros(aFeatures_NonBeep.shape[0])+FileIndx]\n",
    "            \n",
    "            data_NonBeep[iNonBeepPointer:iNonBeepPointer+aFeatures_NonBeep.shape[0]] = aFeatures_NonBeep\n",
    "            \n",
    "            iNonBeepPointer += aFeatures_NonBeep.shape[0]\n",
    "    data_beep = data_beep[:iBeepPointer]\n",
    "    data_NonBeep = data_NonBeep[:iNonBeepPointer]\n",
    "    data_beep = np.c_[data_beep,np.ones(data_beep.shape[0],dtype=int)]\n",
    "    data_NonBeep = np.c_[data_NonBeep,np.zeros(data_NonBeep.shape[0],dtype=int)]\n",
    "    data = np.r_[data_beep, data_NonBeep]\n",
    "\n",
    "    print(\"File {2}, Total Number of Beep Samples {0}, Total Number of NonBeep Samples {1}\".format(data_beep.shape[0],data_NonBeep.shape[0],sWavFile))\n",
    "    np.save(os.path.join(egs_dir,'egs_{1}_{0}'.format(FileIndx,len(Context))),data)\n",
    "          \n",
    "    FileIndx += 1\n",
    "    \n",
    "#data_beep = data_beep[:iBeepPointer]\n",
    "#data_NonBeep = data_NonBeep[:iNonBeepPointer]\n",
    "#Add label column\n"
   ]
  },
  {
   "cell_type": "markdown",
   "metadata": {},
   "source": [
    "## Analyze Features"
   ]
  },
  {
   "cell_type": "code",
   "execution_count": 66,
   "metadata": {},
   "outputs": [],
   "source": [
    "#Get egs data\n",
    "legs = glob.glob(os.path.join(egs_dir,'*.npy'))\n",
    "assert len(legs) > 0, 'No egs'\n",
    "\n",
    "#Load data from egs directory\n",
    "data = np.concatenate([np.load(file) for file in legs],axis=0)\n",
    "\n",
    "#Put features without context in DataFram\n",
    "left_context = abs(min(Context))\n",
    "right_context = max(Context)\n",
    "data_NoContxt = np.c_[data[:,left_context*nFeatures:(left_context+1)*nFeatures], data[:,-2:]]\n",
    "pdData = pd.DataFrame(data=data_NoContxt,columns=lFeatures_names+['FileIndx','label'])"
   ]
  },
  {
   "cell_type": "code",
   "execution_count": 68,
   "metadata": {},
   "outputs": [
    {
     "data": {
      "text/plain": [
       "<matplotlib.axes._subplots.AxesSubplot at 0x7f82a5c73950>"
      ]
     },
     "execution_count": 68,
     "metadata": {},
     "output_type": "execute_result"
    },
    {
     "data": {
      "image/png": "[encoded data removed]",
      "text/plain": [
       "<Figure size 432x288 with 2 Axes>"
      ]
     },
     "metadata": {
      "needs_background": "light"
     },
     "output_type": "display_data"
    }
   ],
   "source": [
    "#Plot Data\n",
    "pdData = pdData.astype({'label':int,'FileIndx':int})\n",
    "pdData.plot.scatter(lFeatures_names[0],lFeatures_names[7],c='label',colormap='viridis')"
   ]
  },
  {
   "cell_type": "markdown",
   "metadata": {},
   "source": [
    "## Building Classification Model"
   ]
  },
  {
   "cell_type": "code",
   "execution_count": 3,
   "metadata": {},
   "outputs": [
    {
     "name": "stdout",
     "output_type": "stream",
     "text": [
      "8\n",
      "(149740, 170) (149740,)\n"
     ]
    }
   ],
   "source": [
    "#Data Selection\n",
    "#Load data from numpy pickle\n",
    "#Get egs data\n",
    "legs = glob.glob(os.path.join(egs_dir,'*.npy'))\n",
    "assert len(legs) > 0, 'No egs'\n",
    "\n",
    "#Load data from egs directory\n",
    "data = np.concatenate([np.load(file) for file in legs],axis=0)\n",
    "X = data[:,:-2]\n",
    "y = data[:,-1].astype(int)\n",
    "groups = data[:,-2].astype(int)\n",
    "\n",
    "#Split data where one recording out\n",
    "spliter = LeaveOneGroupOut()\n",
    "print(spliter.get_n_splits(X,y,groups))\n",
    "print(X.shape,y.shape)\n",
    "\n",
    "\n",
    "#Start with random split\n",
    "X_train, X_test, y_train, y_test = train_test_split(X,y,test_size=0.3,random_state=0)"
   ]
  },
  {
   "cell_type": "code",
   "execution_count": 4,
   "metadata": {},
   "outputs": [],
   "source": [
    "#Data Normalizatio\n",
    "scaler = StandardScaler()\n",
    "scaler.fit(X_train)\n",
    "X_train_std = scaler.transform(X_train)\n",
    "X_test_std = scaler.transform(X_test)"
   ]
  },
  {
   "cell_type": "code",
   "execution_count": 5,
   "metadata": {},
   "outputs": [
    {
     "name": "stdout",
     "output_type": "stream",
     "text": [
      "              precision    recall  f1-score   support\n",
      "\n",
      "           0       1.00      1.00      1.00     43906\n",
      "           1       0.98      0.95      0.96      1016\n",
      "\n",
      "    accuracy                           1.00     44922\n",
      "   macro avg       0.99      0.98      0.98     44922\n",
      "weighted avg       1.00      1.00      1.00     44922\n",
      "\n",
      "[[43883    23]\n",
      " [   50   966]]\n"
     ]
    }
   ],
   "source": [
    "#Train SVM model simple Linear model\n",
    "clf = svm.SVC(kernel='rbf',C=100, gamma=1e-3, class_weight='balanced')\n",
    "clf.fit(X_train_std,y_train)\n",
    "y_pred = clf.predict(X_test_std)\n",
    "print(classification_report(y_test,y_pred))\n",
    "print(confusion_matrix(y_test,y_pred))"
   ]
  },
  {
   "cell_type": "code",
   "execution_count": 4,
   "metadata": {},
   "outputs": [
    {
     "name": "stdout",
     "output_type": "stream",
     "text": [
      "********Split 0 with 131266 training examples and 18474 testing examples\n",
      "**************Results of split  0\n",
      "              precision    recall  f1-score   support\n",
      "\n",
      "           0       1.00      1.00      1.00     18375\n",
      "           1       0.87      0.96      0.91        99\n",
      "\n",
      "    accuracy                           1.00     18474\n",
      "   macro avg       0.94      0.98      0.96     18474\n",
      "weighted avg       1.00      1.00      1.00     18474\n",
      "\n",
      "[[18361    14]\n",
      " [    4    95]]\n",
      "********Split 1 with 130758 training examples and 18982 testing examples\n",
      "**************Results of split  1\n",
      "              precision    recall  f1-score   support\n",
      "\n",
      "           0       0.99      1.00      0.99     18081\n",
      "           1       0.93      0.79      0.86       901\n",
      "\n",
      "    accuracy                           0.99     18982\n",
      "   macro avg       0.96      0.90      0.92     18982\n",
      "weighted avg       0.99      0.99      0.99     18982\n",
      "\n",
      "[[18026    55]\n",
      " [  185   716]]\n",
      "********Split 2 with 131068 training examples and 18672 testing examples\n",
      "**************Results of split  2\n",
      "              precision    recall  f1-score   support\n",
      "\n",
      "           0       1.00      1.00      1.00     18375\n",
      "           1       0.90      0.88      0.89       297\n",
      "\n",
      "    accuracy                           1.00     18672\n",
      "   macro avg       0.95      0.94      0.94     18672\n",
      "weighted avg       1.00      1.00      1.00     18672\n",
      "\n",
      "[[18346    29]\n",
      " [   37   260]]\n",
      "********Split 3 with 131216 training examples and 18524 testing examples\n",
      "**************Results of split  3\n",
      "              precision    recall  f1-score   support\n",
      "\n",
      "           0       1.00      1.00      1.00     18326\n",
      "           1       0.90      0.90      0.90       198\n",
      "\n",
      "    accuracy                           1.00     18524\n",
      "   macro avg       0.95      0.95      0.95     18524\n",
      "weighted avg       1.00      1.00      1.00     18524\n",
      "\n",
      "[[18305    21]\n",
      " [   19   179]]\n",
      "********Split 4 with 131216 training examples and 18524 testing examples\n",
      "**************Results of split  4\n",
      "              precision    recall  f1-score   support\n",
      "\n",
      "           0       1.00      1.00      1.00     18326\n",
      "           1       0.92      0.91      0.91       198\n",
      "\n",
      "    accuracy                           1.00     18524\n",
      "   macro avg       0.96      0.95      0.96     18524\n",
      "weighted avg       1.00      1.00      1.00     18524\n",
      "\n",
      "[[18310    16]\n",
      " [   18   180]]\n",
      "********Split 5 with 130918 training examples and 18822 testing examples\n",
      "**************Results of split  5\n",
      "              precision    recall  f1-score   support\n",
      "\n",
      "           0       1.00      1.00      1.00     18228\n",
      "           1       0.97      0.93      0.95       594\n",
      "\n",
      "    accuracy                           1.00     18822\n",
      "   macro avg       0.98      0.96      0.97     18822\n",
      "weighted avg       1.00      1.00      1.00     18822\n",
      "\n",
      "[[18209    19]\n",
      " [   43   551]]\n",
      "********Split 6 with 130868 training examples and 18872 testing examples\n",
      "**************Results of split  6\n",
      "              precision    recall  f1-score   support\n",
      "\n",
      "           0       1.00      1.00      1.00     18179\n",
      "           1       0.92      0.89      0.90       693\n",
      "\n",
      "    accuracy                           0.99     18872\n",
      "   macro avg       0.96      0.94      0.95     18872\n",
      "weighted avg       0.99      0.99      0.99     18872\n",
      "\n",
      "[[18125    54]\n",
      " [   79   614]]\n",
      "********Split 7 with 130870 training examples and 18870 testing examples\n",
      "**************Results of split  7\n",
      "              precision    recall  f1-score   support\n",
      "\n",
      "           0       1.00      1.00      1.00     18375\n",
      "           1       0.99      0.98      0.98       495\n",
      "\n",
      "    accuracy                           1.00     18870\n",
      "   macro avg       0.99      0.99      0.99     18870\n",
      "weighted avg       1.00      1.00      1.00     18870\n",
      "\n",
      "[[18370     5]\n",
      " [   12   483]]\n"
     ]
    }
   ],
   "source": [
    "#Split where one recording for test and others for training\n",
    "iSplit=0\n",
    "for train_index, test_index in spliter.split(X,y,groups):\n",
    "    X_train, X_test, y_train, y_test = X[train_index], X[test_index], y[train_index], y[test_index]\n",
    "    print('********Split {0} with {1} training examples and {2} testing examples'.format(iSplit,y_train.shape[0],y_test.shape[0]))\n",
    "    #Data Normalizatio\n",
    "    scaler = StandardScaler()\n",
    "    scaler.fit(X_train)\n",
    "    X_train_std = scaler.transform(X_train)\n",
    "    X_test_std = scaler.transform(X_test)\n",
    "    #Train SVM model \n",
    "    clf = svm.SVC(kernel='rbf',C=100, gamma=1e-3, class_weight='balanced')\n",
    "    clf.fit(X_train_std,y_train)\n",
    "    y_pred = clf.predict(X_test_std)\n",
    "    print('**************Results of split ',iSplit)\n",
    "    print(classification_report(y_test,y_pred))\n",
    "    print(confusion_matrix(y_test,y_pred))\n",
    "    iSplit += 1"
   ]
  },
  {
   "cell_type": "code",
   "execution_count": null,
   "metadata": {},
   "outputs": [
    {
     "name": "stdout",
     "output_type": "stream",
     "text": [
      "# Tuning hyper-parameters for recall\n",
      "\n",
      "Fitting 8 folds for each of 8 candidates, totalling 64 fits\n"
     ]
    },
    {
     "name": "stderr",
     "output_type": "stream",
     "text": [
      "[Parallel(n_jobs=3)]: Using backend LokyBackend with 3 concurrent workers.\n",
      "[Parallel(n_jobs=3)]: Done  12 tasks      | elapsed: 63.6min\n"
     ]
    }
   ],
   "source": [
    "#Parameter Tuning CV with Pipeline\n",
    "pipeLine = Pipeline([('scaler',StandardScaler()),('svc',svm.SVC(class_weight='balanced'))])\n",
    "tuned_parameters = [{'svc__kernel': ['rbf'], 'svc__gamma': [1e-3, 1e-4],\n",
    "                     'svc__C': [1, 10, 100, 1000]}]\n",
    "score = 'recall'\n",
    "print(\"# Tuning hyper-parameters for {0}\\n\".format(score))\n",
    "\n",
    "cv = spliter.split(X,y,groups)\n",
    "\n",
    "clf = GridSearchCV(pipeLine, param_grid=tuned_parameters, \n",
    "                   scoring=\"{0}_macro\".format(score), n_jobs=3, verbose=5, cv=cv)\n",
    "\n",
    "clf.fit(X, y)\n",
    "\n",
    "print(\"Best parameters set found on development set:\")\n",
    "print()\n",
    "print(clf.best_params_)\n",
    "print()\n",
    "print(\"Grid scores on development set:\")\n",
    "print()\n",
    "means = clf.cv_results_['mean_test_score']\n",
    "stds = clf.cv_results_['std_test_score']\n",
    "for mean, std, params in zip(means, stds, clf.cv_results_['params']):\n",
    "    print(\"%0.3f (+/-%0.03f) for %r\"\n",
    "          % (mean, std * 2, params))\n",
    "#print()\n",
    "#print(\"Detailed classification report:\")\n",
    "#print()\n",
    "#print(\"The model is trained on the full development set.\")\n",
    "#print(\"The scores are computed on the full evaluation set.\")\n",
    "#print()\n",
    "#y_true, y_pred = y_test, clf.predict(X)\n",
    "#print(classification_report(y_true, y_pred))\n",
    "#print()"
   ]
  },
  {
   "cell_type": "code",
   "execution_count": null,
   "metadata": {},
   "outputs": [],
   "source": [
    "#Parameter Tuning (random CV splitting, no pipeline)\n",
    "tuned_parameters = [{'kernel': ['rbf'], 'gamma': [1e-3, 1e-4],\n",
    "                     'C': [1, 10, 100, 1000]},\n",
    "                    {'kernel': ['linear'], 'C': [1, 10]}]\n",
    "score = 'recall'\n",
    "print(\"# Tuning hyper-parameters for {0}\\n\".format(score))\n",
    "\n",
    "clf = GridSearchCV(svm.SVC(class_weight='balanced'), param_grid=tuned_parameters, \n",
    "                   scoring=\"{0}_macro\".format(score), n_jobs=3, verbose=5)\n",
    "\n",
    "clf.fit(X_train_std, y_train)\n",
    "\n",
    "print(\"Best parameters set found on development set:\")\n",
    "print()\n",
    "print(clf.best_params_)\n",
    "print()\n",
    "print(\"Grid scores on development set:\")\n",
    "print()\n",
    "means = clf.cv_results_['mean_test_score']\n",
    "stds = clf.cv_results_['std_test_score']\n",
    "for mean, std, params in zip(means, stds, clf.cv_results_['params']):\n",
    "    print(\"%0.3f (+/-%0.03f) for %r\"\n",
    "          % (mean, std * 2, params))\n",
    "print()\n",
    "print(\"Detailed classification report:\")\n",
    "print()\n",
    "print(\"The model is trained on the full development set.\")\n",
    "print(\"The scores are computed on the full evaluation set.\")\n",
    "print()\n",
    "y_true, y_pred = y_test, clf.predict(X_test_std)\n",
    "print(classification_report(y_true, y_pred))\n",
    "print()"
   ]
  },
  {
   "cell_type": "markdown",
   "metadata": {},
   "source": [
    "## Build Model With Best Param"
   ]
  },
  {
   "cell_type": "code",
   "execution_count": null,
   "metadata": {},
   "outputs": [],
   "source": [
    "#Best param kernel 'rbf', gamma = 0.001, C = 1000\n",
    "#Train the model\n",
    "clf = svm.SVC(kernel='rbf', C=1000, gamma=0.001, class_weight='balanced')\n",
    "clf.fit(X_train_std, y_train)\n",
    "\n",
    "#Test the model\n",
    "y_true, y_pred = y_test, clf.predict(X_test_std)\n",
    "print(classification_report(y_true, y_pred))\n",
    "print(confusion_matrix(y_true,y_pred))"
   ]
  },
  {
   "cell_type": "markdown",
   "metadata": {},
   "source": [
    "## Test Beep Time Detection"
   ]
  },
  {
   "cell_type": "code",
   "execution_count": 5,
   "metadata": {},
   "outputs": [],
   "source": [
    "#Load CSV file in dictionary of key=filename, value=[(start_beep_time,end_beep_time),]\n",
    "dBeepTimes = defaultdict(list)\n",
    "sBeepTimesCSVFile = '../../Recordings/Beep_Times.csv'\n",
    "Beep_Times = pd.read_csv(sBeepTimesCSVFile,header=None)\n",
    "for index, row in Beep_Times.iterrows():\n",
    "    sWavFile = row[0]\n",
    "    i = 1\n",
    "    while i <= row.size-1:\n",
    "        #print(i)\n",
    "        if not np.isnan(row[i]):\n",
    "            dBeepTimes[sWavFile].append((row[i],row[i+1]))\n",
    "            i += 2\n",
    "        else:\n",
    "            i += 1"
   ]
  },
  {
   "cell_type": "code",
   "execution_count": 96,
   "metadata": {},
   "outputs": [
    {
     "name": "stdout",
     "output_type": "stream",
     "text": [
      "file /media/Windows/root/AusKidTalk/Recordings/13_aug_2020/90 3_2_0/90 Primary_15-01.wav contains 302459 frames\n",
      "1000 0.01 44100\n",
      "441000 (441000,) (34, 999) (999,) (235,)\n",
      "1000 0.01 44100\n",
      "882000 (441000,) (34, 999) (999,) (333,)\n",
      "1000 0.01 44100\n",
      "1323000 (441000,) (34, 999) (999,) (142,)\n",
      "1000 0.01 44100\n",
      "1764000 (441000,) (34, 999) (999,) (15,)\n",
      "1000 0.01 44100\n",
      "2205000 (441000,) (34, 999) (999,) (159,)\n",
      "1000 0.01 44100\n",
      "2646000 (441000,) (34, 999) (999,) (141,)\n",
      "1000 0.01 44100\n",
      "3087000 (441000,) (34, 999) (999,) (255,)\n",
      "1000 0.01 44100\n",
      "3528000 (441000,) (34, 999) (999,) (12,)\n",
      "1000 0.01 44100\n",
      "3969000 (441000,) (34, 999) (999,) (0,)\n",
      "1000 0.01 44100\n",
      "4410000 (441000,) (34, 999) (999,) (1,)\n",
      "1000 0.01 44100\n",
      "4851000 (441000,) (34, 999) (999,) (108,)\n",
      "1000 0.01 44100\n",
      "5292000 (441000,) (34, 999) (999,) (42,)\n",
      "1000 0.01 44100\n",
      "5733000 (441000,) (34, 999) (999,) (129,)\n",
      "1000 0.01 44100\n",
      "6174000 (441000,) (34, 999) (999,) (101,)\n",
      "1000 0.01 44100\n",
      "6615000 (441000,) (34, 999) (999,) (41,)\n",
      "1000 0.01 44100\n",
      "7056000 (441000,) (34, 999) (999,) (156,)\n",
      "1000 0.01 44100\n",
      "7497000 (441000,) (34, 999) (999,) (34,)\n",
      "1000 0.01 44100\n",
      "7938000 (441000,) (34, 999) (999,) (219,)\n",
      "1000 0.01 44100\n",
      "8379000 (441000,) (34, 999) (999,) (211,)\n",
      "1000 0.01 44100\n",
      "8820000 (441000,) (34, 999) (999,) (31,)\n",
      "1000 0.01 44100\n",
      "9261000 (441000,) (34, 999) (999,) (39,)\n",
      "1000 0.01 44100\n",
      "9702000 (441000,) (34, 999) (999,) (332,)\n",
      "1000 0.01 44100\n",
      "10143000 (441000,) (34, 999) (999,) (379,)\n",
      "1000 0.01 44100\n",
      "10584000 (441000,) (34, 999) (999,) (169,)\n",
      "1000 0.01 44100\n",
      "11025000 (441000,) (34, 999) (999,) (178,)\n",
      "1000 0.01 44100\n",
      "11466000 (441000,) (34, 999) (999,) (399,)\n",
      "1000 0.01 44100\n",
      "11907000 (441000,) (34, 999) (999,) (288,)\n",
      "1000 0.01 44100\n",
      "12348000 (441000,) (34, 999) (999,) (189,)\n",
      "1000 0.01 44100\n",
      "12789000 (441000,) (34, 999) (999,) (183,)\n",
      "1000 0.01 44100\n",
      "13230000 (441000,) (34, 999) (999,) (279,)\n",
      "1000 0.01 44100\n",
      "13671000 (441000,) (34, 999) (999,) (107,)\n",
      "1000 0.01 44100\n",
      "14112000 (441000,) (34, 999) (999,) (282,)\n",
      "1000 0.01 44100\n",
      "14553000 (441000,) (34, 999) (999,) (191,)\n",
      "1000 0.01 44100\n",
      "14994000 (441000,) (34, 999) (999,) (319,)\n",
      "1000 0.01 44100\n",
      "15435000 (441000,) (34, 999) (999,) (299,)\n",
      "1000 0.01 44100\n",
      "15876000 (441000,) (34, 999) (999,) (272,)\n",
      "1000 0.01 44100\n",
      "16317000 (441000,) (34, 999) (999,) (257,)\n",
      "1000 0.01 44100\n",
      "16758000 (441000,) (34, 999) (999,) (243,)\n",
      "1000 0.01 44100\n",
      "17199000 (441000,) (34, 999) (999,) (227,)\n",
      "1000 0.01 44100\n",
      "17640000 (441000,) (34, 999) (999,) (391,)\n",
      "1000 0.01 44100\n",
      "18081000 (441000,) (34, 999) (999,) (333,)\n",
      "1000 0.01 44100\n",
      "18522000 (441000,) (34, 999) (999,) (35,)\n",
      "1000 0.01 44100\n",
      "18963000 (441000,) (34, 999) (999,) (203,)\n",
      "1000 0.01 44100\n",
      "19404000 (441000,) (34, 999) (999,) (223,)\n",
      "1000 0.01 44100\n",
      "19845000 (441000,) (34, 999) (999,) (317,)\n",
      "1000 0.01 44100\n",
      "20286000 (441000,) (34, 999) (999,) (142,)\n",
      "1000 0.01 44100\n",
      "20727000 (441000,) (34, 999) (999,) (103,)\n",
      "1000 0.01 44100\n",
      "21168000 (441000,) (34, 999) (999,) (352,)\n",
      "1000 0.01 44100\n",
      "21609000 (441000,) (34, 999) (999,) (72,)\n",
      "1000 0.01 44100\n",
      "22050000 (441000,) (34, 999) (999,) (103,)\n",
      "1000 0.01 44100\n",
      "22491000 (441000,) (34, 999) (999,) (403,)\n",
      "1000 0.01 44100\n",
      "22932000 (441000,) (34, 999) (999,) (233,)\n",
      "1000 0.01 44100\n",
      "23373000 (441000,) (34, 999) (999,) (277,)\n",
      "1000 0.01 44100\n",
      "23814000 (441000,) (34, 999) (999,) (138,)\n",
      "1000 0.01 44100\n",
      "24255000 (441000,) (34, 999) (999,) (193,)\n",
      "1000 0.01 44100\n",
      "24696000 (441000,) (34, 999) (999,) (137,)\n",
      "1000 0.01 44100\n",
      "25137000 (441000,) (34, 999) (999,) (2,)\n",
      "1000 0.01 44100\n",
      "25578000 (441000,) (34, 999) (999,) (9,)\n",
      "1000 0.01 44100\n",
      "26019000 (441000,) (34, 999) (999,) (39,)\n",
      "1000 0.01 44100\n",
      "26460000 (441000,) (34, 999) (999,) (137,)\n",
      "1000 0.01 44100\n",
      "26901000 (441000,) (34, 999) (999,) (259,)\n",
      "1000 0.01 44100\n",
      "27342000 (441000,) (34, 999) (999,) (299,)\n",
      "1000 0.01 44100\n",
      "27783000 (441000,) (34, 999) (999,) (271,)\n",
      "1000 0.01 44100\n",
      "28224000 (441000,) (34, 999) (999,) (309,)\n",
      "1000 0.01 44100\n",
      "28665000 (441000,) (34, 999) (999,) (314,)\n",
      "1000 0.01 44100\n",
      "29106000 (441000,) (34, 999) (999,) (218,)\n",
      "1000 0.01 44100\n",
      "29547000 (441000,) (34, 999) (999,) (304,)\n",
      "1000 0.01 44100\n",
      "29988000 (441000,) (34, 999) (999,) (311,)\n",
      "1000 0.01 44100\n",
      "30429000 (441000,) (34, 999) (999,) (226,)\n",
      "1000 0.01 44100\n",
      "30870000 (441000,) (34, 999) (999,) (247,)\n",
      "1000 0.01 44100\n",
      "31311000 (441000,) (34, 999) (999,) (251,)\n",
      "1000 0.01 44100\n",
      "31752000 (441000,) (34, 999) (999,) (262,)\n",
      "1000 0.01 44100\n",
      "32193000 (441000,) (34, 999) (999,) (104,)\n",
      "1000 0.01 44100\n",
      "32634000 (441000,) (34, 999) (999,) (191,)\n",
      "1000 0.01 44100\n",
      "33075000 (441000,) (34, 999) (999,) (149,)\n",
      "1000 0.01 44100\n",
      "33516000 (441000,) (34, 999) (999,) (241,)\n",
      "1000 0.01 44100\n",
      "33957000 (441000,) (34, 999) (999,) (207,)\n",
      "1000 0.01 44100\n",
      "34398000 (441000,) (34, 999) (999,) (233,)\n",
      "1000 0.01 44100\n",
      "34839000 (441000,) (34, 999) (999,) (169,)\n",
      "1000 0.01 44100\n",
      "35280000 (441000,) (34, 999) (999,) (226,)\n",
      "1000 0.01 44100\n",
      "35721000 (441000,) (34, 999) (999,) (200,)\n",
      "1000 0.01 44100\n",
      "36162000 (441000,) (34, 999) (999,) (194,)\n",
      "1000 0.01 44100\n",
      "36603000 (441000,) (34, 999) (999,) (385,)\n",
      "1000 0.01 44100\n",
      "37044000 (441000,) (34, 999) (999,) (213,)\n",
      "1000 0.01 44100\n",
      "37485000 (441000,) (34, 999) (999,) (149,)\n",
      "1000 0.01 44100\n",
      "37926000 (441000,) (34, 999) (999,) (242,)\n",
      "1000 0.01 44100\n",
      "38367000 (441000,) (34, 999) (999,) (242,)\n",
      "1000 0.01 44100\n",
      "38808000 (441000,) (34, 999) (999,) (187,)\n",
      "1000 0.01 44100\n",
      "39249000 (441000,) (34, 999) (999,) (355,)\n",
      "1000 0.01 44100\n",
      "39690000 (441000,) (34, 999) (999,) (248,)\n",
      "1000 0.01 44100\n",
      "40131000 (441000,) (34, 999) (999,) (239,)\n",
      "1000 0.01 44100\n",
      "40572000 (441000,) (34, 999) (999,) (192,)\n",
      "1000 0.01 44100\n",
      "41013000 (441000,) (34, 999) (999,) (222,)\n",
      "1000 0.01 44100\n",
      "41454000 (441000,) (34, 999) (999,) (301,)\n",
      "1000 0.01 44100\n",
      "41895000 (441000,) (34, 999) (999,) (100,)\n",
      "1000 0.01 44100\n",
      "42336000 (441000,) (34, 999) (999,) (17,)\n",
      "1000 0.01 44100\n",
      "42777000 (441000,) (34, 999) (999,) (169,)\n",
      "1000 0.01 44100\n",
      "43218000 (441000,) (34, 999) (999,) (119,)\n",
      "1000 0.01 44100\n",
      "43659000 (441000,) (34, 999) (999,) (247,)\n",
      "1000 0.01 44100\n",
      "44100000 (441000,) (34, 999) (999,) (182,)\n",
      "1000 0.01 44100\n",
      "44541000 (441000,) (34, 999) (999,) (8,)\n",
      "1000 0.01 44100\n",
      "44982000 (441000,) (34, 999) (999,) (19,)\n",
      "1000 0.01 44100\n",
      "45423000 (441000,) (34, 999) (999,) (280,)\n",
      "1000 0.01 44100\n",
      "45864000 (441000,) (34, 999) (999,) (324,)\n",
      "1000 0.01 44100\n",
      "46305000 (441000,) (34, 999) (999,) (452,)\n",
      "1000 0.01 44100\n",
      "46746000 (441000,) (34, 999) (999,) (10,)\n",
      "1000 0.01 44100\n",
      "47187000 (441000,) (34, 999) (999,) (387,)\n",
      "1000 0.01 44100\n",
      "47628000 (441000,) (34, 999) (999,) (205,)\n",
      "1000 0.01 44100\n",
      "48069000 (441000,) (34, 999) (999,) (16,)\n",
      "1000 0.01 44100\n",
      "48510000 (441000,) (34, 999) (999,) (2,)\n",
      "1000 0.01 44100\n",
      "48951000 (441000,) (34, 999) (999,) (345,)\n",
      "1000 0.01 44100\n",
      "49392000 (441000,) (34, 999) (999,) (239,)\n",
      "1000 0.01 44100\n",
      "49833000 (441000,) (34, 999) (999,) (334,)\n",
      "1000 0.01 44100\n",
      "50274000 (441000,) (34, 999) (999,) (158,)\n",
      "1000 0.01 44100\n",
      "50715000 (441000,) (34, 999) (999,) (6,)\n",
      "1000 0.01 44100\n",
      "51156000 (441000,) (34, 999) (999,) (102,)\n",
      "1000 0.01 44100\n",
      "51597000 (441000,) (34, 999) (999,) (445,)\n",
      "1000 0.01 44100\n",
      "52038000 (441000,) (34, 999) (999,) (88,)\n",
      "1000 0.01 44100\n",
      "52479000 (441000,) (34, 999) (999,) (201,)\n",
      "1000 0.01 44100\n",
      "52920000 (441000,) (34, 999) (999,) (440,)\n",
      "1000 0.01 44100\n",
      "53361000 (441000,) (34, 999) (999,) (338,)\n",
      "1000 0.01 44100\n",
      "53802000 (441000,) (34, 999) (999,) (429,)\n",
      "1000 0.01 44100\n",
      "54243000 (441000,) (34, 999) (999,) (395,)\n",
      "1000 0.01 44100\n",
      "54684000 (441000,) (34, 999) (999,) (23,)\n",
      "1000 0.01 44100\n",
      "55125000 (441000,) (34, 999) (999,) (69,)\n",
      "1000 0.01 44100\n",
      "55566000 (441000,) (34, 999) (999,) (41,)\n",
      "1000 0.01 44100\n",
      "56007000 (441000,) (34, 999) (999,) (81,)\n",
      "1000 0.01 44100\n",
      "56448000 (441000,) (34, 999) (999,) (1,)\n",
      "1000 0.01 44100\n",
      "56889000 (441000,) (34, 999) (999,) (401,)\n",
      "1000 0.01 44100\n",
      "57330000 (441000,) (34, 999) (999,) (260,)\n",
      "1000 0.01 44100\n",
      "57771000 (441000,) (34, 999) (999,) (393,)\n",
      "1000 0.01 44100\n",
      "58212000 (441000,) (34, 999) (999,) (324,)\n",
      "1000 0.01 44100\n",
      "58653000 (441000,) (34, 999) (999,) (211,)\n",
      "1000 0.01 44100\n",
      "59094000 (441000,) (34, 999) (999,) (253,)\n",
      "1000 0.01 44100\n",
      "59535000 (441000,) (34, 999) (999,) (225,)\n",
      "1000 0.01 44100\n",
      "59976000 (441000,) (34, 999) (999,) (308,)\n",
      "1000 0.01 44100\n",
      "60417000 (441000,) (34, 999) (999,) (281,)\n",
      "1000 0.01 44100\n",
      "60858000 (441000,) (34, 999) (999,) (255,)\n",
      "1000 0.01 44100\n"
     ]
    },
    {
     "name": "stdout",
     "output_type": "stream",
     "text": [
      "61299000 (441000,) (34, 999) (999,) (241,)\n",
      "1000 0.01 44100\n",
      "61740000 (441000,) (34, 999) (999,) (282,)\n",
      "1000 0.01 44100\n",
      "62181000 (441000,) (34, 999) (999,) (289,)\n",
      "1000 0.01 44100\n",
      "62622000 (441000,) (34, 999) (999,) (7,)\n",
      "1000 0.01 44100\n",
      "63063000 (441000,) (34, 999) (999,) (238,)\n",
      "1000 0.01 44100\n",
      "63504000 (441000,) (34, 999) (999,) (247,)\n",
      "1000 0.01 44100\n",
      "63945000 (441000,) (34, 999) (999,) (328,)\n",
      "1000 0.01 44100\n",
      "64386000 (441000,) (34, 999) (999,) (305,)\n",
      "1000 0.01 44100\n",
      "64827000 (441000,) (34, 999) (999,) (270,)\n",
      "1000 0.01 44100\n",
      "65268000 (441000,) (34, 999) (999,) (333,)\n",
      "1000 0.01 44100\n",
      "65709000 (441000,) (34, 999) (999,) (276,)\n",
      "1000 0.01 44100\n",
      "66150000 (441000,) (34, 999) (999,) (304,)\n",
      "1000 0.01 44100\n",
      "66591000 (441000,) (34, 999) (999,) (290,)\n",
      "1000 0.01 44100\n",
      "67032000 (441000,) (34, 999) (999,) (214,)\n",
      "1000 0.01 44100\n",
      "67473000 (441000,) (34, 999) (999,) (382,)\n",
      "1000 0.01 44100\n",
      "67914000 (441000,) (34, 999) (999,) (180,)\n",
      "1000 0.01 44100\n",
      "68355000 (441000,) (34, 999) (999,) (149,)\n",
      "1000 0.01 44100\n",
      "68796000 (441000,) (34, 999) (999,) (273,)\n",
      "1000 0.01 44100\n",
      "69237000 (441000,) (34, 999) (999,) (222,)\n",
      "1000 0.01 44100\n",
      "69678000 (441000,) (34, 999) (999,) (287,)\n",
      "1000 0.01 44100\n",
      "70119000 (441000,) (34, 999) (999,) (261,)\n",
      "1000 0.01 44100\n",
      "70560000 (441000,) (34, 999) (999,) (186,)\n",
      "1000 0.01 44100\n",
      "71001000 (441000,) (34, 999) (999,) (228,)\n",
      "1000 0.01 44100\n",
      "71442000 (441000,) (34, 999) (999,) (284,)\n",
      "1000 0.01 44100\n",
      "71883000 (441000,) (34, 999) (999,) (195,)\n",
      "1000 0.01 44100\n",
      "72324000 (441000,) (34, 999) (999,) (250,)\n",
      "1000 0.01 44100\n",
      "72765000 (441000,) (34, 999) (999,) (199,)\n",
      "1000 0.01 44100\n",
      "73206000 (441000,) (34, 999) (999,) (261,)\n",
      "1000 0.01 44100\n",
      "73647000 (441000,) (34, 999) (999,) (81,)\n",
      "1000 0.01 44100\n",
      "74088000 (441000,) (34, 999) (999,) (276,)\n",
      "1000 0.01 44100\n",
      "74529000 (441000,) (34, 999) (999,) (103,)\n",
      "1000 0.01 44100\n",
      "74970000 (441000,) (34, 999) (999,) (99,)\n",
      "1000 0.01 44100\n",
      "75411000 (441000,) (34, 999) (999,) (29,)\n",
      "1000 0.01 44100\n",
      "75852000 (441000,) (34, 999) (999,) (213,)\n",
      "1000 0.01 44100\n",
      "76293000 (441000,) (34, 999) (999,) (20,)\n",
      "1000 0.01 44100\n",
      "76734000 (441000,) (34, 999) (999,) (15,)\n",
      "1000 0.01 44100\n",
      "77175000 (441000,) (34, 999) (999,) (4,)\n",
      "1000 0.01 44100\n",
      "77616000 (441000,) (34, 999) (999,) (0,)\n",
      "1000 0.01 44100\n",
      "78057000 (441000,) (34, 999) (999,) (0,)\n",
      "1000 0.01 44100\n",
      "78498000 (441000,) (34, 999) (999,) (15,)\n",
      "1000 0.01 44100\n",
      "78939000 (441000,) (34, 999) (999,) (3,)\n",
      "1000 0.01 44100\n",
      "79380000 (441000,) (34, 999) (999,) (0,)\n",
      "1000 0.01 44100\n",
      "79821000 (441000,) (34, 999) (999,) (0,)\n",
      "1000 0.01 44100\n",
      "80262000 (441000,) (34, 999) (999,) (5,)\n",
      "1000 0.01 44100\n",
      "80703000 (441000,) (34, 999) (999,) (7,)\n",
      "1000 0.01 44100\n",
      "81144000 (441000,) (34, 999) (999,) (16,)\n",
      "1000 0.01 44100\n",
      "81585000 (441000,) (34, 999) (999,) (12,)\n",
      "1000 0.01 44100\n",
      "82026000 (441000,) (34, 999) (999,) (20,)\n",
      "1000 0.01 44100\n",
      "82467000 (441000,) (34, 999) (999,) (366,)\n",
      "1000 0.01 44100\n",
      "82908000 (441000,) (34, 999) (999,) (23,)\n",
      "1000 0.01 44100\n",
      "83349000 (441000,) (34, 999) (999,) (93,)\n",
      "1000 0.01 44100\n",
      "83790000 (441000,) (34, 999) (999,) (22,)\n",
      "1000 0.01 44100\n",
      "84231000 (441000,) (34, 999) (999,) (47,)\n",
      "1000 0.01 44100\n",
      "84672000 (441000,) (34, 999) (999,) (69,)\n",
      "1000 0.01 44100\n",
      "85113000 (441000,) (34, 999) (999,) (8,)\n",
      "1000 0.01 44100\n",
      "85554000 (441000,) (34, 999) (999,) (14,)\n",
      "1000 0.01 44100\n",
      "85995000 (441000,) (34, 999) (999,) (1,)\n",
      "1000 0.01 44100\n",
      "86436000 (441000,) (34, 999) (999,) (0,)\n",
      "1000 0.01 44100\n",
      "86877000 (441000,) (34, 999) (999,) (0,)\n",
      "1000 0.01 44100\n",
      "87318000 (441000,) (34, 999) (999,) (6,)\n",
      "1000 0.01 44100\n",
      "87759000 (441000,) (34, 999) (999,) (0,)\n",
      "1000 0.01 44100\n",
      "88200000 (441000,) (34, 999) (999,) (1,)\n",
      "1000 0.01 44100\n",
      "88641000 (441000,) (34, 999) (999,) (9,)\n",
      "1000 0.01 44100\n",
      "89082000 (441000,) (34, 999) (999,) (12,)\n",
      "1000 0.01 44100\n",
      "89523000 (441000,) (34, 999) (999,) (39,)\n",
      "1000 0.01 44100\n",
      "89964000 (441000,) (34, 999) (999,) (128,)\n",
      "1000 0.01 44100\n",
      "90405000 (441000,) (34, 999) (999,) (183,)\n",
      "1000 0.01 44100\n",
      "90846000 (441000,) (34, 999) (999,) (6,)\n",
      "1000 0.01 44100\n",
      "91287000 (441000,) (34, 999) (999,) (285,)\n",
      "1000 0.01 44100\n",
      "91728000 (441000,) (34, 999) (999,) (149,)\n",
      "1000 0.01 44100\n",
      "92169000 (441000,) (34, 999) (999,) (436,)\n",
      "1000 0.01 44100\n",
      "92610000 (441000,) (34, 999) (999,) (282,)\n",
      "1000 0.01 44100\n",
      "93051000 (441000,) (34, 999) (999,) (157,)\n",
      "1000 0.01 44100\n",
      "93492000 (441000,) (34, 999) (999,) (297,)\n",
      "1000 0.01 44100\n",
      "93933000 (441000,) (34, 999) (999,) (102,)\n",
      "1000 0.01 44100\n",
      "94374000 (441000,) (34, 999) (999,) (155,)\n",
      "1000 0.01 44100\n",
      "94815000 (441000,) (34, 999) (999,) (347,)\n",
      "1000 0.01 44100\n",
      "95256000 (441000,) (34, 999) (999,) (235,)\n",
      "1000 0.01 44100\n",
      "95697000 (441000,) (34, 999) (999,) (174,)\n",
      "1000 0.01 44100\n",
      "96138000 (441000,) (34, 999) (999,) (207,)\n",
      "1000 0.01 44100\n",
      "96579000 (441000,) (34, 999) (999,) (477,)\n",
      "1000 0.01 44100\n",
      "97020000 (441000,) (34, 999) (999,) (166,)\n",
      "1000 0.01 44100\n",
      "97461000 (441000,) (34, 999) (999,) (60,)\n",
      "1000 0.01 44100\n",
      "97902000 (441000,) (34, 999) (999,) (299,)\n",
      "1000 0.01 44100\n",
      "98343000 (441000,) (34, 999) (999,) (0,)\n",
      "1000 0.01 44100\n",
      "98784000 (441000,) (34, 999) (999,) (1,)\n",
      "1000 0.01 44100\n",
      "99225000 (441000,) (34, 999) (999,) (77,)\n",
      "1000 0.01 44100\n",
      "99666000 (441000,) (34, 999) (999,) (4,)\n",
      "1000 0.01 44100\n",
      "100107000 (441000,) (34, 999) (999,) (2,)\n",
      "1000 0.01 44100\n",
      "100548000 (441000,) (34, 999) (999,) (14,)\n",
      "1000 0.01 44100\n",
      "100989000 (441000,) (34, 999) (999,) (16,)\n",
      "1000 0.01 44100\n",
      "101430000 (441000,) (34, 999) (999,) (26,)\n",
      "1000 0.01 44100\n",
      "101871000 (441000,) (34, 999) (999,) (2,)\n",
      "1000 0.01 44100\n",
      "102312000 (441000,) (34, 999) (999,) (2,)\n",
      "1000 0.01 44100\n",
      "102753000 (441000,) (34, 999) (999,) (9,)\n",
      "1000 0.01 44100\n",
      "103194000 (441000,) (34, 999) (999,) (5,)\n",
      "1000 0.01 44100\n",
      "103635000 (441000,) (34, 999) (999,) (17,)\n",
      "1000 0.01 44100\n",
      "104076000 (441000,) (34, 999) (999,) (6,)\n",
      "1000 0.01 44100\n",
      "104517000 (441000,) (34, 999) (999,) (1,)\n",
      "1000 0.01 44100\n",
      "104958000 (441000,) (34, 999) (999,) (187,)\n",
      "1000 0.01 44100\n",
      "105399000 (441000,) (34, 999) (999,) (112,)\n",
      "1000 0.01 44100\n",
      "105840000 (441000,) (34, 999) (999,) (215,)\n",
      "1000 0.01 44100\n",
      "106281000 (441000,) (34, 999) (999,) (124,)\n",
      "1000 0.01 44100\n",
      "106722000 (441000,) (34, 999) (999,) (243,)\n",
      "1000 0.01 44100\n",
      "107163000 (441000,) (34, 999) (999,) (313,)\n",
      "1000 0.01 44100\n",
      "107604000 (441000,) (34, 999) (999,) (122,)\n",
      "1000 0.01 44100\n",
      "108045000 (441000,) (34, 999) (999,) (16,)\n",
      "1000 0.01 44100\n",
      "108486000 (441000,) (34, 999) (999,) (309,)\n",
      "1000 0.01 44100\n",
      "108927000 (441000,) (34, 999) (999,) (35,)\n",
      "1000 0.01 44100\n",
      "109368000 (441000,) (34, 999) (999,) (72,)\n",
      "1000 0.01 44100\n",
      "109809000 (441000,) (34, 999) (999,) (25,)\n",
      "1000 0.01 44100\n",
      "110250000 (441000,) (34, 999) (999,) (13,)\n",
      "1000 0.01 44100\n",
      "110691000 (441000,) (34, 999) (999,) (67,)\n",
      "1000 0.01 44100\n",
      "111132000 (441000,) (34, 999) (999,) (37,)\n",
      "1000 0.01 44100\n",
      "111573000 (441000,) (34, 999) (999,) (115,)\n",
      "1000 0.01 44100\n",
      "112014000 (441000,) (34, 999) (999,) (60,)\n",
      "1000 0.01 44100\n",
      "112455000 (441000,) (34, 999) (999,) (126,)\n",
      "1000 0.01 44100\n",
      "112896000 (441000,) (34, 999) (999,) (240,)\n",
      "1000 0.01 44100\n",
      "113337000 (441000,) (34, 999) (999,) (81,)\n",
      "1000 0.01 44100\n",
      "113778000 (441000,) (34, 999) (999,) (345,)\n",
      "1000 0.01 44100\n",
      "114219000 (441000,) (34, 999) (999,) (170,)\n",
      "1000 0.01 44100\n",
      "114660000 (441000,) (34, 999) (999,) (32,)\n",
      "1000 0.01 44100\n",
      "115101000 (441000,) (34, 999) (999,) (352,)\n",
      "1000 0.01 44100\n",
      "115542000 (441000,) (34, 999) (999,) (143,)\n",
      "1000 0.01 44100\n",
      "115983000 (441000,) (34, 999) (999,) (253,)\n",
      "1000 0.01 44100\n",
      "116424000 (441000,) (34, 999) (999,) (266,)\n",
      "1000 0.01 44100\n",
      "116865000 (441000,) (34, 999) (999,) (306,)\n",
      "1000 0.01 44100\n",
      "117306000 (441000,) (34, 999) (999,) (28,)\n",
      "1000 0.01 44100\n",
      "117747000 (441000,) (34, 999) (999,) (16,)\n",
      "1000 0.01 44100\n",
      "118188000 (441000,) (34, 999) (999,) (36,)\n",
      "1000 0.01 44100\n",
      "118629000 (441000,) (34, 999) (999,) (148,)\n",
      "1000 0.01 44100\n",
      "119070000 (441000,) (34, 999) (999,) (166,)\n",
      "1000 0.01 44100\n",
      "119511000 (441000,) (34, 999) (999,) (206,)\n",
      "1000 0.01 44100\n",
      "119952000 (441000,) (34, 999) (999,) (251,)\n",
      "1000 0.01 44100\n",
      "120393000 (441000,) (34, 999) (999,) (145,)\n",
      "1000 0.01 44100\n",
      "120834000 (441000,) (34, 999) (999,) (355,)\n",
      "1000 0.01 44100\n",
      "121275000 (441000,) (34, 999) (999,) (193,)\n",
      "1000 0.01 44100\n",
      "121716000 (441000,) (34, 999) (999,) (156,)\n",
      "1000 0.01 44100\n",
      "122157000 (441000,) (34, 999) (999,) (177,)\n",
      "1000 0.01 44100\n",
      "122598000 (441000,) (34, 999) (999,) (305,)\n",
      "1000 0.01 44100\n"
     ]
    },
    {
     "name": "stdout",
     "output_type": "stream",
     "text": [
      "123039000 (441000,) (34, 999) (999,) (209,)\n",
      "1000 0.01 44100\n",
      "123480000 (441000,) (34, 999) (999,) (167,)\n",
      "1000 0.01 44100\n",
      "123921000 (441000,) (34, 999) (999,) (225,)\n",
      "1000 0.01 44100\n",
      "124362000 (441000,) (34, 999) (999,) (322,)\n",
      "1000 0.01 44100\n",
      "124803000 (441000,) (34, 999) (999,) (157,)\n",
      "1000 0.01 44100\n",
      "125244000 (441000,) (34, 999) (999,) (195,)\n",
      "1000 0.01 44100\n",
      "125685000 (441000,) (34, 999) (999,) (286,)\n",
      "1000 0.01 44100\n",
      "126126000 (441000,) (34, 999) (999,) (299,)\n",
      "1000 0.01 44100\n",
      "126567000 (441000,) (34, 999) (999,) (298,)\n",
      "1000 0.01 44100\n",
      "127008000 (441000,) (34, 999) (999,) (226,)\n",
      "1000 0.01 44100\n",
      "127449000 (441000,) (34, 999) (999,) (248,)\n",
      "1000 0.01 44100\n",
      "127890000 (441000,) (34, 999) (999,) (451,)\n",
      "1000 0.01 44100\n",
      "128331000 (441000,) (34, 999) (999,) (244,)\n",
      "1000 0.01 44100\n",
      "128772000 (441000,) (34, 999) (999,) (368,)\n",
      "1000 0.01 44100\n",
      "129213000 (441000,) (34, 999) (999,) (298,)\n",
      "1000 0.01 44100\n",
      "129654000 (441000,) (34, 999) (999,) (211,)\n",
      "1000 0.01 44100\n",
      "130095000 (441000,) (34, 999) (999,) (165,)\n",
      "1000 0.01 44100\n",
      "130536000 (441000,) (34, 999) (999,) (464,)\n",
      "1000 0.01 44100\n",
      "130977000 (441000,) (34, 999) (999,) (323,)\n",
      "1000 0.01 44100\n",
      "131418000 (441000,) (34, 999) (999,) (76,)\n",
      "1000 0.01 44100\n",
      "131859000 (441000,) (34, 999) (999,) (28,)\n",
      "1000 0.01 44100\n",
      "132300000 (441000,) (34, 999) (999,) (100,)\n",
      "1000 0.01 44100\n",
      "132741000 (441000,) (34, 999) (999,) (84,)\n",
      "1000 0.01 44100\n",
      "133182000 (441000,) (34, 999) (999,) (74,)\n",
      "1000 0.01 44100\n",
      "133384699 (202699,) (34, 458) (458,) (18,)\n"
     ]
    }
   ],
   "source": [
    "nChunkSize = 1000 #Number of frames to read each time\n",
    "\n",
    "testFileName = '/media/Windows/root/AusKidTalk/Recordings/13_aug_2020/90 3_2_0/90 Primary_15-01.wav'#'/media/Windows/root/AusKidTalk/Recordings/28_jul_2020/81 3_2_0/81 Primary_13-01.wav'\n",
    "with wave.open(testFileName) as fWav:\n",
    "    iFrameRate = fWav.getframerate()\n",
    "    nSamples = fWav.getnframes()\n",
    "    nFrames = int(nSamples / (fStepSize * iFrameRate))\n",
    "    print(\"file {0} contains {1} frames\".format(testFileName,nFrames))\n",
    "    aBeepMask = np.zeros(nFrames,dtype=int)\n",
    "    i = 0\n",
    "    while fWav.tell() < nSamples:\n",
    "        print(nChunkSize,fStepSize,iFrameRate)\n",
    "        data = fWav.readframes(int(nChunkSize*fStepSize*iFrameRate))\n",
    "        data = [ x[0] for x in struct.iter_unpack('h',data)]\n",
    "        data = np.asarray(data)\n",
    "        aFeatures, lFeatures_names = sF.feature_extraction(data,iFrameRate,int(fWindowSize*iFrameRate),int(fStepSize*iFrameRate),deltas=use_delta)\n",
    "        X = aFeatures.T\n",
    "        X_std = scaler.transform(X)\n",
    "        y_pred = clf.predict(X_std)\n",
    "        aBeepMask[i:i+y_pred.shape[0]] = y_pred\n",
    "        i = i+y_pred.shape[0]\n",
    "        print(fWav.tell(),data.shape,aFeatures.shape,y_pred.shape,np.where(y_pred==1)[0].shape)\n",
    "    "
   ]
  },
  {
   "cell_type": "code",
   "execution_count": 63,
   "metadata": {},
   "outputs": [
    {
     "data": {
      "text/plain": [
       "[<matplotlib.lines.Line2D at 0x7faacf7835d0>]"
      ]
     },
     "execution_count": 63,
     "metadata": {},
     "output_type": "execute_result"
    },
    {
     "data": {
      "image/png": "[encoded data removed]",
      "text/plain": [
       "<Figure size 432x288 with 1 Axes>"
      ]
     },
     "metadata": {
      "needs_background": "light"
     },
     "output_type": "display_data"
    }
   ],
   "source": [
    "plt.plot(aBeepMask-np.roll(aBeepMask,-1))"
   ]
  },
  {
   "cell_type": "code",
   "execution_count": 97,
   "metadata": {},
   "outputs": [],
   "source": [
    "suma=np.sum(aBeepMask[:100])\n",
    "vSum = np.zeros(aBeepMask.shape[0]-100)\n",
    "for i in range(aBeepMask.shape[0]-100):\n",
    "    vSum[i] = suma\n",
    "    suma = suma - aBeepMask[i] + aBeepMask[i+100]"
   ]
  },
  {
   "cell_type": "code",
   "execution_count": 98,
   "metadata": {},
   "outputs": [
    {
     "data": {
      "text/plain": [
       "(array([ 10332,  10333,  10334,  10335,  10336,  10337,  10338,  10339,\n",
       "         10340,  10341,  50150,  50151,  50152,  50153,  50154,  50155,\n",
       "         50156,  50157,  50158,  50159,  50160,  50161,  50162, 122171,\n",
       "        122172, 122173, 122174, 122175, 122176, 122177, 122178, 122179,\n",
       "        122180, 122181, 122182, 122183, 122184, 122185, 122186, 122187,\n",
       "        122188, 221530, 221531, 221532, 221533, 221534, 221535, 221536,\n",
       "        221537, 221538, 268018, 268019, 268020, 268021, 268022, 268023,\n",
       "        268024, 268025, 268026, 268027, 268028, 268029, 268030, 268031]),)"
      ]
     },
     "execution_count": 98,
     "metadata": {},
     "output_type": "execute_result"
    }
   ],
   "source": [
    "np.where(vSum>95)"
   ]
  },
  {
   "cell_type": "code",
   "execution_count": 82,
   "metadata": {},
   "outputs": [
    {
     "data": {
      "text/plain": [
       "[(30.66, 31.66),\n",
       " (552.8480000000001, 553.8480000000001),\n",
       " (1334.75, 1335.75),\n",
       " (2225.89, 2226.89),\n",
       " (2248.935, 2249.935),\n",
       " (2744.7090000000003, 2745.7090000000003),\n",
       " (3403.236, 3404.236)]"
      ]
     },
     "execution_count": 82,
     "metadata": {},
     "output_type": "execute_result"
    }
   ],
   "source": [
    "dBeepTimes[testFileName]"
   ]
  },
  {
   "cell_type": "code",
   "execution_count": 95,
   "metadata": {},
   "outputs": [
    {
     "data": {
      "text/plain": [
       "[<matplotlib.lines.Line2D at 0x7faacef14f90>]"
      ]
     },
     "execution_count": 95,
     "metadata": {},
     "output_type": "execute_result"
    },
    {
     "data": {
      "image/png": "[encoded data removed]",
      "text/plain": [
       "<Figure size 432x288 with 1 Axes>"
      ]
     },
     "metadata": {
      "needs_background": "light"
     },
     "output_type": "display_data"
    }
   ],
   "source": [
    "plt.plot(vSum[222200:222700])"
   ]
  },
  {
   "cell_type": "code",
   "execution_count": 90,
   "metadata": {},
   "outputs": [
    {
     "data": {
      "text/plain": [
       "(370660,)"
      ]
     },
     "execution_count": 90,
     "metadata": {},
     "output_type": "execute_result"
    }
   ],
   "source": [
    "aBeepMask.shape\n",
    "vSum.shape"
   ]
  },
  {
   "cell_type": "code",
   "execution_count": 4,
   "metadata": {},
   "outputs": [],
   "source": [
    "f = wave.open('egs/Beeps/Sample1.wav')"
   ]
  },
  {
   "cell_type": "code",
   "execution_count": 6,
   "metadata": {},
   "outputs": [
    {
     "data": {
      "text/plain": [
       "1343414"
      ]
     },
     "execution_count": 6,
     "metadata": {},
     "output_type": "execute_result"
    }
   ],
   "source": [
    "f.getnframes()"
   ]
  },
  {
   "cell_type": "code",
   "execution_count": 7,
   "metadata": {},
   "outputs": [],
   "source": [
    "d = f.readframes(10)"
   ]
  },
  {
   "cell_type": "code",
   "execution_count": 8,
   "metadata": {},
   "outputs": [
    {
     "data": {
      "text/plain": [
       "10"
      ]
     },
     "execution_count": 8,
     "metadata": {},
     "output_type": "execute_result"
    }
   ],
   "source": [
    "f.tell()"
   ]
  },
  {
   "cell_type": "code",
   "execution_count": 9,
   "metadata": {},
   "outputs": [
    {
     "data": {
      "text/plain": [
       "b'N\\x00I\\x00H\\x00<\\x00>\\x002\\x004\\x004\\x00/\\x001\\x00'"
      ]
     },
     "execution_count": 9,
     "metadata": {},
     "output_type": "execute_result"
    }
   ],
   "source": [
    "d"
   ]
  },
  {
   "cell_type": "code",
   "execution_count": 23,
   "metadata": {},
   "outputs": [],
   "source": [
    "data = [i[0] for i in struct.iter_unpack('h',d)]"
   ]
  },
  {
   "cell_type": "code",
   "execution_count": 24,
   "metadata": {},
   "outputs": [
    {
     "data": {
      "text/plain": [
       "[78, 73, 72, 60, 62, 50, 52, 52, 47, 49]"
      ]
     },
     "execution_count": 24,
     "metadata": {},
     "output_type": "execute_result"
    }
   ],
   "source": [
    "data"
   ]
  },
  {
   "cell_type": "code",
   "execution_count": 12,
   "metadata": {},
   "outputs": [],
   "source": [
    "f.setpos(5)"
   ]
  },
  {
   "cell_type": "code",
   "execution_count": 13,
   "metadata": {},
   "outputs": [
    {
     "data": {
      "text/plain": [
       "5"
      ]
     },
     "execution_count": 13,
     "metadata": {},
     "output_type": "execute_result"
    }
   ],
   "source": [
    "f.tell()"
   ]
  },
  {
   "cell_type": "code",
   "execution_count": 58,
   "metadata": {},
   "outputs": [],
   "source": [
    "import numpy"
   ]
  },
  {
   "cell_type": "code",
   "execution_count": 17,
   "metadata": {},
   "outputs": [
    {
     "data": {
      "text/plain": [
       "(2437, 34)"
      ]
     },
     "execution_count": 17,
     "metadata": {},
     "output_type": "execute_result"
    }
   ],
   "source": [
    "data_beep.shape"
   ]
  },
  {
   "cell_type": "code",
   "execution_count": 19,
   "metadata": {},
   "outputs": [],
   "source": [
    "data_beep = data_beep[:,:34]"
   ]
  },
  {
   "cell_type": "code",
   "execution_count": 38,
   "metadata": {},
   "outputs": [],
   "source": [
    "pdData.to_pickle('Beep_NonBeep.gzip',compression='gzip')"
   ]
  },
  {
   "cell_type": "code",
   "execution_count": 29,
   "metadata": {},
   "outputs": [],
   "source": [
    "pdData = pdData.rename(columns={'lable':'label'})"
   ]
  },
  {
   "cell_type": "code",
   "execution_count": 37,
   "metadata": {},
   "outputs": [
    {
     "data": {
      "text/html": [
       "<div>\n",
       "<style scoped>\n",
       "    .dataframe tbody tr th:only-of-type {\n",
       "        vertical-align: middle;\n",
       "    }\n",
       "\n",
       "    .dataframe tbody tr th {\n",
       "        vertical-align: top;\n",
       "    }\n",
       "\n",
       "    .dataframe thead th {\n",
       "        text-align: right;\n",
       "    }\n",
       "</style>\n",
       "<table border=\"1\" class=\"dataframe\">\n",
       "  <thead>\n",
       "    <tr style=\"text-align: right;\">\n",
       "      <th></th>\n",
       "      <th>zcr</th>\n",
       "      <th>energy</th>\n",
       "      <th>energy_entropy</th>\n",
       "      <th>spectral_centroid</th>\n",
       "      <th>spectral_spread</th>\n",
       "      <th>spectral_entropy</th>\n",
       "      <th>spectral_flux</th>\n",
       "      <th>spectral_rolloff</th>\n",
       "      <th>mfcc_1</th>\n",
       "      <th>mfcc_2</th>\n",
       "      <th>...</th>\n",
       "      <th>chroma_5</th>\n",
       "      <th>chroma_6</th>\n",
       "      <th>chroma_7</th>\n",
       "      <th>chroma_8</th>\n",
       "      <th>chroma_9</th>\n",
       "      <th>chroma_10</th>\n",
       "      <th>chroma_11</th>\n",
       "      <th>chroma_12</th>\n",
       "      <th>chroma_std</th>\n",
       "      <th>label</th>\n",
       "    </tr>\n",
       "  </thead>\n",
       "  <tbody>\n",
       "    <tr>\n",
       "      <th>0</th>\n",
       "      <td>0.026107</td>\n",
       "      <td>0.023881</td>\n",
       "      <td>2.952514</td>\n",
       "      <td>0.149147</td>\n",
       "      <td>0.239787</td>\n",
       "      <td>0.127924</td>\n",
       "      <td>0.000000</td>\n",
       "      <td>0.022676</td>\n",
       "      <td>-24.828048</td>\n",
       "      <td>2.665265</td>\n",
       "      <td>...</td>\n",
       "      <td>0.022029</td>\n",
       "      <td>0.021238</td>\n",
       "      <td>0.000235</td>\n",
       "      <td>0.000314</td>\n",
       "      <td>0.008918</td>\n",
       "      <td>0.001560</td>\n",
       "      <td>0.198840</td>\n",
       "      <td>0.000447</td>\n",
       "      <td>0.053615</td>\n",
       "      <td>1</td>\n",
       "    </tr>\n",
       "    <tr>\n",
       "      <th>1</th>\n",
       "      <td>0.039728</td>\n",
       "      <td>0.010181</td>\n",
       "      <td>2.792336</td>\n",
       "      <td>0.125940</td>\n",
       "      <td>0.235431</td>\n",
       "      <td>0.074945</td>\n",
       "      <td>0.009646</td>\n",
       "      <td>0.022676</td>\n",
       "      <td>-26.299752</td>\n",
       "      <td>3.146192</td>\n",
       "      <td>...</td>\n",
       "      <td>0.018564</td>\n",
       "      <td>0.011332</td>\n",
       "      <td>0.000123</td>\n",
       "      <td>0.000949</td>\n",
       "      <td>0.004107</td>\n",
       "      <td>0.000762</td>\n",
       "      <td>0.146623</td>\n",
       "      <td>0.000438</td>\n",
       "      <td>0.039614</td>\n",
       "      <td>1</td>\n",
       "    </tr>\n",
       "    <tr>\n",
       "      <th>2</th>\n",
       "      <td>0.057889</td>\n",
       "      <td>0.018654</td>\n",
       "      <td>1.944444</td>\n",
       "      <td>0.340922</td>\n",
       "      <td>0.255146</td>\n",
       "      <td>1.439361</td>\n",
       "      <td>0.020274</td>\n",
       "      <td>0.562358</td>\n",
       "      <td>-25.740006</td>\n",
       "      <td>2.078188</td>\n",
       "      <td>...</td>\n",
       "      <td>0.004672</td>\n",
       "      <td>0.028268</td>\n",
       "      <td>0.000302</td>\n",
       "      <td>0.002667</td>\n",
       "      <td>0.008031</td>\n",
       "      <td>0.001571</td>\n",
       "      <td>0.071698</td>\n",
       "      <td>0.000468</td>\n",
       "      <td>0.020861</td>\n",
       "      <td>1</td>\n",
       "    </tr>\n",
       "    <tr>\n",
       "      <th>3</th>\n",
       "      <td>0.150965</td>\n",
       "      <td>0.034977</td>\n",
       "      <td>2.674830</td>\n",
       "      <td>0.346859</td>\n",
       "      <td>0.256991</td>\n",
       "      <td>1.176551</td>\n",
       "      <td>0.004105</td>\n",
       "      <td>0.546485</td>\n",
       "      <td>-25.984883</td>\n",
       "      <td>2.449404</td>\n",
       "      <td>...</td>\n",
       "      <td>0.000302</td>\n",
       "      <td>0.022524</td>\n",
       "      <td>0.000113</td>\n",
       "      <td>0.000931</td>\n",
       "      <td>0.001405</td>\n",
       "      <td>0.001999</td>\n",
       "      <td>0.153657</td>\n",
       "      <td>0.000235</td>\n",
       "      <td>0.042105</td>\n",
       "      <td>1</td>\n",
       "    </tr>\n",
       "    <tr>\n",
       "      <th>4</th>\n",
       "      <td>0.357548</td>\n",
       "      <td>0.034518</td>\n",
       "      <td>3.145192</td>\n",
       "      <td>0.313703</td>\n",
       "      <td>0.266910</td>\n",
       "      <td>1.087860</td>\n",
       "      <td>0.008439</td>\n",
       "      <td>0.544218</td>\n",
       "      <td>-26.793118</td>\n",
       "      <td>2.463520</td>\n",
       "      <td>...</td>\n",
       "      <td>0.001661</td>\n",
       "      <td>0.010340</td>\n",
       "      <td>0.000085</td>\n",
       "      <td>0.000150</td>\n",
       "      <td>0.002542</td>\n",
       "      <td>0.001178</td>\n",
       "      <td>0.132129</td>\n",
       "      <td>0.000050</td>\n",
       "      <td>0.035941</td>\n",
       "      <td>1</td>\n",
       "    </tr>\n",
       "    <tr>\n",
       "      <th>...</th>\n",
       "      <td>...</td>\n",
       "      <td>...</td>\n",
       "      <td>...</td>\n",
       "      <td>...</td>\n",
       "      <td>...</td>\n",
       "      <td>...</td>\n",
       "      <td>...</td>\n",
       "      <td>...</td>\n",
       "      <td>...</td>\n",
       "      <td>...</td>\n",
       "      <td>...</td>\n",
       "      <td>...</td>\n",
       "      <td>...</td>\n",
       "      <td>...</td>\n",
       "      <td>...</td>\n",
       "      <td>...</td>\n",
       "      <td>...</td>\n",
       "      <td>...</td>\n",
       "      <td>...</td>\n",
       "      <td>...</td>\n",
       "      <td>...</td>\n",
       "    </tr>\n",
       "    <tr>\n",
       "      <th>44030</th>\n",
       "      <td>0.011351</td>\n",
       "      <td>0.149749</td>\n",
       "      <td>2.540470</td>\n",
       "      <td>0.134250</td>\n",
       "      <td>0.241330</td>\n",
       "      <td>0.050390</td>\n",
       "      <td>0.028181</td>\n",
       "      <td>0.009070</td>\n",
       "      <td>-23.830157</td>\n",
       "      <td>2.753325</td>\n",
       "      <td>...</td>\n",
       "      <td>0.000216</td>\n",
       "      <td>0.005289</td>\n",
       "      <td>0.000099</td>\n",
       "      <td>0.000412</td>\n",
       "      <td>0.001147</td>\n",
       "      <td>0.000189</td>\n",
       "      <td>0.241018</td>\n",
       "      <td>0.000177</td>\n",
       "      <td>0.066119</td>\n",
       "      <td>0</td>\n",
       "    </tr>\n",
       "    <tr>\n",
       "      <th>44031</th>\n",
       "      <td>0.015891</td>\n",
       "      <td>0.069312</td>\n",
       "      <td>2.959871</td>\n",
       "      <td>0.137631</td>\n",
       "      <td>0.261177</td>\n",
       "      <td>0.035866</td>\n",
       "      <td>0.006084</td>\n",
       "      <td>0.009070</td>\n",
       "      <td>-25.840094</td>\n",
       "      <td>3.149468</td>\n",
       "      <td>...</td>\n",
       "      <td>0.000834</td>\n",
       "      <td>0.013769</td>\n",
       "      <td>0.000023</td>\n",
       "      <td>0.000090</td>\n",
       "      <td>0.002541</td>\n",
       "      <td>0.000063</td>\n",
       "      <td>0.219121</td>\n",
       "      <td>0.000074</td>\n",
       "      <td>0.060025</td>\n",
       "      <td>0</td>\n",
       "    </tr>\n",
       "    <tr>\n",
       "      <th>44032</th>\n",
       "      <td>0.017026</td>\n",
       "      <td>0.179122</td>\n",
       "      <td>2.612994</td>\n",
       "      <td>0.114428</td>\n",
       "      <td>0.233535</td>\n",
       "      <td>0.022877</td>\n",
       "      <td>0.010135</td>\n",
       "      <td>0.009070</td>\n",
       "      <td>-24.292798</td>\n",
       "      <td>3.310984</td>\n",
       "      <td>...</td>\n",
       "      <td>0.000163</td>\n",
       "      <td>0.012701</td>\n",
       "      <td>0.000034</td>\n",
       "      <td>0.000190</td>\n",
       "      <td>0.001060</td>\n",
       "      <td>0.000047</td>\n",
       "      <td>0.252514</td>\n",
       "      <td>0.000056</td>\n",
       "      <td>0.069179</td>\n",
       "      <td>0</td>\n",
       "    </tr>\n",
       "    <tr>\n",
       "      <th>44033</th>\n",
       "      <td>0.017026</td>\n",
       "      <td>0.180206</td>\n",
       "      <td>2.685020</td>\n",
       "      <td>0.111079</td>\n",
       "      <td>0.237368</td>\n",
       "      <td>0.018542</td>\n",
       "      <td>0.012567</td>\n",
       "      <td>0.009070</td>\n",
       "      <td>-25.440577</td>\n",
       "      <td>3.170213</td>\n",
       "      <td>...</td>\n",
       "      <td>0.000059</td>\n",
       "      <td>0.039243</td>\n",
       "      <td>0.000014</td>\n",
       "      <td>0.000083</td>\n",
       "      <td>0.000050</td>\n",
       "      <td>0.000163</td>\n",
       "      <td>0.209545</td>\n",
       "      <td>0.000077</td>\n",
       "      <td>0.057598</td>\n",
       "      <td>0</td>\n",
       "    </tr>\n",
       "    <tr>\n",
       "      <th>44034</th>\n",
       "      <td>0.017026</td>\n",
       "      <td>0.092263</td>\n",
       "      <td>2.792706</td>\n",
       "      <td>0.146080</td>\n",
       "      <td>0.257385</td>\n",
       "      <td>0.051309</td>\n",
       "      <td>0.028726</td>\n",
       "      <td>0.009070</td>\n",
       "      <td>-24.967961</td>\n",
       "      <td>2.648585</td>\n",
       "      <td>...</td>\n",
       "      <td>0.000078</td>\n",
       "      <td>0.010467</td>\n",
       "      <td>0.000047</td>\n",
       "      <td>0.000282</td>\n",
       "      <td>0.002405</td>\n",
       "      <td>0.000359</td>\n",
       "      <td>0.234638</td>\n",
       "      <td>0.000326</td>\n",
       "      <td>0.064306</td>\n",
       "      <td>0</td>\n",
       "    </tr>\n",
       "  </tbody>\n",
       "</table>\n",
       "<p>44035 rows × 35 columns</p>\n",
       "</div>"
      ],
      "text/plain": [
       "            zcr    energy  energy_entropy  spectral_centroid  spectral_spread  \\\n",
       "0      0.026107  0.023881        2.952514           0.149147         0.239787   \n",
       "1      0.039728  0.010181        2.792336           0.125940         0.235431   \n",
       "2      0.057889  0.018654        1.944444           0.340922         0.255146   \n",
       "3      0.150965  0.034977        2.674830           0.346859         0.256991   \n",
       "4      0.357548  0.034518        3.145192           0.313703         0.266910   \n",
       "...         ...       ...             ...                ...              ...   \n",
       "44030  0.011351  0.149749        2.540470           0.134250         0.241330   \n",
       "44031  0.015891  0.069312        2.959871           0.137631         0.261177   \n",
       "44032  0.017026  0.179122        2.612994           0.114428         0.233535   \n",
       "44033  0.017026  0.180206        2.685020           0.111079         0.237368   \n",
       "44034  0.017026  0.092263        2.792706           0.146080         0.257385   \n",
       "\n",
       "       spectral_entropy  spectral_flux  spectral_rolloff     mfcc_1    mfcc_2  \\\n",
       "0              0.127924       0.000000          0.022676 -24.828048  2.665265   \n",
       "1              0.074945       0.009646          0.022676 -26.299752  3.146192   \n",
       "2              1.439361       0.020274          0.562358 -25.740006  2.078188   \n",
       "3              1.176551       0.004105          0.546485 -25.984883  2.449404   \n",
       "4              1.087860       0.008439          0.544218 -26.793118  2.463520   \n",
       "...                 ...            ...               ...        ...       ...   \n",
       "44030          0.050390       0.028181          0.009070 -23.830157  2.753325   \n",
       "44031          0.035866       0.006084          0.009070 -25.840094  3.149468   \n",
       "44032          0.022877       0.010135          0.009070 -24.292798  3.310984   \n",
       "44033          0.018542       0.012567          0.009070 -25.440577  3.170213   \n",
       "44034          0.051309       0.028726          0.009070 -24.967961  2.648585   \n",
       "\n",
       "       ...  chroma_5  chroma_6  chroma_7  chroma_8  chroma_9  chroma_10  \\\n",
       "0      ...  0.022029  0.021238  0.000235  0.000314  0.008918   0.001560   \n",
       "1      ...  0.018564  0.011332  0.000123  0.000949  0.004107   0.000762   \n",
       "2      ...  0.004672  0.028268  0.000302  0.002667  0.008031   0.001571   \n",
       "3      ...  0.000302  0.022524  0.000113  0.000931  0.001405   0.001999   \n",
       "4      ...  0.001661  0.010340  0.000085  0.000150  0.002542   0.001178   \n",
       "...    ...       ...       ...       ...       ...       ...        ...   \n",
       "44030  ...  0.000216  0.005289  0.000099  0.000412  0.001147   0.000189   \n",
       "44031  ...  0.000834  0.013769  0.000023  0.000090  0.002541   0.000063   \n",
       "44032  ...  0.000163  0.012701  0.000034  0.000190  0.001060   0.000047   \n",
       "44033  ...  0.000059  0.039243  0.000014  0.000083  0.000050   0.000163   \n",
       "44034  ...  0.000078  0.010467  0.000047  0.000282  0.002405   0.000359   \n",
       "\n",
       "       chroma_11  chroma_12  chroma_std  label  \n",
       "0       0.198840   0.000447    0.053615      1  \n",
       "1       0.146623   0.000438    0.039614      1  \n",
       "2       0.071698   0.000468    0.020861      1  \n",
       "3       0.153657   0.000235    0.042105      1  \n",
       "4       0.132129   0.000050    0.035941      1  \n",
       "...          ...        ...         ...    ...  \n",
       "44030   0.241018   0.000177    0.066119      0  \n",
       "44031   0.219121   0.000074    0.060025      0  \n",
       "44032   0.252514   0.000056    0.069179      0  \n",
       "44033   0.209545   0.000077    0.057598      0  \n",
       "44034   0.234638   0.000326    0.064306      0  \n",
       "\n",
       "[44035 rows x 35 columns]"
      ]
     },
     "execution_count": 37,
     "metadata": {},
     "output_type": "execute_result"
    }
   ],
   "source": [
    "pdData"
   ]
  },
  {
   "cell_type": "code",
   "execution_count": 47,
   "metadata": {},
   "outputs": [
    {
     "data": {
      "text/plain": [
       "'0.22.1'"
      ]
     },
     "execution_count": 47,
     "metadata": {},
     "output_type": "execute_result"
    }
   ],
   "source": [
    "sklearn.__version__"
   ]
  },
  {
   "cell_type": "code",
   "execution_count": 24,
   "metadata": {},
   "outputs": [
    {
     "data": {
      "text/plain": [
       "3"
      ]
     },
     "execution_count": 24,
     "metadata": {},
     "output_type": "execute_result"
    }
   ],
   "source": [
    "fWav.getsampwidth()"
   ]
  },
  {
   "cell_type": "code",
   "execution_count": 25,
   "metadata": {},
   "outputs": [],
   "source": [
    "import scipy"
   ]
  },
  {
   "cell_type": "code",
   "execution_count": 26,
   "metadata": {},
   "outputs": [
    {
     "ename": "AttributeError",
     "evalue": "module 'scipy' has no attribute 'io'",
     "output_type": "error",
     "traceback": [
      "\u001b[0;31m---------------------------------------------------------------------------\u001b[0m",
      "\u001b[0;31mAttributeError\u001b[0m                            Traceback (most recent call last)",
      "\u001b[0;32m<ipython-input-26-eef73cdb4870>\u001b[0m in \u001b[0;36m<module>\u001b[0;34m\u001b[0m\n\u001b[0;32m----> 1\u001b[0;31m \u001b[0mfr\u001b[0m\u001b[0;34m,\u001b[0m \u001b[0mdata\u001b[0m \u001b[0;34m=\u001b[0m \u001b[0mscipy\u001b[0m\u001b[0;34m.\u001b[0m\u001b[0mio\u001b[0m\u001b[0;34m.\u001b[0m\u001b[0mwavfile\u001b[0m\u001b[0;34m.\u001b[0m\u001b[0mread\u001b[0m\u001b[0;34m(\u001b[0m\u001b[0;34m'egs/Beeps/Sample1.wav'\u001b[0m\u001b[0;34m)\u001b[0m\u001b[0;34m\u001b[0m\u001b[0;34m\u001b[0m\u001b[0m\n\u001b[0m",
      "\u001b[0;31mAttributeError\u001b[0m: module 'scipy' has no attribute 'io'"
     ]
    }
   ],
   "source": [
    "fr, data = scipy.io.wavfile.read('egs/Beeps/Sample1.wav')"
   ]
  },
  {
   "cell_type": "code",
   "execution_count": 27,
   "metadata": {},
   "outputs": [
    {
     "data": {
      "text/plain": [
       "'1.4.1'"
      ]
     },
     "execution_count": 27,
     "metadata": {},
     "output_type": "execute_result"
    }
   ],
   "source": [
    "scipy.__version__"
   ]
  },
  {
   "cell_type": "code",
   "execution_count": 31,
   "metadata": {},
   "outputs": [
    {
     "data": {
      "text/plain": [
       "defaultdict(list,\n",
       "            {'/media/Windows/root/AusKidTalk/Recordings/9_jan_2020/Primary_07-01.wav': [(13.1,\n",
       "               14.1)],\n",
       "             '/media/Windows/root/AusKidTalk/Recordings/9_jan_2020/Testing_with_Mostafa_kids/Primary_04-01.wav': [(34.91,\n",
       "               35.91),\n",
       "              (194.435, 195.435),\n",
       "              (332.31800000000004, 333.31800000000004),\n",
       "              (1050.538, 1051.538),\n",
       "              (1065.531, 1066.531),\n",
       "              (1268.032, 1269.032),\n",
       "              (1357.734, 1358.734),\n",
       "              (1392.733, 1393.8329999999999),\n",
       "              (1422.634, 1423.634)],\n",
       "             '/media/Windows/root/AusKidTalk/Recordings/10_March_2020/Audio 1_01-01.wav': [(7.21,\n",
       "               8.21),\n",
       "              (279.3, 280.3),\n",
       "              (380.62, 381.62)],\n",
       "             '/media/Windows/root/AusKidTalk/Recordings/24_jan_2020/child_2_2/Primary_03-01.wav': [(462.639,\n",
       "               463.639),\n",
       "              (598.61, 599.61)],\n",
       "             '/media/Windows/root/AusKidTalk/Recordings/24_jan_2020/Child1/Primary_01-01.wav': [(16.89,\n",
       "               17.89),\n",
       "              (152.61, 153.61)],\n",
       "             '/media/Windows/root/AusKidTalk/Recordings/24_jan_2020/Child2/Primary_02-01.wav': [(4.12,\n",
       "               5.12),\n",
       "              (506.17699999999996, 507.17699999999996),\n",
       "              (799.95, 800.95),\n",
       "              (873.78, 874.78),\n",
       "              (1432.95, 1433.95),\n",
       "              (1469.41, 1470.41)],\n",
       "             '/media/Windows/root/AusKidTalk/Recordings/28_jul_2020/81 3_2_0/81 Primary_13-01.wav': [(30.66,\n",
       "               31.66),\n",
       "              (552.8480000000001, 553.8480000000001),\n",
       "              (1334.75, 1335.75),\n",
       "              (2225.89, 2226.89),\n",
       "              (2248.935, 2249.935),\n",
       "              (2744.7090000000003, 2745.7090000000003),\n",
       "              (3403.236, 3404.236)]})"
      ]
     },
     "execution_count": 31,
     "metadata": {},
     "output_type": "execute_result"
    }
   ],
   "source": [
    "dBeepTimes"
   ]
  },
  {
   "cell_type": "code",
   "execution_count": 10,
   "metadata": {},
   "outputs": [
    {
     "data": {
      "text/plain": [
       "40.179999999999836"
      ]
     },
     "execution_count": 10,
     "metadata": {},
     "output_type": "execute_result"
    }
   ],
   "source": [
    "2680.18 % 60"
   ]
  },
  {
   "cell_type": "code",
   "execution_count": 11,
   "metadata": {},
   "outputs": [
    {
     "data": {
      "text/plain": [
       "44.669666666666664"
      ]
     },
     "execution_count": 11,
     "metadata": {},
     "output_type": "execute_result"
    }
   ],
   "source": [
    "2680.18/60"
   ]
  },
  {
   "cell_type": "code",
   "execution_count": 47,
   "metadata": {},
   "outputs": [],
   "source": [
    "a = np.arange(1,41)"
   ]
  },
  {
   "cell_type": "code",
   "execution_count": 48,
   "metadata": {},
   "outputs": [],
   "source": [
    "a = a.reshape(10,4)"
   ]
  },
  {
   "cell_type": "code",
   "execution_count": 49,
   "metadata": {},
   "outputs": [
    {
     "data": {
      "text/plain": [
       "array([[ 1,  2,  3,  4],\n",
       "       [ 5,  6,  7,  8],\n",
       "       [ 9, 10, 11, 12],\n",
       "       [13, 14, 15, 16],\n",
       "       [17, 18, 19, 20],\n",
       "       [21, 22, 23, 24],\n",
       "       [25, 26, 27, 28],\n",
       "       [29, 30, 31, 32],\n",
       "       [33, 34, 35, 36],\n",
       "       [37, 38, 39, 40]])"
      ]
     },
     "execution_count": 49,
     "metadata": {},
     "output_type": "execute_result"
    }
   ],
   "source": [
    "a"
   ]
  },
  {
   "cell_type": "code",
   "execution_count": 26,
   "metadata": {},
   "outputs": [
    {
     "data": {
      "text/plain": [
       "array([1, 2, 3, 4])"
      ]
     },
     "execution_count": 26,
     "metadata": {},
     "output_type": "execute_result"
    }
   ],
   "source": [
    "a[0]"
   ]
  },
  {
   "cell_type": "code",
   "execution_count": 29,
   "metadata": {},
   "outputs": [
    {
     "data": {
      "text/plain": [
       "array([ 1,  2,  3,  4,  5,  6,  7,  8,  9, 10, 11, 12])"
      ]
     },
     "execution_count": 29,
     "metadata": {},
     "output_type": "execute_result"
    }
   ],
   "source": [
    "np.r_[a[0],a[1],a[2]]"
   ]
  },
  {
   "cell_type": "code",
   "execution_count": 31,
   "metadata": {},
   "outputs": [],
   "source": [
    "i=2"
   ]
  },
  {
   "cell_type": "code",
   "execution_count": 32,
   "metadata": {},
   "outputs": [],
   "source": [
    "c = (-1,0,1)"
   ]
  },
  {
   "cell_type": "code",
   "execution_count": 37,
   "metadata": {},
   "outputs": [
    {
     "data": {
      "text/plain": [
       "array([[ 5,  6,  7,  8],\n",
       "       [ 9, 10, 11, 12],\n",
       "       [13, 14, 15, 16],\n",
       "       [17, 18, 19, 20],\n",
       "       [21, 22, 23, 24],\n",
       "       [25, 26, 27, 28],\n",
       "       [29, 30, 31, 32],\n",
       "       [33, 34, 35, 36],\n",
       "       [37, 38, 39, 40],\n",
       "       [ 1,  2,  3,  4]])"
      ]
     },
     "execution_count": 37,
     "metadata": {},
     "output_type": "execute_result"
    }
   ],
   "source": [
    "np.roll(a,-1,axis=0)"
   ]
  },
  {
   "cell_type": "code",
   "execution_count": 45,
   "metadata": {},
   "outputs": [
    {
     "data": {
      "text/plain": [
       "array([[37., 38., 39., 40.,  0.,  0.,  0.,  0.,  1.,  2.,  3.,  4.],\n",
       "       [ 0.,  0.,  0.,  0.,  1.,  2.,  3.,  4.,  5.,  6.,  7.,  8.],\n",
       "       [ 1.,  2.,  3.,  4.,  5.,  6.,  7.,  8.,  9., 10., 11., 12.],\n",
       "       [ 5.,  6.,  7.,  8.,  9., 10., 11., 12., 13., 14., 15., 16.],\n",
       "       [ 9., 10., 11., 12., 13., 14., 15., 16., 17., 18., 19., 20.],\n",
       "       [13., 14., 15., 16., 17., 18., 19., 20., 21., 22., 23., 24.],\n",
       "       [17., 18., 19., 20., 21., 22., 23., 24., 25., 26., 27., 28.],\n",
       "       [21., 22., 23., 24., 25., 26., 27., 28., 29., 30., 31., 32.],\n",
       "       [25., 26., 27., 28., 29., 30., 31., 32., 33., 34., 35., 36.],\n",
       "       [29., 30., 31., 32., 33., 34., 35., 36., 37., 38., 39., 40.],\n",
       "       [33., 34., 35., 36., 37., 38., 39., 40.,  0.,  0.,  0.,  0.]])"
      ]
     },
     "execution_count": 45,
     "metadata": {},
     "output_type": "execute_result"
    }
   ],
   "source": [
    "np.c_[np.roll(a,1,axis=0),np.roll(a,0,axis=0),np.roll(a,-1,axis=0)]"
   ]
  },
  {
   "cell_type": "code",
   "execution_count": 43,
   "metadata": {},
   "outputs": [],
   "source": [
    "a = np.r_[np.zeros((1,a.shape[1])),a]"
   ]
  },
  {
   "cell_type": "code",
   "execution_count": 56,
   "metadata": {},
   "outputs": [
    {
     "data": {
      "text/plain": [
       "array([[ 1,  2,  3,  4],\n",
       "       [ 5,  6,  7,  8],\n",
       "       [ 9, 10, 11, 12],\n",
       "       [13, 14, 15, 16],\n",
       "       [17, 18, 19, 20],\n",
       "       [21, 22, 23, 24],\n",
       "       [25, 26, 27, 28],\n",
       "       [29, 30, 31, 32],\n",
       "       [33, 34, 35, 36],\n",
       "       [37, 38, 39, 40]])"
      ]
     },
     "execution_count": 56,
     "metadata": {},
     "output_type": "execute_result"
    }
   ],
   "source": [
    "a"
   ]
  },
  {
   "cell_type": "code",
   "execution_count": 117,
   "metadata": {},
   "outputs": [],
   "source": [
    "c = (-2,-1,0,1,2)"
   ]
  },
  {
   "cell_type": "code",
   "execution_count": 118,
   "metadata": {},
   "outputs": [
    {
     "data": {
      "text/plain": [
       "2"
      ]
     },
     "execution_count": 118,
     "metadata": {},
     "output_type": "execute_result"
    }
   ],
   "source": [
    "max(c)"
   ]
  },
  {
   "cell_type": "code",
   "execution_count": 119,
   "metadata": {},
   "outputs": [
    {
     "data": {
      "text/plain": [
       "-2"
      ]
     },
     "execution_count": 119,
     "metadata": {},
     "output_type": "execute_result"
    }
   ],
   "source": [
    "min(c)"
   ]
  },
  {
   "cell_type": "code",
   "execution_count": 120,
   "metadata": {},
   "outputs": [],
   "source": [
    "nPostPad = max(c)\n",
    "nPrePad = abs(min(c))"
   ]
  },
  {
   "cell_type": "code",
   "execution_count": 121,
   "metadata": {},
   "outputs": [],
   "source": [
    "aPostPad = np.zeros((nPostPad,a.shape[1]))\n",
    "aPrePad = np.zeros((nPrePad,a.shape[1]))"
   ]
  },
  {
   "cell_type": "code",
   "execution_count": 122,
   "metadata": {},
   "outputs": [
    {
     "data": {
      "text/plain": [
       "(2, 4)"
      ]
     },
     "execution_count": 122,
     "metadata": {},
     "output_type": "execute_result"
    }
   ],
   "source": [
    "aPostPad.shape"
   ]
  },
  {
   "cell_type": "code",
   "execution_count": 123,
   "metadata": {},
   "outputs": [],
   "source": [
    "a_pad = np.r_[aPrePad,a,aPostPad]"
   ]
  },
  {
   "cell_type": "code",
   "execution_count": 124,
   "metadata": {},
   "outputs": [
    {
     "data": {
      "text/plain": [
       "(14, 4)"
      ]
     },
     "execution_count": 124,
     "metadata": {},
     "output_type": "execute_result"
    }
   ],
   "source": [
    "a_pad.shape"
   ]
  },
  {
   "cell_type": "code",
   "execution_count": 125,
   "metadata": {},
   "outputs": [],
   "source": [
    "xx = [np.roll(a_pad,i,axis=0) for i in c[::-1]]"
   ]
  },
  {
   "cell_type": "code",
   "execution_count": 126,
   "metadata": {},
   "outputs": [
    {
     "data": {
      "text/plain": [
       "(10, 20)"
      ]
     },
     "execution_count": 126,
     "metadata": {},
     "output_type": "execute_result"
    }
   ],
   "source": [
    "np.concatenate(xx,axis=1)[0+nPrePad:-nPostPad].shape"
   ]
  },
  {
   "cell_type": "code",
   "execution_count": 7,
   "metadata": {},
   "outputs": [
    {
     "data": {
      "text/plain": [
       "['/media/Windows/root/AusKidTalk/Recordings/9_jan_2020/Primary_07-01.wav',\n",
       " '/media/Windows/root/AusKidTalk/Recordings/9_jan_2020/Testing_with_Mostafa_kids/Primary_04-01.wav',\n",
       " '/media/Windows/root/AusKidTalk/Recordings/10_March_2020/Audio 1_01-01.wav',\n",
       " '/media/Windows/root/AusKidTalk/Recordings/24_jan_2020/child_2_2/Primary_03-01.wav',\n",
       " '/media/Windows/root/AusKidTalk/Recordings/24_jan_2020/Child1/Primary_01-01.wav',\n",
       " '/media/Windows/root/AusKidTalk/Recordings/24_jan_2020/Child2/Primary_02-01.wav',\n",
       " '/media/Windows/root/AusKidTalk/Recordings/28_jul_2020/81 3_2_0/81 Primary_13-01.wav',\n",
       " '/media/Windows/root/AusKidTalk/Recordings/13_aug_2020/90 3_2_0/90 Primary_15-01.wav',\n",
       " 0]"
      ]
     },
     "execution_count": 7,
     "metadata": {},
     "output_type": "execute_result"
    }
   ],
   "source": [
    "list(dBeepTimes.keys())"
   ]
  },
  {
   "cell_type": "code",
   "execution_count": 1,
   "metadata": {},
   "outputs": [],
   "source": [
    "f = '/media/Windows/root/AusKidTalk/Recordings/28_jul_2020/81 3_2_0/81 Primary_13-01.wav'"
   ]
  },
  {
   "cell_type": "code",
   "execution_count": 14,
   "metadata": {},
   "outputs": [],
   "source": [
    "z = np.load('egs/BeepDetModel/egs/egs_5_1.npy')"
   ]
  },
  {
   "cell_type": "code",
   "execution_count": 15,
   "metadata": {},
   "outputs": [
    {
     "data": {
      "text/plain": [
       "(18982, 172)"
      ]
     },
     "execution_count": 15,
     "metadata": {},
     "output_type": "execute_result"
    }
   ],
   "source": [
    "z.shape"
   ]
  },
  {
   "cell_type": "code",
   "execution_count": 19,
   "metadata": {},
   "outputs": [
    {
     "data": {
      "text/plain": [
       "(18081,)"
      ]
     },
     "execution_count": 19,
     "metadata": {},
     "output_type": "execute_result"
    }
   ],
   "source": [
    "np.where(z[:,-1]==0)[0].shape"
   ]
  },
  {
   "cell_type": "code",
   "execution_count": 24,
   "metadata": {},
   "outputs": [],
   "source": [
    "xx = [np.load('egs/BeepDetModel/egs/egs_{0}.npy'.format(i)) for i in range(8)]"
   ]
  },
  {
   "cell_type": "code",
   "execution_count": 25,
   "metadata": {},
   "outputs": [
    {
     "data": {
      "text/plain": [
       "[array([[0.        , 0.        , 0.        , ..., 0.03961403, 0.        ,\n",
       "         1.        ],\n",
       "        [0.0261067 , 0.023881  , 2.95251418, ..., 0.02086051, 0.        ,\n",
       "         1.        ],\n",
       "        [0.03972758, 0.01018135, 2.79233571, ..., 0.04210504, 0.        ,\n",
       "         1.        ],\n",
       "        ...,\n",
       "        [0.03632236, 0.08585858, 3.16158758, ..., 0.02501251, 0.        ,\n",
       "         0.        ],\n",
       "        [0.05561862, 0.06888916, 3.11556522, ..., 0.03855069, 0.        ,\n",
       "         0.        ],\n",
       "        [0.05107832, 0.0576163 , 3.19697933, ..., 0.        , 0.        ,\n",
       "         0.        ]]),\n",
       " array([[0.00000000e+00, 0.00000000e+00, 0.00000000e+00, ...,\n",
       "         2.34946135e-03, 1.00000000e+00, 1.00000000e+00],\n",
       "        [5.44835414e-01, 2.68381203e-01, 3.28015702e+00, ...,\n",
       "         1.64341840e-03, 1.00000000e+00, 1.00000000e+00],\n",
       "        [5.44835414e-01, 3.43247403e-01, 3.31031953e+00, ...,\n",
       "         1.86870431e-03, 1.00000000e+00, 1.00000000e+00],\n",
       "        ...,\n",
       "        [3.17820658e-02, 8.00373653e-03, 3.09813849e+00, ...,\n",
       "         2.79237636e-02, 1.00000000e+00, 0.00000000e+00],\n",
       "        [2.04313280e-02, 7.52725281e-03, 3.19354779e+00, ...,\n",
       "         3.53865981e-02, 1.00000000e+00, 0.00000000e+00],\n",
       "        [1.47559591e-02, 6.91988147e-03, 3.16593478e+00, ...,\n",
       "         0.00000000e+00, 1.00000000e+00, 0.00000000e+00]]),\n",
       " array([[0.        , 0.        , 0.        , ..., 0.013734  , 2.        ,\n",
       "         1.        ],\n",
       "        [0.0908059 , 0.01409395, 3.08637354, ..., 0.01447785, 2.        ,\n",
       "         1.        ],\n",
       "        [0.36095346, 0.02925877, 2.90331157, ..., 0.00655443, 2.        ,\n",
       "         1.        ],\n",
       "        ...,\n",
       "        [0.12712826, 0.07365272, 2.73793779, ..., 0.08367951, 2.        ,\n",
       "         0.        ],\n",
       "        [0.03972758, 0.12568283, 2.83416723, ..., 0.08272903, 2.        ,\n",
       "         0.        ],\n",
       "        [0.03972758, 0.22665999, 2.89810958, ..., 0.        , 2.        ,\n",
       "         0.        ]]),\n",
       " array([[0.        , 0.        , 0.        , ..., 0.04541772, 3.        ,\n",
       "         1.        ],\n",
       "        [0.19409762, 0.07253115, 2.79947051, ..., 0.00883721, 3.        ,\n",
       "         1.        ],\n",
       "        [0.36549376, 0.12605361, 3.24957769, ..., 0.02949014, 3.        ,\n",
       "         1.        ],\n",
       "        ...,\n",
       "        [0.00794552, 0.23159214, 2.67827577, ..., 0.04224236, 3.        ,\n",
       "         0.        ],\n",
       "        [0.01021566, 0.20023505, 2.57305304, ..., 0.0701782 , 3.        ,\n",
       "         0.        ],\n",
       "        [0.01702611, 0.11838726, 2.89663892, ..., 0.        , 3.        ,\n",
       "         0.        ]]),\n",
       " array([[0.00000000e+00, 0.00000000e+00, 0.00000000e+00, ...,\n",
       "         3.97896296e-03, 4.00000000e+00, 1.00000000e+00],\n",
       "        [5.44835414e-01, 4.90565187e-02, 3.31604204e+00, ...,\n",
       "         3.26698929e-03, 4.00000000e+00, 1.00000000e+00],\n",
       "        [5.44835414e-01, 4.97659426e-02, 3.31666771e+00, ...,\n",
       "         6.08171107e-03, 4.00000000e+00, 1.00000000e+00],\n",
       "        ...,\n",
       "        [2.38365494e-02, 5.13324090e-02, 2.57553312e+00, ...,\n",
       "         8.02194305e-02, 4.00000000e+00, 0.00000000e+00],\n",
       "        [1.24858116e-02, 6.19432506e-02, 2.92654422e+00, ...,\n",
       "         5.19480421e-02, 4.00000000e+00, 0.00000000e+00],\n",
       "        [9.08059024e-03, 4.20889185e-02, 2.79588207e+00, ...,\n",
       "         0.00000000e+00, 4.00000000e+00, 0.00000000e+00]]),\n",
       " array([[0.        , 0.        , 0.        , ..., 0.00718799, 5.        ,\n",
       "         1.        ],\n",
       "        [0.37343927, 0.12216777, 3.00133593, ..., 0.00931574, 5.        ,\n",
       "         1.        ],\n",
       "        [0.54370034, 0.20493932, 3.30319598, ..., 0.00574408, 5.        ,\n",
       "         1.        ],\n",
       "        ...,\n",
       "        [0.0215664 , 0.06538827, 2.99013683, ..., 0.06090998, 5.        ,\n",
       "         0.        ],\n",
       "        [0.03859251, 0.05376578, 2.88350773, ..., 0.05714452, 5.        ,\n",
       "         0.        ],\n",
       "        [0.04880817, 0.05524665, 2.77334577, ..., 0.        , 5.        ,\n",
       "         0.        ]]),\n",
       " array([[0.00000000e+00, 0.00000000e+00, 0.00000000e+00, ...,\n",
       "         7.14126135e-02, 6.00000000e+00, 1.00000000e+00],\n",
       "        [8.05902384e-02, 2.87669073e-02, 3.02356219e+00, ...,\n",
       "         5.01133618e-02, 6.00000000e+00, 1.00000000e+00],\n",
       "        [1.04426788e-01, 4.60842998e-02, 2.87077503e+00, ...,\n",
       "         6.64704400e-02, 6.00000000e+00, 1.00000000e+00],\n",
       "        ...,\n",
       "        [1.13507378e-03, 1.21106492e-01, 2.97294663e+00, ...,\n",
       "         8.99811996e-02, 6.00000000e+00, 0.00000000e+00],\n",
       "        [1.13507378e-03, 1.13148380e-01, 2.96855116e+00, ...,\n",
       "         5.41940943e-02, 6.00000000e+00, 0.00000000e+00],\n",
       "        [0.00000000e+00, 1.66451783e-01, 3.24090050e+00, ...,\n",
       "         0.00000000e+00, 6.00000000e+00, 0.00000000e+00]]),\n",
       " array([[0.        , 0.        , 0.        , ..., 0.02270977, 7.        ,\n",
       "         1.        ],\n",
       "        [0.29057889, 0.01144636, 3.16113102, ..., 0.01037999, 7.        ,\n",
       "         1.        ],\n",
       "        [0.4415437 , 0.01622854, 3.26602327, ..., 0.00865463, 7.        ,\n",
       "         1.        ],\n",
       "        ...,\n",
       "        [0.04086266, 0.11318322, 3.29851005, ..., 0.03868577, 7.        ,\n",
       "         0.        ],\n",
       "        [0.03632236, 0.11257355, 3.29721093, ..., 0.04184825, 7.        ,\n",
       "         0.        ],\n",
       "        [0.03064699, 0.10415495, 3.27393668, ..., 0.        , 7.        ,\n",
       "         0.        ]])]"
      ]
     },
     "execution_count": 25,
     "metadata": {},
     "output_type": "execute_result"
    }
   ],
   "source": [
    "xx"
   ]
  },
  {
   "cell_type": "code",
   "execution_count": 26,
   "metadata": {},
   "outputs": [],
   "source": [
    "c = np.concatenate(xx,axis=0)"
   ]
  },
  {
   "cell_type": "code",
   "execution_count": 27,
   "metadata": {},
   "outputs": [
    {
     "data": {
      "text/plain": [
       "(51348, 104)"
      ]
     },
     "execution_count": 27,
     "metadata": {},
     "output_type": "execute_result"
    }
   ],
   "source": [
    "c.shape"
   ]
  },
  {
   "cell_type": "code",
   "execution_count": 31,
   "metadata": {},
   "outputs": [
    {
     "data": {
      "text/plain": [
       "array([ 0.00000000e+00,  0.00000000e+00,  0.00000000e+00,  0.00000000e+00,\n",
       "        0.00000000e+00,  0.00000000e+00,  0.00000000e+00,  0.00000000e+00,\n",
       "        0.00000000e+00,  0.00000000e+00,  0.00000000e+00,  0.00000000e+00,\n",
       "        0.00000000e+00,  0.00000000e+00,  0.00000000e+00,  0.00000000e+00,\n",
       "        0.00000000e+00,  0.00000000e+00,  0.00000000e+00,  0.00000000e+00,\n",
       "        0.00000000e+00,  0.00000000e+00,  0.00000000e+00,  0.00000000e+00,\n",
       "        0.00000000e+00,  0.00000000e+00,  0.00000000e+00,  0.00000000e+00,\n",
       "        0.00000000e+00,  0.00000000e+00,  0.00000000e+00,  0.00000000e+00,\n",
       "        0.00000000e+00,  0.00000000e+00,  2.61066969e-02,  2.38809978e-02,\n",
       "        2.95251418e+00,  1.49146586e-01,  2.39787433e-01,  1.27923699e-01,\n",
       "        0.00000000e+00,  2.26757370e-02, -2.48280482e+01,  2.66526479e+00,\n",
       "        1.05931726e-01,  1.07515522e-01,  1.66281890e-01,  2.73602186e-01,\n",
       "        2.19841888e-01,  1.37654325e-01, -9.98709153e-02, -4.28346715e-02,\n",
       "       -1.32253766e-01, -1.16317422e-02,  9.16631669e-02,  7.50034576e-03,\n",
       "        5.05958735e-04,  1.21885153e-02,  4.53544475e-04,  2.20294192e-02,\n",
       "        2.12379041e-02,  2.34852871e-04,  3.14306973e-04,  8.91842507e-03,\n",
       "        1.55954675e-03,  1.98839549e-01,  4.46688047e-04,  5.36146068e-02,\n",
       "        3.97275823e-02,  1.01813549e-02,  2.79233571e+00,  1.25940058e-01,\n",
       "        2.35431233e-01,  7.49454976e-02,  9.64585096e-03,  2.26757370e-02,\n",
       "       -2.62997525e+01,  3.14619207e+00,  1.47713800e-01, -1.19379148e-01,\n",
       "       -4.57526988e-01,  2.14392855e-01,  1.72030479e-02,  3.21401097e-01,\n",
       "        5.50894906e-01,  1.35671819e-02,  2.50379045e-01, -1.40667531e-01,\n",
       "       -7.72915703e-02,  3.35564344e-02,  5.08924602e-04,  2.11600399e-02,\n",
       "        1.91133331e-04,  1.85636826e-02,  1.13317667e-02,  1.22816343e-04,\n",
       "        9.48859246e-04,  4.10722116e-03,  7.62410316e-04,  1.46623409e-01,\n",
       "        4.38005466e-04,  3.96140269e-02,  0.00000000e+00,  1.00000000e+00])"
      ]
     },
     "execution_count": 31,
     "metadata": {},
     "output_type": "execute_result"
    }
   ],
   "source": [
    "c[0]"
   ]
  },
  {
   "cell_type": "code",
   "execution_count": 32,
   "metadata": {},
   "outputs": [
    {
     "data": {
      "text/plain": [
       "(51348, 104)"
      ]
     },
     "execution_count": 32,
     "metadata": {},
     "output_type": "execute_result"
    }
   ],
   "source": [
    "c.shape"
   ]
  },
  {
   "cell_type": "code",
   "execution_count": 33,
   "metadata": {},
   "outputs": [
    {
     "data": {
      "text/plain": [
       "(51348, 34)"
      ]
     },
     "execution_count": 33,
     "metadata": {},
     "output_type": "execute_result"
    }
   ],
   "source": [
    "c[:,2*nFeatures:3*nFeatures].shape"
   ]
  },
  {
   "cell_type": "code",
   "execution_count": 38,
   "metadata": {},
   "outputs": [],
   "source": [
    "mask = np.zeros(c.shape,dtype=bool)"
   ]
  },
  {
   "cell_type": "code",
   "execution_count": 62,
   "metadata": {},
   "outputs": [
    {
     "data": {
      "text/plain": [
       "(149740, 36)"
      ]
     },
     "execution_count": 62,
     "metadata": {},
     "output_type": "execute_result"
    }
   ],
   "source": [
    "data_NoContxt.shape"
   ]
  },
  {
   "cell_type": "code",
   "execution_count": 63,
   "metadata": {},
   "outputs": [
    {
     "data": {
      "text/plain": [
       "['zcr',\n",
       " 'energy',\n",
       " 'energy_entropy',\n",
       " 'spectral_centroid',\n",
       " 'spectral_spread',\n",
       " 'spectral_entropy',\n",
       " 'spectral_flux',\n",
       " 'spectral_rolloff',\n",
       " 'mfcc_1',\n",
       " 'mfcc_2',\n",
       " 'mfcc_3',\n",
       " 'mfcc_4',\n",
       " 'mfcc_5',\n",
       " 'mfcc_6',\n",
       " 'mfcc_7',\n",
       " 'mfcc_8',\n",
       " 'mfcc_9',\n",
       " 'mfcc_10',\n",
       " 'mfcc_11',\n",
       " 'mfcc_12',\n",
       " 'mfcc_13',\n",
       " 'chroma_1',\n",
       " 'chroma_2',\n",
       " 'chroma_3',\n",
       " 'chroma_4',\n",
       " 'chroma_5',\n",
       " 'chroma_6',\n",
       " 'chroma_7',\n",
       " 'chroma_8',\n",
       " 'chroma_9',\n",
       " 'chroma_10',\n",
       " 'chroma_11',\n",
       " 'chroma_12',\n",
       " 'chroma_std']"
      ]
     },
     "execution_count": 63,
     "metadata": {},
     "output_type": "execute_result"
    }
   ],
   "source": [
    "lFeatures_names"
   ]
  },
  {
   "cell_type": "code",
   "execution_count": 65,
   "metadata": {},
   "outputs": [
    {
     "data": {
      "text/plain": [
       "36"
      ]
     },
     "execution_count": 65,
     "metadata": {},
     "output_type": "execute_result"
    }
   ],
   "source": [
    "len(lFeatures_names+['f','g'])"
   ]
  },
  {
   "cell_type": "code",
   "execution_count": 7,
   "metadata": {},
   "outputs": [
    {
     "data": {
      "text/plain": [
       "[(array([ 18474,  18475,  18476, ..., 149737, 149738, 149739]),\n",
       "  array([    0,     1,     2, ..., 18471, 18472, 18473])),\n",
       " (array([     0,      1,      2, ..., 149737, 149738, 149739]),\n",
       "  array([18474, 18475, 18476, ..., 37453, 37454, 37455])),\n",
       " (array([     0,      1,      2, ..., 149737, 149738, 149739]),\n",
       "  array([37456, 37457, 37458, ..., 56125, 56126, 56127])),\n",
       " (array([     0,      1,      2, ..., 149737, 149738, 149739]),\n",
       "  array([56128, 56129, 56130, ..., 74649, 74650, 74651])),\n",
       " (array([     0,      1,      2, ..., 149737, 149738, 149739]),\n",
       "  array([74652, 74653, 74654, ..., 93173, 93174, 93175])),\n",
       " (array([     0,      1,      2, ..., 149737, 149738, 149739]),\n",
       "  array([ 93176,  93177,  93178, ..., 111995, 111996, 111997])),\n",
       " (array([     0,      1,      2, ..., 149737, 149738, 149739]),\n",
       "  array([111998, 111999, 112000, ..., 130867, 130868, 130869])),\n",
       " (array([     0,      1,      2, ..., 130867, 130868, 130869]),\n",
       "  array([130870, 130871, 130872, ..., 149737, 149738, 149739]))]"
      ]
     },
     "execution_count": 7,
     "metadata": {},
     "output_type": "execute_result"
    }
   ],
   "source": [
    "list(spliter.split(X,y,groups))"
   ]
  },
  {
   "cell_type": "code",
   "execution_count": null,
   "metadata": {},
   "outputs": [],
   "source": []
  }
 ],
 "metadata": {
  "kernelspec": {
   "display_name": "Python 3",
   "language": "python",
   "name": "python3"
  },
  "language_info": {
   "codemirror_mode": {
    "name": "ipython",
    "version": 3
   },
   "file_extension": ".py",
   "mimetype": "text/x-python",
   "name": "python",
   "nbconvert_exporter": "python",
   "pygments_lexer": "ipython3",
   "version": "3.7.6"
  }
 },
 "nbformat": 4,
 "nbformat_minor": 4
}
